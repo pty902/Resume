{
 "cells": [
  {
   "cell_type": "code",
   "execution_count": 1,
   "metadata": {
    "collapsed": true
   },
   "outputs": [],
   "source": [
    "import requests\n",
    "import xml.etree.cElementTree as ET\n",
    "# xml파일을 파싱하기위해 elementtree 모듈을 사용"
   ]
  },
  {
   "cell_type": "code",
   "execution_count": 2,
   "metadata": {},
   "outputs": [
    {
     "name": "stdout",
     "output_type": "stream",
     "text": [
      "<data>\n",
      "    <country name=\"Liechtenstein\">\n",
      "        <rank>1</rank>\n",
      "        <year>2008</year>\n",
      "        <gdppc>141100</gdppc>\n",
      "        <neighbor direction=\"E\" name=\"Austria\" />\n",
      "        <neighbor direction=\"W\" name=\"Switzerland\" />\n",
      "    </country>\n",
      "    <country name=\"Singapore\">\n",
      "        <rank>4</rank>\n",
      "        <year>2011</year>\n",
      "        <gdppc>59900</gdppc>\n",
      "        <neighbor direction=\"N\" name=\"Malaysia\" />\n",
      "    </country>\n",
      "    <country name=\"Panama\">\n",
      "        <rank>68</rank>\n",
      "        <year>2011</year>\n",
      "        <gdppc>13600</gdppc>\n",
      "        <neighbor direction=\"W\" name=\"Costa Rica\" />\n",
      "        <neighbor direction=\"E\" name=\"Colombia\" />\n",
      "    </country>\n",
      "</data>\n"
     ]
    }
   ],
   "source": [
    "xmID = ET.parse('../data/ex.xml')\n",
    "root = xmID.getroot()\n",
    "ET.dump(xmID)\n",
    "# ex.xml파일을 읽음"
   ]
  },
  {
   "cell_type": "code",
   "execution_count": 3,
   "metadata": {},
   "outputs": [
    {
     "name": "stdout",
     "output_type": "stream",
     "text": [
      "country {'name': 'Liechtenstein'}\n",
      "--> rank {}\n",
      "--> year {}\n",
      "--> gdppc {}\n",
      "--> neighbor {'name': 'Austria', 'direction': 'E'}\n",
      "--> neighbor {'name': 'Switzerland', 'direction': 'W'}\n",
      "country {'name': 'Singapore'}\n",
      "--> rank {}\n",
      "--> year {}\n",
      "--> gdppc {}\n",
      "--> neighbor {'name': 'Malaysia', 'direction': 'N'}\n",
      "country {'name': 'Panama'}\n",
      "--> rank {}\n",
      "--> year {}\n",
      "--> gdppc {}\n",
      "--> neighbor {'name': 'Costa Rica', 'direction': 'W'}\n",
      "--> neighbor {'name': 'Colombia', 'direction': 'E'}\n"
     ]
    }
   ],
   "source": [
    "for child in root:\n",
    "    print(child.tag, child.attrib)\n",
    "    for children in child:\n",
    "        print('-->', children.tag, children.attrib)\n",
    "# element와 그 element의 attribute들과 tag를 읽음        "
   ]
  },
  {
   "cell_type": "code",
   "execution_count": 4,
   "metadata": {},
   "outputs": [
    {
     "name": "stdout",
     "output_type": "stream",
     "text": [
      "{'name': 'Austria', 'direction': 'E'}\n",
      "{'name': 'Switzerland', 'direction': 'W'}\n",
      "{'name': 'Malaysia', 'direction': 'N'}\n",
      "{'name': 'Costa Rica', 'direction': 'W'}\n",
      "{'name': 'Colombia', 'direction': 'E'}\n"
     ]
    }
   ],
   "source": [
    "for neighbor in root.iter('neighbor'):\n",
    "    print(neighbor.attrib)\n",
    "# Element.iter()함수를 이용해서 원하는 element만 봄"
   ]
  },
  {
   "cell_type": "code",
   "execution_count": 5,
   "metadata": {},
   "outputs": [
    {
     "name": "stdout",
     "output_type": "stream",
     "text": [
      "Liechtenstein 1\n",
      "Singapore 4\n",
      "Panama 68\n"
     ]
    }
   ],
   "source": [
    "for country in root.findall('country'):\n",
    "    rank = country.find('rank').text\n",
    "    name = country.get('name')\n",
    "    print(name, rank)\n",
    "# country name과 rank text만 봄"
   ]
  },
  {
   "cell_type": "code",
   "execution_count": 6,
   "metadata": {},
   "outputs": [
    {
     "name": "stdout",
     "output_type": "stream",
     "text": [
      "<data>\n",
      "    <country name=\"Liechtenstein\">\n",
      "        <rank updated=\"yes\">2</rank>\n",
      "        <year>2008</year>\n",
      "        <gdppc>141100</gdppc>\n",
      "        <neighbor direction=\"E\" name=\"Austria\" />\n",
      "        <neighbor direction=\"W\" name=\"Switzerland\" />\n",
      "    </country>\n",
      "    <country name=\"Singapore\">\n",
      "        <rank updated=\"yes\">5</rank>\n",
      "        <year>2011</year>\n",
      "        <gdppc>59900</gdppc>\n",
      "        <neighbor direction=\"N\" name=\"Malaysia\" />\n",
      "    </country>\n",
      "    <country name=\"Panama\">\n",
      "        <rank updated=\"yes\">69</rank>\n",
      "        <year>2011</year>\n",
      "        <gdppc>13600</gdppc>\n",
      "        <neighbor direction=\"W\" name=\"Costa Rica\" />\n",
      "        <neighbor direction=\"E\" name=\"Colombia\" />\n",
      "    </country>\n",
      "</data>\n"
     ]
    }
   ],
   "source": [
    "for rank in root.iter('rank'):\n",
    "    new_rank = int(rank.text) + 1\n",
    "    rank.text = str(new_rank)\n",
    "    rank.set('updated', 'yes')\n",
    "xmID.write('output.xml')\n",
    "ET.dump(xmID)\n",
    "# rank.text를 int화 시켜 +1을 해준후 다시 str화여 저장"
   ]
  },
  {
   "cell_type": "code",
   "execution_count": 7,
   "metadata": {
    "collapsed": true
   },
   "outputs": [],
   "source": [
    "url ='http://apis.data.go.kr/B551182/diseaseInfoService/getDissByGenderAgeStats?year=2014&sickCd=J45&sickType=1&medTp=2&numOfRows=21&\\\n",
    "ServiceKey=****************************************************************************************************'\n",
    "url2 ='http://apis.data.go.kr/B551182/diseaseInfoService/getDissNameCodeList?sickType=1&medTp=2&diseaseType=SICK_NM&searchText=병적 골절을&\\\n",
    "ServiceKey=****************************************************************************************************'\n",
    "url3 ='http://apis.data.go.kr/B551182/diseaseInfoService/getDissByHsptlzFrgnStats?year=2014&sickCd=J45&sickType=1&medTp=2&\\\n",
    "ServiceKey=****************************************************************************************************'\n",
    "url4 ='http://apis.data.go.kr/B551182/diseaseInfoService/getDissByClassesStats?year=2014&sickCd=J45&sickType=1&medTp=2&\\\n",
    "ServiceKey=****************************************************************************************************'\n",
    "url5 ='http://apis.data.go.kr/B551182/diseaseInfoService/getDissByAreaStats?year=2014&sickCd=J45&sickType=1&medTp=2&numOfRows=18&\\\n",
    "ServiceKey=****************************************************************************************************'\n",
    "# 공공데이터포털 질병정보서비스 OpenAPI사용"
   ]
  },
  {
   "cell_type": "code",
   "execution_count": 8,
   "metadata": {},
   "outputs": [
    {
     "data": {
      "text/plain": [
       "'<?xml version=\"1.0\" encoding=\"UTF-8\" standalone=\"yes\"?><response><header><resultCode>00</resultCode><resultMsg>NORMAL SERVICE.</resultMsg></header><body><items><item><age>전체</age><diagAmt01>         127,469,000[2013]</diagAmt01><diagAmt02>         140,291,223[2012]</diagAmt02><diagAmt03>         159,820,410[2011]</diagAmt03><pintCnt01>           1,853,656[2013]</pintCnt01><pintCnt02>           2,074,482[2012]</pintCnt02><pintCnt03>           2,199,501[2011]</pintCnt03><rnum>1</rnum><sickCd>J45</sickCd><sickNm>천식</sickNm><vstDdCnt01>           6,103,693[2013]</vstDdCnt01><vstDdCnt02>           7,208,364[2012]</vstDdCnt02><vstDdCnt03>           8,220,046[2011]</vstDdCnt03></item><item><age>전체</age><diagAmt01>          56,915,881[2013]</diagAmt01><diagAmt02>          63,954,906[2012]</diagAmt02><diagAmt03>          75,607,221[2011]</diagAmt03><pintCnt01>             860,128[2013]</pintCnt01><pintCnt02>             955,841[2012]</pintCnt02><pintCnt03>           1,024,092[2011]</pintCnt03><rnum>2</rnum><sex>male</sex><sickCd>J45</sickCd><sickNm>천식</sickNm><vstDdCnt01>           2,894,335[2013]</vstDdCnt01><vstDdCnt02>           3,453,146[2012]</vstDdCnt02><vstDdCnt03>           4,018,088[2011]</vstDdCnt03></item><item><age>10세미만</age><diagAmt01>          23,894,698[2013]</diagAmt01><diagAmt02>          28,745,646[2012]</diagAmt02><diagAmt03>          35,970,014[2011]</diagAmt03><pintCnt01>             388,479[2013]</pintCnt01><pintCnt02>             423,939[2012]</pintCnt02><pintCnt03>             483,679[2011]</pintCnt03><rnum>3</rnum><sex>male</sex><sickCd>J45</sickCd><sickNm>천식</sickNm><vstDdCnt01>           1,429,239[2013]</vstDdCnt01><vstDdCnt02>           1,809,937[2012]</vstDdCnt02><vstDdCnt03>           2,231,639[2011]</vstDdCnt03></item><item><age>10~19세</age><diagAmt01>           3,546,344[2013]</diagAmt01><diagAmt02>           4,111,260[2012]</diagAmt02><diagAmt03>           5,079,224[2011]</diagAmt03><pintCnt01>              74,515[2013]</pintCnt01><pintCnt02>              91,284[2012]</pintCnt02><pintCnt03>             106,054[2011]</pintCnt03><rnum>4</rnum><sex>male</sex><sickCd>J45</sickCd><sickNm>천식</sickNm><vstDdCnt01>             173,604[2013]</vstDdCnt01><vstDdCnt02>             216,550[2012]</vstDdCnt02><vstDdCnt03>             266,150[2011]</vstDdCnt03></item><item><age>20~29세</age><diagAmt01>           1,798,268[2013]</diagAmt01><diagAmt02>           1,822,439[2012]</diagAmt02><diagAmt03>           2,116,850[2011]</diagAmt03><pintCnt01>              36,875[2013]</pintCnt01><pintCnt02>              41,622[2012]</pintCnt02><pintCnt03>              41,488[2011]</pintCnt03><rnum>5</rnum><sex>male</sex><sickCd>J45</sickCd><sickNm>천식</sickNm><vstDdCnt01>              71,915[2013]</vstDdCnt01><vstDdCnt02>              79,645[2012]</vstDdCnt02><vstDdCnt03>              85,340[2011]</vstDdCnt03></item><item><age>30~39세</age><diagAmt01>           2,801,029[2013]</diagAmt01><diagAmt02>           2,926,471[2012]</diagAmt02><diagAmt03>           3,211,219[2011]</diagAmt03><pintCnt01>              58,048[2013]</pintCnt01><pintCnt02>              66,456[2012]</pintCnt02><pintCnt03>              66,591[2011]</pintCnt03><rnum>6</rnum><sex>male</sex><sickCd>J45</sickCd><sickNm>천식</sickNm><vstDdCnt01>             125,134[2013]</vstDdCnt01><vstDdCnt02>             140,910[2012]</vstDdCnt02><vstDdCnt03>             149,086[2011]</vstDdCnt03></item><item><age>40~49세</age><diagAmt01>           3,281,505[2013]</diagAmt01><diagAmt02>           3,439,008[2012]</diagAmt02><diagAmt03>           3,944,220[2011]</diagAmt03><pintCnt01>              63,590[2013]</pintCnt01><pintCnt02>              72,227[2012]</pintCnt02><pintCnt03>              72,460[2011]</pintCnt03><rnum>7</rnum><sex>male</sex><sickCd>J45</sickCd><sickNm>천식</sickNm><vstDdCnt01>             155,044[2013]</vstDdCnt01><vstDdCnt02>             172,902[2012]</vstDdCnt02><vstDdCnt03>             185,998[2011]</vstDdCnt03></item><item><age>50~59세</age><diagAmt01>           4,787,323[2013]</diagAmt01><diagAmt02>           4,937,599[2012]</diagAmt02><diagAmt03>           5,443,246[2011]</diagAmt03><pintCnt01>              77,350[2013]</pintCnt01><pintCnt02>              85,721[2012]</pintCnt02><pintCnt03>              84,195[2011]</pintCnt03><rnum>8</rnum><sex>male</sex><sickCd>J45</sickCd><sickNm>천식</sickNm><vstDdCnt01>             222,253[2013]</vstDdCnt01><vstDdCnt02>             245,017[2012]</vstDdCnt02><vstDdCnt03>             262,080[2011]</vstDdCnt03></item><item><age>60~69세</age><diagAmt01>           5,751,422[2013]</diagAmt01><diagAmt02>           6,475,996[2012]</diagAmt02><diagAmt03>           7,632,933[2011]</diagAmt03><pintCnt01>              76,768[2013]</pintCnt01><pintCnt02>              86,190[2012]</pintCnt02><pintCnt03>              86,992[2011]</pintCnt03><rnum>9</rnum><sex>male</sex><sickCd>J45</sickCd><sickNm>천식</sickNm><vstDdCnt01>             271,911[2013]</vstDdCnt01><vstDdCnt02>             312,202[2012]</vstDdCnt02><vstDdCnt03>             347,395[2011]</vstDdCnt03></item><item><age>70~79세</age><diagAmt01>           7,035,229[2013]</diagAmt01><diagAmt02>           7,551,665[2012]</diagAmt02><diagAmt03>           8,411,069[2011]</diagAmt03><pintCnt01>              72,351[2013]</pintCnt01><pintCnt02>              77,651[2012]</pintCnt02><pintCnt03>              73,714[2011]</pintCnt03><rnum>10</rnum><sex>male</sex><sickCd>J45</sickCd><sickNm>천식</sickNm><vstDdCnt01>             326,821[2013]</vstDdCnt01><vstDdCnt02>             354,959[2012]</vstDdCnt02><vstDdCnt03>             370,456[2011]</vstDdCnt03></item><item><age>80세이상</age><diagAmt01>           4,020,063[2013]</diagAmt01><diagAmt02>           3,944,822[2012]</diagAmt02><diagAmt03>           3,798,447[2011]</diagAmt03><pintCnt01>              21,058[2013]</pintCnt01><pintCnt02>              21,555[2012]</pintCnt02><pintCnt03>              20,473[2011]</pintCnt03><rnum>11</rnum><sex>male</sex><sickCd>J45</sickCd><sickNm>천식</sickNm><vstDdCnt01>             118,414[2013]</vstDdCnt01><vstDdCnt02>             121,024[2012]</vstDdCnt02><vstDdCnt03>             119,944[2011]</vstDdCnt03></item><item><age>전체</age><diagAmt01>          70,552,720[2013]</diagAmt01><diagAmt02>          76,336,318[2012]</diagAmt02><diagAmt03>          84,213,189[2011]</diagAmt03><pintCnt01>             993,528[2013]</pintCnt01><pintCnt02>           1,118,641[2012]</pintCnt02><pintCnt03>           1,175,409[2011]</pintCnt03><rnum>12</rnum><sex>female</sex><sickCd>J45</sickCd><sickNm>천식</sickNm><vstDdCnt01>           3,209,358[2013]</vstDdCnt01><vstDdCnt02>           3,755,218[2012]</vstDdCnt02><vstDdCnt03>           4,201,958[2011]</vstDdCnt03></item><item><age>10세미만</age><diagAmt01>          17,766,448[2013]</diagAmt01><diagAmt02>          21,611,810[2012]</diagAmt02><diagAmt03>          26,616,726[2011]</diagAmt03><pintCnt01>             312,220[2013]</pintCnt01><pintCnt02>             348,189[2012]</pintCnt02><pintCnt03>             394,273[2011]</pintCnt03><rnum>13</rnum><sex>female</sex><sickCd>J45</sickCd><sickNm>천식</sickNm><vstDdCnt01>           1,098,779[2013]</vstDdCnt01><vstDdCnt02>           1,397,525[2012]</vstDdCnt02><vstDdCnt03>           1,705,607[2011]</vstDdCnt03></item><item><age>10~19세</age><diagAmt01>           2,489,266[2013]</diagAmt01><diagAmt02>           2,876,042[2012]</diagAmt02><diagAmt03>           3,471,532[2011]</diagAmt03><pintCnt01>              56,024[2013]</pintCnt01><pintCnt02>              69,898[2012]</pintCnt02><pintCnt03>              79,740[2011]</pintCnt03><rnum>14</rnum><sex>female</sex><sickCd>J45</sickCd><sickNm>천식</sickNm><vstDdCnt01>             119,662[2013]</vstDdCnt01><vstDdCnt02>             152,795[2012]</vstDdCnt02><vstDdCnt03>             183,713[2011]</vstDdCnt03></item><item><age>20~29세</age><diagAmt01>           2,353,062[2013]</diagAmt01><diagAmt02>           2,563,196[2012]</diagAmt02><diagAmt03>           2,867,875[2011]</diagAmt03><pintCnt01>              51,374[2013]</pintCnt01><pintCnt02>              60,258[2012]</pintCnt02><pintCnt03>              63,467[2011]</pintCnt03><rnum>15</rnum><sex>female</sex><sickCd>J45</sickCd><sickNm>천식</sickNm><vstDdCnt01>              99,353[2013]</vstDdCnt01><vstDdCnt02>             116,079[2012]</vstDdCnt02><vstDdCnt03>             129,539[2011]</vstDdCnt03></item><item><age>30~39세</age><diagAmt01>           4,539,596[2013]</diagAmt01><diagAmt02>           4,828,501[2012]</diagAmt02><diagAmt03>           5,432,590[2011]</diagAmt03><pintCnt01>              97,056[2013]</pintCnt01><pintCnt02>             113,390[2012]</pintCnt02><pintCnt03>             119,148[2011]</pintCnt03><rnum>16</rnum><sex>female</sex><sickCd>J45</sickCd><sickNm>천식</sickNm><vstDdCnt01>             220,918[2013]</vstDdCnt01><vstDdCnt02>             255,760[2012]</vstDdCnt02><vstDdCnt03>             282,822[2011]</vstDdCnt03></item><item><age>40~49세</age><diagAmt01>           5,443,676[2013]</diagAmt01><diagAmt02>           5,849,743[2012]</diagAmt02><diagAmt03>           6,702,929[2011]</diagAmt03><pintCnt01>             102,905[2013]</pintCnt01><pintCnt02>             118,442[2012]</pintCnt02><pintCnt03>             122,928[2011]</pintCnt03><rnum>17</rnum><sex>female</sex><sickCd>J45</sickCd><sickNm>천식</sickNm><vstDdCnt01>             263,067[2013]</vstDdCnt01><vstDdCnt02>             300,834[2012]</vstDdCnt02><vstDdCnt03>             330,470[2011]</vstDdCnt03></item><item><age>50~59세</age><diagAmt01>           8,782,181[2013]</diagAmt01><diagAmt02>           9,019,653[2012]</diagAmt02><diagAmt03>           9,947,997[2011]</diagAmt03><pintCnt01>             130,337[2013]</pintCnt01><pintCnt02>             144,172[2012]</pintCnt02><pintCnt03>             143,797[2011]</pintCnt03><rnum>18</rnum><sex>female</sex><sickCd>J45</sickCd><sickNm>천식</sickNm><vstDdCnt01>             379,657[2013]</vstDdCnt01><vstDdCnt02>             420,466[2012]</vstDdCnt02><vstDdCnt03>             448,717[2011]</vstDdCnt03></item><item><age>60~69세</age><diagAmt01>           8,007,584[2013]</diagAmt01><diagAmt02>           8,683,559[2012]</diagAmt02><diagAmt03>           9,627,438[2011]</diagAmt03><pintCnt01>             111,226[2013]</pintCnt01><pintCnt02>             124,867[2012]</pintCnt02><pintCnt03>             124,722[2011]</pintCnt03><rnum>19</rnum><sex>female</sex><sickCd>J45</sickCd><sickNm>천식</sickNm><vstDdCnt01>             367,431[2013]</vstDdCnt01><vstDdCnt02>             417,916[2012]</vstDdCnt02><vstDdCnt03>             451,308[2011]</vstDdCnt03></item><item><age>70~79세</age><diagAmt01>          10,520,754[2013]</diagAmt01><diagAmt02>          11,633,104[2012]</diagAmt02><diagAmt03>          11,468,634[2011]</diagAmt03><pintCnt01>             103,403[2013]</pintCnt01><pintCnt02>             111,036[2012]</pintCnt02><pintCnt03>             102,958[2011]</pintCnt03><rnum>20</rnum><sex>female</sex><sickCd>J45</sickCd><sickNm>천식</sickNm><vstDdCnt01>             418,285[2013]</vstDdCnt01><vstDdCnt02>             459,971[2012]</vstDdCnt02><vstDdCnt03>             452,263[2011]</vstDdCnt03></item><item><age>80세이상</age><diagAmt01>          10,650,153[2013]</diagAmt01><diagAmt02>           9,270,708[2012]</diagAmt02><diagAmt03>           8,077,467[2011]</diagAmt03><pintCnt01>              39,427[2013]</pintCnt01><pintCnt02>              41,339[2012]</pintCnt02><pintCnt03>              37,912[2011]</pintCnt03><rnum>21</rnum><sex>female</sex><sickCd>J45</sickCd><sickNm>천식</sickNm><vstDdCnt01>             242,206[2013]</vstDdCnt01><vstDdCnt02>             233,872[2012]</vstDdCnt02><vstDdCnt03>             217,519[2011]</vstDdCnt03></item></items><numOfRows>21</numOfRows><pageNo>1</pageNo><totalCount>21</totalCount></body></response>'"
      ]
     },
     "execution_count": 8,
     "metadata": {},
     "output_type": "execute_result"
    }
   ],
   "source": [
    "res = requests.get(url)\n",
    "text = res.text\n",
    "text"
   ]
  },
  {
   "cell_type": "code",
   "execution_count": 12,
   "metadata": {},
   "outputs": [
    {
     "name": "stdout",
     "output_type": "stream",
     "text": [
      "전체         127,469,000[2013]         140,291,223[2012]         159,820,410[2011]           1,853,656[2013]           2,074,482[2012]           2,199,501[2011]1J45천식           6,103,693[2013]           7,208,364[2012]           8,220,046[2011]\n",
      "전체          56,915,881[2013]          63,954,906[2012]          75,607,221[2011]             860,128[2013]             955,841[2012]           1,024,092[2011]2maleJ45천식           2,894,335[2013]           3,453,146[2012]           4,018,088[2011]\n",
      "10세미만          23,894,698[2013]          28,745,646[2012]          35,970,014[2011]             388,479[2013]             423,939[2012]             483,679[2011]3maleJ45천식           1,429,239[2013]           1,809,937[2012]           2,231,639[2011]\n",
      "10~19세           3,546,344[2013]           4,111,260[2012]           5,079,224[2011]              74,515[2013]              91,284[2012]             106,054[2011]4maleJ45천식             173,604[2013]             216,550[2012]             266,150[2011]\n",
      "20~29세           1,798,268[2013]           1,822,439[2012]           2,116,850[2011]              36,875[2013]              41,622[2012]              41,488[2011]5maleJ45천식              71,915[2013]              79,645[2012]              85,340[2011]\n",
      "30~39세           2,801,029[2013]           2,926,471[2012]           3,211,219[2011]              58,048[2013]              66,456[2012]              66,591[2011]6maleJ45천식             125,134[2013]             140,910[2012]             149,086[2011]\n",
      "40~49세           3,281,505[2013]           3,439,008[2012]           3,944,220[2011]              63,590[2013]              72,227[2012]              72,460[2011]7maleJ45천식             155,044[2013]             172,902[2012]             185,998[2011]\n",
      "50~59세           4,787,323[2013]           4,937,599[2012]           5,443,246[2011]              77,350[2013]              85,721[2012]              84,195[2011]8maleJ45천식             222,253[2013]             245,017[2012]             262,080[2011]\n",
      "60~69세           5,751,422[2013]           6,475,996[2012]           7,632,933[2011]              76,768[2013]              86,190[2012]              86,992[2011]9maleJ45천식             271,911[2013]             312,202[2012]             347,395[2011]\n",
      "70~79세           7,035,229[2013]           7,551,665[2012]           8,411,069[2011]              72,351[2013]              77,651[2012]              73,714[2011]10maleJ45천식             326,821[2013]             354,959[2012]             370,456[2011]\n",
      "80세이상           4,020,063[2013]           3,944,822[2012]           3,798,447[2011]              21,058[2013]              21,555[2012]              20,473[2011]11maleJ45천식             118,414[2013]             121,024[2012]             119,944[2011]\n",
      "전체          70,552,720[2013]          76,336,318[2012]          84,213,189[2011]             993,528[2013]           1,118,641[2012]           1,175,409[2011]12femaleJ45천식           3,209,358[2013]           3,755,218[2012]           4,201,958[2011]\n",
      "10세미만          17,766,448[2013]          21,611,810[2012]          26,616,726[2011]             312,220[2013]             348,189[2012]             394,273[2011]13femaleJ45천식           1,098,779[2013]           1,397,525[2012]           1,705,607[2011]\n",
      "10~19세           2,489,266[2013]           2,876,042[2012]           3,471,532[2011]              56,024[2013]              69,898[2012]              79,740[2011]14femaleJ45천식             119,662[2013]             152,795[2012]             183,713[2011]\n",
      "20~29세           2,353,062[2013]           2,563,196[2012]           2,867,875[2011]              51,374[2013]              60,258[2012]              63,467[2011]15femaleJ45천식              99,353[2013]             116,079[2012]             129,539[2011]\n",
      "30~39세           4,539,596[2013]           4,828,501[2012]           5,432,590[2011]              97,056[2013]             113,390[2012]             119,148[2011]16femaleJ45천식             220,918[2013]             255,760[2012]             282,822[2011]\n",
      "40~49세           5,443,676[2013]           5,849,743[2012]           6,702,929[2011]             102,905[2013]             118,442[2012]             122,928[2011]17femaleJ45천식             263,067[2013]             300,834[2012]             330,470[2011]\n",
      "50~59세           8,782,181[2013]           9,019,653[2012]           9,947,997[2011]             130,337[2013]             144,172[2012]             143,797[2011]18femaleJ45천식             379,657[2013]             420,466[2012]             448,717[2011]\n",
      "60~69세           8,007,584[2013]           8,683,559[2012]           9,627,438[2011]             111,226[2013]             124,867[2012]             124,722[2011]19femaleJ45천식             367,431[2013]             417,916[2012]             451,308[2011]\n",
      "70~79세          10,520,754[2013]          11,633,104[2012]          11,468,634[2011]             103,403[2013]             111,036[2012]             102,958[2011]20femaleJ45천식             418,285[2013]             459,971[2012]             452,263[2011]\n",
      "80세이상          10,650,153[2013]           9,270,708[2012]           8,077,467[2011]              39,427[2013]              41,339[2012]              37,912[2011]21femaleJ45천식             242,206[2013]             233,872[2012]             217,519[2011]\n"
     ]
    }
   ],
   "source": [
    "from bs4 import BeautifulSoup\n",
    "import urllib.request\n",
    "req = urllib.request.urlopen(url)\n",
    "xml = BeautifulSoup(req, 'xml')\n",
    "for item in xml.findAll('item'):\n",
    "    print(item.text)\n",
    "# 질병성별연령별통계 찾는 코드\n",
    "# item 클래스의 text만 추출함    "
   ]
  },
  {
   "cell_type": "code",
   "execution_count": 13,
   "metadata": {},
   "outputs": [
    {
     "data": {
      "text/plain": [
       "21"
      ]
     },
     "execution_count": 13,
     "metadata": {},
     "output_type": "execute_result"
    }
   ],
   "source": [
    "len(xml.findAll('item'))"
   ]
  },
  {
   "cell_type": "code",
   "execution_count": 14,
   "metadata": {},
   "outputs": [
    {
     "name": "stdout",
     "output_type": "stream",
     "text": [
      "<item><age>전체</age><diagAmt01>         127,469,000[2013]</diagAmt01><diagAmt02>         140,291,223[2012]</diagAmt02><diagAmt03>         159,820,410[2011]</diagAmt03><pintCnt01>           1,853,656[2013]</pintCnt01><pintCnt02>           2,074,482[2012]</pintCnt02><pintCnt03>           2,199,501[2011]</pintCnt03><rnum>1</rnum><sickCd>J45</sickCd><sickNm>천식</sickNm><vstDdCnt01>           6,103,693[2013]</vstDdCnt01><vstDdCnt02>           7,208,364[2012]</vstDdCnt02><vstDdCnt03>           8,220,046[2011]</vstDdCnt03></item>\n"
     ]
    }
   ],
   "source": [
    "print(xml.findAll('item')[0])"
   ]
  },
  {
   "cell_type": "code",
   "execution_count": 15,
   "metadata": {},
   "outputs": [
    {
     "data": {
      "text/plain": [
       "bs4.element.Tag"
      ]
     },
     "execution_count": 15,
     "metadata": {},
     "output_type": "execute_result"
    }
   ],
   "source": [
    "tmp_one = xml.find_all('item')[0]\n",
    "type(tmp_one)\n",
    "# find_all로 찾은 결과는 bs4.element.Tag라고하는 형태가됨\n",
    "# 이 형태는 변수에 다시 태그로 찾는 find find_all 명령을 사용 할 수 있음"
   ]
  },
  {
   "cell_type": "code",
   "execution_count": 16,
   "metadata": {},
   "outputs": [
    {
     "data": {
      "text/plain": [
       "<age>전체</age>"
      ]
     },
     "execution_count": 16,
     "metadata": {},
     "output_type": "execute_result"
    }
   ],
   "source": [
    "tmp_one.find('age')"
   ]
  },
  {
   "cell_type": "code",
   "execution_count": 17,
   "metadata": {},
   "outputs": [
    {
     "data": {
      "text/plain": [
       "'전체'"
      ]
     },
     "execution_count": 17,
     "metadata": {},
     "output_type": "execute_result"
    }
   ],
   "source": [
    "tmp_one.find('age').get_text()"
   ]
  },
  {
   "cell_type": "code",
   "execution_count": 18,
   "metadata": {},
   "outputs": [
    {
     "data": {
      "text/plain": [
       "'         127,469,000[2013]'"
      ]
     },
     "execution_count": 18,
     "metadata": {},
     "output_type": "execute_result"
    }
   ],
   "source": [
    "tmp_one.find('diagAmt01').get_text()"
   ]
  },
  {
   "cell_type": "code",
   "execution_count": 19,
   "metadata": {},
   "outputs": [
    {
     "data": {
      "text/plain": [
       "'         140,291,223[2012]'"
      ]
     },
     "execution_count": 19,
     "metadata": {},
     "output_type": "execute_result"
    }
   ],
   "source": [
    "tmp_one.find('diagAmt02').get_text()"
   ]
  },
  {
   "cell_type": "code",
   "execution_count": 20,
   "metadata": {},
   "outputs": [
    {
     "data": {
      "text/plain": [
       "'         159,820,410[2011]'"
      ]
     },
     "execution_count": 20,
     "metadata": {},
     "output_type": "execute_result"
    }
   ],
   "source": [
    "tmp_one.find('diagAmt03').get_text()"
   ]
  },
  {
   "cell_type": "code",
   "execution_count": 21,
   "metadata": {},
   "outputs": [
    {
     "data": {
      "text/plain": [
       "'           1,853,656[2013]'"
      ]
     },
     "execution_count": 21,
     "metadata": {},
     "output_type": "execute_result"
    }
   ],
   "source": [
    "tmp_one.find('pintCnt01').get_text()"
   ]
  },
  {
   "cell_type": "code",
   "execution_count": 22,
   "metadata": {},
   "outputs": [
    {
     "data": {
      "text/plain": [
       "'           2,074,482[2012]'"
      ]
     },
     "execution_count": 22,
     "metadata": {},
     "output_type": "execute_result"
    }
   ],
   "source": [
    "tmp_one.find('pintCnt02').get_text()"
   ]
  },
  {
   "cell_type": "code",
   "execution_count": 23,
   "metadata": {},
   "outputs": [
    {
     "data": {
      "text/plain": [
       "'           2,199,501[2011]'"
      ]
     },
     "execution_count": 23,
     "metadata": {},
     "output_type": "execute_result"
    }
   ],
   "source": [
    "tmp_one.find('pintCnt03').get_text()"
   ]
  },
  {
   "cell_type": "code",
   "execution_count": 24,
   "metadata": {},
   "outputs": [
    {
     "data": {
      "text/plain": [
       "'J45'"
      ]
     },
     "execution_count": 24,
     "metadata": {},
     "output_type": "execute_result"
    }
   ],
   "source": [
    "tmp_one.find('sickCd').get_text()"
   ]
  },
  {
   "cell_type": "code",
   "execution_count": 25,
   "metadata": {},
   "outputs": [
    {
     "data": {
      "text/plain": [
       "'천식'"
      ]
     },
     "execution_count": 25,
     "metadata": {},
     "output_type": "execute_result"
    }
   ],
   "source": [
    "tmp_one.find('sickNm').get_text()"
   ]
  },
  {
   "cell_type": "code",
   "execution_count": 26,
   "metadata": {},
   "outputs": [
    {
     "data": {
      "text/plain": [
       "'           6,103,693[2013]'"
      ]
     },
     "execution_count": 26,
     "metadata": {},
     "output_type": "execute_result"
    }
   ],
   "source": [
    "tmp_one.find('vstDdCnt01').get_text()"
   ]
  },
  {
   "cell_type": "code",
   "execution_count": 27,
   "metadata": {},
   "outputs": [
    {
     "data": {
      "text/plain": [
       "'           7,208,364[2012]'"
      ]
     },
     "execution_count": 27,
     "metadata": {},
     "output_type": "execute_result"
    }
   ],
   "source": [
    "tmp_one.find('vstDdCnt02').get_text()"
   ]
  },
  {
   "cell_type": "code",
   "execution_count": 28,
   "metadata": {},
   "outputs": [
    {
     "data": {
      "text/plain": [
       "'           8,220,046[2011]'"
      ]
     },
     "execution_count": 28,
     "metadata": {},
     "output_type": "execute_result"
    }
   ],
   "source": [
    "tmp_one.find('vstDdCnt03').get_text()"
   ]
  },
  {
   "cell_type": "code",
   "execution_count": 29,
   "metadata": {},
   "outputs": [],
   "source": [
    "age = []\n",
    "diagAmt01 = []\n",
    "diagAmt02 = []\n",
    "diagAmt03 = []\n",
    "pintCnt01 = []\n",
    "pintCnt02 = []\n",
    "pintCnt03 = []\n",
    "sickCd = []\n",
    "sickNm = []\n",
    "vstDdCnt01 = []\n",
    "vstDdCnt02 = []\n",
    "vstDdCnt03 = []\n",
    "\n",
    "list_soup = xml.find_all('item')\n",
    "\n",
    "for item in list_soup:\n",
    "    age.append(item.find('age').get_text())\n",
    "    diagAmt01.append(item.find('diagAmt01').get_text())\n",
    "    diagAmt02.append(item.find('diagAmt02').get_text())\n",
    "    diagAmt03.append(item.find('diagAmt03').get_text())\n",
    "    pintCnt01.append(item.find('pintCnt01').get_text())\n",
    "    pintCnt02.append(item.find('pintCnt02').get_text())\n",
    "    pintCnt03.append(item.find('pintCnt03').get_text())\n",
    "    sickCd.append(item.find('sickCd').get_text())\n",
    "    sickNm.append(item.find('sickNm').get_text())\n",
    "    vstDdCnt01.append(item.find('vstDdCnt01').get_text())\n",
    "    vstDdCnt02.append(item.find('vstDdCnt02').get_text())\n",
    "    vstDdCnt03.append(item.find('vstDdCnt03').get_text())\n",
    "# 클래스별로 값을 리스트에 추가함    "
   ]
  },
  {
   "cell_type": "code",
   "execution_count": 30,
   "metadata": {},
   "outputs": [
    {
     "data": {
      "text/plain": [
       "['전체', '전체', '10세미만', '10~19세', '20~29세']"
      ]
     },
     "execution_count": 30,
     "metadata": {},
     "output_type": "execute_result"
    }
   ],
   "source": [
    "age[:5]"
   ]
  },
  {
   "cell_type": "code",
   "execution_count": 31,
   "metadata": {},
   "outputs": [
    {
     "data": {
      "text/plain": [
       "['         127,469,000[2013]',\n",
       " '          56,915,881[2013]',\n",
       " '          23,894,698[2013]',\n",
       " '           3,546,344[2013]',\n",
       " '           1,798,268[2013]']"
      ]
     },
     "execution_count": 31,
     "metadata": {},
     "output_type": "execute_result"
    }
   ],
   "source": [
    "diagAmt01[:5]"
   ]
  },
  {
   "cell_type": "code",
   "execution_count": 32,
   "metadata": {},
   "outputs": [
    {
     "data": {
      "text/plain": [
       "['         140,291,223[2012]',\n",
       " '          63,954,906[2012]',\n",
       " '          28,745,646[2012]',\n",
       " '           4,111,260[2012]',\n",
       " '           1,822,439[2012]']"
      ]
     },
     "execution_count": 32,
     "metadata": {},
     "output_type": "execute_result"
    }
   ],
   "source": [
    "diagAmt02[:5]"
   ]
  },
  {
   "cell_type": "code",
   "execution_count": 33,
   "metadata": {},
   "outputs": [
    {
     "data": {
      "text/plain": [
       "['         159,820,410[2011]',\n",
       " '          75,607,221[2011]',\n",
       " '          35,970,014[2011]',\n",
       " '           5,079,224[2011]',\n",
       " '           2,116,850[2011]']"
      ]
     },
     "execution_count": 33,
     "metadata": {},
     "output_type": "execute_result"
    }
   ],
   "source": [
    "diagAmt03[:5]"
   ]
  },
  {
   "cell_type": "code",
   "execution_count": 34,
   "metadata": {},
   "outputs": [
    {
     "data": {
      "text/plain": [
       "['           1,853,656[2013]',\n",
       " '             860,128[2013]',\n",
       " '             388,479[2013]',\n",
       " '              74,515[2013]',\n",
       " '              36,875[2013]']"
      ]
     },
     "execution_count": 34,
     "metadata": {},
     "output_type": "execute_result"
    }
   ],
   "source": [
    "pintCnt01[:5]"
   ]
  },
  {
   "cell_type": "code",
   "execution_count": 35,
   "metadata": {},
   "outputs": [
    {
     "data": {
      "text/plain": [
       "['           2,074,482[2012]',\n",
       " '             955,841[2012]',\n",
       " '             423,939[2012]',\n",
       " '              91,284[2012]',\n",
       " '              41,622[2012]']"
      ]
     },
     "execution_count": 35,
     "metadata": {},
     "output_type": "execute_result"
    }
   ],
   "source": [
    "pintCnt02[:5]"
   ]
  },
  {
   "cell_type": "code",
   "execution_count": 36,
   "metadata": {},
   "outputs": [
    {
     "data": {
      "text/plain": [
       "['           2,199,501[2011]',\n",
       " '           1,024,092[2011]',\n",
       " '             483,679[2011]',\n",
       " '             106,054[2011]',\n",
       " '              41,488[2011]']"
      ]
     },
     "execution_count": 36,
     "metadata": {},
     "output_type": "execute_result"
    }
   ],
   "source": [
    "pintCnt03[:5]"
   ]
  },
  {
   "cell_type": "code",
   "execution_count": 37,
   "metadata": {},
   "outputs": [
    {
     "data": {
      "text/plain": [
       "['J45', 'J45', 'J45', 'J45', 'J45']"
      ]
     },
     "execution_count": 37,
     "metadata": {},
     "output_type": "execute_result"
    }
   ],
   "source": [
    "sickCd[:5]"
   ]
  },
  {
   "cell_type": "code",
   "execution_count": 38,
   "metadata": {},
   "outputs": [
    {
     "data": {
      "text/plain": [
       "['천식', '천식', '천식', '천식', '천식']"
      ]
     },
     "execution_count": 38,
     "metadata": {},
     "output_type": "execute_result"
    }
   ],
   "source": [
    "sickNm[:5]"
   ]
  },
  {
   "cell_type": "code",
   "execution_count": 39,
   "metadata": {},
   "outputs": [
    {
     "data": {
      "text/plain": [
       "['           6,103,693[2013]',\n",
       " '           2,894,335[2013]',\n",
       " '           1,429,239[2013]',\n",
       " '             173,604[2013]',\n",
       " '              71,915[2013]']"
      ]
     },
     "execution_count": 39,
     "metadata": {},
     "output_type": "execute_result"
    }
   ],
   "source": [
    "vstDdCnt01[:5]"
   ]
  },
  {
   "cell_type": "code",
   "execution_count": 40,
   "metadata": {},
   "outputs": [
    {
     "data": {
      "text/plain": [
       "['           7,208,364[2012]',\n",
       " '           3,453,146[2012]',\n",
       " '           1,809,937[2012]',\n",
       " '             216,550[2012]',\n",
       " '              79,645[2012]']"
      ]
     },
     "execution_count": 40,
     "metadata": {},
     "output_type": "execute_result"
    }
   ],
   "source": [
    "vstDdCnt02[:5]"
   ]
  },
  {
   "cell_type": "code",
   "execution_count": 41,
   "metadata": {},
   "outputs": [
    {
     "data": {
      "text/plain": [
       "['           8,220,046[2011]',\n",
       " '           4,018,088[2011]',\n",
       " '           2,231,639[2011]',\n",
       " '             266,150[2011]',\n",
       " '              85,340[2011]']"
      ]
     },
     "execution_count": 41,
     "metadata": {},
     "output_type": "execute_result"
    }
   ],
   "source": [
    "vstDdCnt03[:5]"
   ]
  },
  {
   "cell_type": "code",
   "execution_count": 42,
   "metadata": {},
   "outputs": [
    {
     "data": {
      "text/plain": [
       "(21, 21, 21, 21, 21, 21, 21, 21, 21, 21, 21, 21)"
      ]
     },
     "execution_count": 42,
     "metadata": {},
     "output_type": "execute_result"
    }
   ],
   "source": [
    "len(age), len(diagAmt01), len(diagAmt02), len(diagAmt03), len(pintCnt01), len(pintCnt02), len(pintCnt03), \\\n",
    "len(sickCd), len(sickNm),  len(vstDdCnt01), len(vstDdCnt02), len(vstDdCnt03)"
   ]
  },
  {
   "cell_type": "code",
   "execution_count": 43,
   "metadata": {},
   "outputs": [
    {
     "data": {
      "text/html": [
       "<div>\n",
       "<style>\n",
       "    .dataframe thead tr:only-child th {\n",
       "        text-align: right;\n",
       "    }\n",
       "\n",
       "    .dataframe thead th {\n",
       "        text-align: left;\n",
       "    }\n",
       "\n",
       "    .dataframe tbody tr th {\n",
       "        vertical-align: top;\n",
       "    }\n",
       "</style>\n",
       "<table border=\"1\" class=\"dataframe\">\n",
       "  <thead>\n",
       "    <tr style=\"text-align: right;\">\n",
       "      <th></th>\n",
       "      <th>Age</th>\n",
       "      <th>DiagAmt01</th>\n",
       "      <th>DiagAmt02</th>\n",
       "      <th>DiagAmt03</th>\n",
       "      <th>PintCnt01</th>\n",
       "      <th>PintCnt02</th>\n",
       "      <th>PintCnt03</th>\n",
       "      <th>SickCd</th>\n",
       "      <th>SickNm</th>\n",
       "      <th>VstDdCnt01</th>\n",
       "      <th>VstDdCnt02</th>\n",
       "      <th>VstDdCnt03</th>\n",
       "    </tr>\n",
       "  </thead>\n",
       "  <tbody>\n",
       "    <tr>\n",
       "      <th>0</th>\n",
       "      <td>전체</td>\n",
       "      <td>127,469,000[2013]</td>\n",
       "      <td>140,291,223[2012]</td>\n",
       "      <td>159,820,410[2011]</td>\n",
       "      <td>1,853,656[2013]</td>\n",
       "      <td>2,074,482[2012]</td>\n",
       "      <td>2,199,501[2011]</td>\n",
       "      <td>J45</td>\n",
       "      <td>천식</td>\n",
       "      <td>6,103,693[2013]</td>\n",
       "      <td>7,208,364[2012]</td>\n",
       "      <td>8,220,046[2011]</td>\n",
       "    </tr>\n",
       "    <tr>\n",
       "      <th>1</th>\n",
       "      <td>전체</td>\n",
       "      <td>56,915,881[2013]</td>\n",
       "      <td>63,954,906[2012]</td>\n",
       "      <td>75,607,221[2011]</td>\n",
       "      <td>860,128[2013]</td>\n",
       "      <td>955,841[2012]</td>\n",
       "      <td>1,024,092[2011]</td>\n",
       "      <td>J45</td>\n",
       "      <td>천식</td>\n",
       "      <td>2,894,335[2013]</td>\n",
       "      <td>3,453,146[2012]</td>\n",
       "      <td>4,018,088[2011]</td>\n",
       "    </tr>\n",
       "    <tr>\n",
       "      <th>2</th>\n",
       "      <td>10세미만</td>\n",
       "      <td>23,894,698[2013]</td>\n",
       "      <td>28,745,646[2012]</td>\n",
       "      <td>35,970,014[2011]</td>\n",
       "      <td>388,479[2013]</td>\n",
       "      <td>423,939[2012]</td>\n",
       "      <td>483,679[2011]</td>\n",
       "      <td>J45</td>\n",
       "      <td>천식</td>\n",
       "      <td>1,429,239[2013]</td>\n",
       "      <td>1,809,937[2012]</td>\n",
       "      <td>2,231,639[2011]</td>\n",
       "    </tr>\n",
       "    <tr>\n",
       "      <th>3</th>\n",
       "      <td>10~19세</td>\n",
       "      <td>3,546,344[2013]</td>\n",
       "      <td>4,111,260[2012]</td>\n",
       "      <td>5,079,224[2011]</td>\n",
       "      <td>74,515[2013]</td>\n",
       "      <td>91,284[2012]</td>\n",
       "      <td>106,054[2011]</td>\n",
       "      <td>J45</td>\n",
       "      <td>천식</td>\n",
       "      <td>173,604[2013]</td>\n",
       "      <td>216,550[2012]</td>\n",
       "      <td>266,150[2011]</td>\n",
       "    </tr>\n",
       "    <tr>\n",
       "      <th>4</th>\n",
       "      <td>20~29세</td>\n",
       "      <td>1,798,268[2013]</td>\n",
       "      <td>1,822,439[2012]</td>\n",
       "      <td>2,116,850[2011]</td>\n",
       "      <td>36,875[2013]</td>\n",
       "      <td>41,622[2012]</td>\n",
       "      <td>41,488[2011]</td>\n",
       "      <td>J45</td>\n",
       "      <td>천식</td>\n",
       "      <td>71,915[2013]</td>\n",
       "      <td>79,645[2012]</td>\n",
       "      <td>85,340[2011]</td>\n",
       "    </tr>\n",
       "  </tbody>\n",
       "</table>\n",
       "</div>"
      ],
      "text/plain": [
       "      Age                   DiagAmt01                   DiagAmt02  \\\n",
       "0      전체           127,469,000[2013]           140,291,223[2012]   \n",
       "1      전체            56,915,881[2013]            63,954,906[2012]   \n",
       "2   10세미만            23,894,698[2013]            28,745,646[2012]   \n",
       "3  10~19세             3,546,344[2013]             4,111,260[2012]   \n",
       "4  20~29세             1,798,268[2013]             1,822,439[2012]   \n",
       "\n",
       "                    DiagAmt03                   PintCnt01  \\\n",
       "0           159,820,410[2011]             1,853,656[2013]   \n",
       "1            75,607,221[2011]               860,128[2013]   \n",
       "2            35,970,014[2011]               388,479[2013]   \n",
       "3             5,079,224[2011]                74,515[2013]   \n",
       "4             2,116,850[2011]                36,875[2013]   \n",
       "\n",
       "                    PintCnt02                   PintCnt03 SickCd SickNm  \\\n",
       "0             2,074,482[2012]             2,199,501[2011]    J45     천식   \n",
       "1               955,841[2012]             1,024,092[2011]    J45     천식   \n",
       "2               423,939[2012]               483,679[2011]    J45     천식   \n",
       "3                91,284[2012]               106,054[2011]    J45     천식   \n",
       "4                41,622[2012]                41,488[2011]    J45     천식   \n",
       "\n",
       "                   VstDdCnt01                  VstDdCnt02  \\\n",
       "0             6,103,693[2013]             7,208,364[2012]   \n",
       "1             2,894,335[2013]             3,453,146[2012]   \n",
       "2             1,429,239[2013]             1,809,937[2012]   \n",
       "3               173,604[2013]               216,550[2012]   \n",
       "4                71,915[2013]                79,645[2012]   \n",
       "\n",
       "                   VstDdCnt03  \n",
       "0             8,220,046[2011]  \n",
       "1             4,018,088[2011]  \n",
       "2             2,231,639[2011]  \n",
       "3               266,150[2011]  \n",
       "4                85,340[2011]  "
      ]
     },
     "execution_count": 43,
     "metadata": {},
     "output_type": "execute_result"
    }
   ],
   "source": [
    "import pandas as pd\n",
    "data = {'Age':age, 'DiagAmt01':diagAmt01, 'DiagAmt02':diagAmt02, 'DiagAmt03':diagAmt03, 'PintCnt01':pintCnt01,\\\n",
    "        'PintCnt02':pintCnt02, 'PintCnt03':pintCnt03, 'SickCd':sickCd, 'SickNm':sickNm, 'VstDdCnt01':vstDdCnt01,\\\n",
    "        'VstDdCnt02':vstDdCnt02, 'VstDdCnt03':vstDdCnt03}\n",
    "df = pd.DataFrame(data)\n",
    "df.head()\n",
    "# Pandas모듈을 사용하여 '열이름'에 : 값을 입력하여 데이터화함"
   ]
  },
  {
   "cell_type": "code",
   "execution_count": 44,
   "metadata": {},
   "outputs": [
    {
     "data": {
      "text/html": [
       "<div>\n",
       "<style>\n",
       "    .dataframe thead tr:only-child th {\n",
       "        text-align: right;\n",
       "    }\n",
       "\n",
       "    .dataframe thead th {\n",
       "        text-align: left;\n",
       "    }\n",
       "\n",
       "    .dataframe tbody tr th {\n",
       "        vertical-align: top;\n",
       "    }\n",
       "</style>\n",
       "<table border=\"1\" class=\"dataframe\">\n",
       "  <thead>\n",
       "    <tr style=\"text-align: right;\">\n",
       "      <th></th>\n",
       "      <th>SickCd</th>\n",
       "      <th>SickNm</th>\n",
       "      <th>Age</th>\n",
       "      <th>DiagAmt01</th>\n",
       "      <th>DiagAmt02</th>\n",
       "      <th>DiagAmt03</th>\n",
       "      <th>PintCnt01</th>\n",
       "      <th>PintCnt02</th>\n",
       "      <th>PintCnt03</th>\n",
       "      <th>VstDdCnt01</th>\n",
       "      <th>VstDdCnt02</th>\n",
       "      <th>VstDdCnt03</th>\n",
       "    </tr>\n",
       "  </thead>\n",
       "  <tbody>\n",
       "    <tr>\n",
       "      <th>0</th>\n",
       "      <td>J45</td>\n",
       "      <td>천식</td>\n",
       "      <td>전체</td>\n",
       "      <td>127,469,000[2013]</td>\n",
       "      <td>140,291,223[2012]</td>\n",
       "      <td>159,820,410[2011]</td>\n",
       "      <td>1,853,656[2013]</td>\n",
       "      <td>2,074,482[2012]</td>\n",
       "      <td>2,199,501[2011]</td>\n",
       "      <td>6,103,693[2013]</td>\n",
       "      <td>7,208,364[2012]</td>\n",
       "      <td>8,220,046[2011]</td>\n",
       "    </tr>\n",
       "    <tr>\n",
       "      <th>1</th>\n",
       "      <td>J45</td>\n",
       "      <td>천식</td>\n",
       "      <td>전체</td>\n",
       "      <td>56,915,881[2013]</td>\n",
       "      <td>63,954,906[2012]</td>\n",
       "      <td>75,607,221[2011]</td>\n",
       "      <td>860,128[2013]</td>\n",
       "      <td>955,841[2012]</td>\n",
       "      <td>1,024,092[2011]</td>\n",
       "      <td>2,894,335[2013]</td>\n",
       "      <td>3,453,146[2012]</td>\n",
       "      <td>4,018,088[2011]</td>\n",
       "    </tr>\n",
       "    <tr>\n",
       "      <th>2</th>\n",
       "      <td>J45</td>\n",
       "      <td>천식</td>\n",
       "      <td>10세미만</td>\n",
       "      <td>23,894,698[2013]</td>\n",
       "      <td>28,745,646[2012]</td>\n",
       "      <td>35,970,014[2011]</td>\n",
       "      <td>388,479[2013]</td>\n",
       "      <td>423,939[2012]</td>\n",
       "      <td>483,679[2011]</td>\n",
       "      <td>1,429,239[2013]</td>\n",
       "      <td>1,809,937[2012]</td>\n",
       "      <td>2,231,639[2011]</td>\n",
       "    </tr>\n",
       "    <tr>\n",
       "      <th>3</th>\n",
       "      <td>J45</td>\n",
       "      <td>천식</td>\n",
       "      <td>10~19세</td>\n",
       "      <td>3,546,344[2013]</td>\n",
       "      <td>4,111,260[2012]</td>\n",
       "      <td>5,079,224[2011]</td>\n",
       "      <td>74,515[2013]</td>\n",
       "      <td>91,284[2012]</td>\n",
       "      <td>106,054[2011]</td>\n",
       "      <td>173,604[2013]</td>\n",
       "      <td>216,550[2012]</td>\n",
       "      <td>266,150[2011]</td>\n",
       "    </tr>\n",
       "    <tr>\n",
       "      <th>4</th>\n",
       "      <td>J45</td>\n",
       "      <td>천식</td>\n",
       "      <td>20~29세</td>\n",
       "      <td>1,798,268[2013]</td>\n",
       "      <td>1,822,439[2012]</td>\n",
       "      <td>2,116,850[2011]</td>\n",
       "      <td>36,875[2013]</td>\n",
       "      <td>41,622[2012]</td>\n",
       "      <td>41,488[2011]</td>\n",
       "      <td>71,915[2013]</td>\n",
       "      <td>79,645[2012]</td>\n",
       "      <td>85,340[2011]</td>\n",
       "    </tr>\n",
       "  </tbody>\n",
       "</table>\n",
       "</div>"
      ],
      "text/plain": [
       "  SickCd SickNm     Age                   DiagAmt01  \\\n",
       "0    J45     천식      전체           127,469,000[2013]   \n",
       "1    J45     천식      전체            56,915,881[2013]   \n",
       "2    J45     천식   10세미만            23,894,698[2013]   \n",
       "3    J45     천식  10~19세             3,546,344[2013]   \n",
       "4    J45     천식  20~29세             1,798,268[2013]   \n",
       "\n",
       "                    DiagAmt02                   DiagAmt03  \\\n",
       "0           140,291,223[2012]           159,820,410[2011]   \n",
       "1            63,954,906[2012]            75,607,221[2011]   \n",
       "2            28,745,646[2012]            35,970,014[2011]   \n",
       "3             4,111,260[2012]             5,079,224[2011]   \n",
       "4             1,822,439[2012]             2,116,850[2011]   \n",
       "\n",
       "                    PintCnt01                   PintCnt02  \\\n",
       "0             1,853,656[2013]             2,074,482[2012]   \n",
       "1               860,128[2013]               955,841[2012]   \n",
       "2               388,479[2013]               423,939[2012]   \n",
       "3                74,515[2013]                91,284[2012]   \n",
       "4                36,875[2013]                41,622[2012]   \n",
       "\n",
       "                    PintCnt03                  VstDdCnt01  \\\n",
       "0             2,199,501[2011]             6,103,693[2013]   \n",
       "1             1,024,092[2011]             2,894,335[2013]   \n",
       "2               483,679[2011]             1,429,239[2013]   \n",
       "3               106,054[2011]               173,604[2013]   \n",
       "4                41,488[2011]                71,915[2013]   \n",
       "\n",
       "                   VstDdCnt02                  VstDdCnt03  \n",
       "0             7,208,364[2012]             8,220,046[2011]  \n",
       "1             3,453,146[2012]             4,018,088[2011]  \n",
       "2             1,809,937[2012]             2,231,639[2011]  \n",
       "3               216,550[2012]               266,150[2011]  \n",
       "4                79,645[2012]                85,340[2011]  "
      ]
     },
     "execution_count": 44,
     "metadata": {},
     "output_type": "execute_result"
    }
   ],
   "source": [
    "df = pd.DataFrame(data, columns=['SickCd','SickNm', 'Age', 'DiagAmt01', 'DiagAmt02', 'DiagAmt03', \\\n",
    "                                 'PintCnt01', 'PintCnt02', 'PintCnt03', 'VstDdCnt01', 'VstDdCnt02', 'VstDdCnt03'])\n",
    "df.head(5)\n",
    "# 칼럼의 순서를 정리함"
   ]
  },
  {
   "cell_type": "code",
   "execution_count": 45,
   "metadata": {
    "collapsed": true
   },
   "outputs": [],
   "source": [
    "df.to_csv('../data/disease_01.csv', sep=',', encoding='UTF-8')\n",
    "# 전처리한 데이터를 disease_01.csv 파일로 저장"
   ]
  },
  {
   "cell_type": "code",
   "execution_count": 46,
   "metadata": {},
   "outputs": [
    {
     "ename": "UnicodeEncodeError",
     "evalue": "'ascii' codec can't encode characters in position 102-103: ordinal not in range(128)",
     "output_type": "error",
     "traceback": [
      "\u001b[1;31m---------------------------------------------------------------------------\u001b[0m",
      "\u001b[1;31mUnicodeEncodeError\u001b[0m                        Traceback (most recent call last)",
      "\u001b[1;32m<ipython-input-46-15bf84cccec3>\u001b[0m in \u001b[0;36m<module>\u001b[1;34m()\u001b[0m\n\u001b[0;32m      1\u001b[0m \u001b[1;32mfrom\u001b[0m \u001b[0mbs4\u001b[0m \u001b[1;32mimport\u001b[0m \u001b[0mBeautifulSoup\u001b[0m\u001b[1;33m\u001b[0m\u001b[0m\n\u001b[0;32m      2\u001b[0m \u001b[1;32mimport\u001b[0m \u001b[0murllib\u001b[0m\u001b[1;33m.\u001b[0m\u001b[0mrequest\u001b[0m\u001b[1;33m\u001b[0m\u001b[0m\n\u001b[1;32m----> 3\u001b[1;33m \u001b[0mreq\u001b[0m \u001b[1;33m=\u001b[0m \u001b[0murllib\u001b[0m\u001b[1;33m.\u001b[0m\u001b[0mrequest\u001b[0m\u001b[1;33m.\u001b[0m\u001b[0murlopen\u001b[0m\u001b[1;33m(\u001b[0m\u001b[0murl2\u001b[0m\u001b[1;33m)\u001b[0m\u001b[1;33m\u001b[0m\u001b[0m\n\u001b[0m\u001b[0;32m      4\u001b[0m \u001b[0mxml\u001b[0m \u001b[1;33m=\u001b[0m \u001b[0mBeautifulSoup\u001b[0m\u001b[1;33m(\u001b[0m\u001b[0mreq\u001b[0m\u001b[1;33m,\u001b[0m \u001b[1;34m'xml'\u001b[0m\u001b[1;33m)\u001b[0m\u001b[1;33m\u001b[0m\u001b[0m\n\u001b[0;32m      5\u001b[0m \u001b[1;32mfor\u001b[0m \u001b[0mitem\u001b[0m \u001b[1;32min\u001b[0m \u001b[0mxml\u001b[0m\u001b[1;33m.\u001b[0m\u001b[0mfindAll\u001b[0m\u001b[1;33m(\u001b[0m\u001b[1;34m'item'\u001b[0m\u001b[1;33m)\u001b[0m\u001b[1;33m:\u001b[0m\u001b[1;33m\u001b[0m\u001b[0m\n",
      "\u001b[1;32mC:\\ProgramData\\Anaconda3\\lib\\urllib\\request.py\u001b[0m in \u001b[0;36murlopen\u001b[1;34m(url, data, timeout, cafile, capath, cadefault, context)\u001b[0m\n\u001b[0;32m    221\u001b[0m     \u001b[1;32melse\u001b[0m\u001b[1;33m:\u001b[0m\u001b[1;33m\u001b[0m\u001b[0m\n\u001b[0;32m    222\u001b[0m         \u001b[0mopener\u001b[0m \u001b[1;33m=\u001b[0m \u001b[0m_opener\u001b[0m\u001b[1;33m\u001b[0m\u001b[0m\n\u001b[1;32m--> 223\u001b[1;33m     \u001b[1;32mreturn\u001b[0m \u001b[0mopener\u001b[0m\u001b[1;33m.\u001b[0m\u001b[0mopen\u001b[0m\u001b[1;33m(\u001b[0m\u001b[0murl\u001b[0m\u001b[1;33m,\u001b[0m \u001b[0mdata\u001b[0m\u001b[1;33m,\u001b[0m \u001b[0mtimeout\u001b[0m\u001b[1;33m)\u001b[0m\u001b[1;33m\u001b[0m\u001b[0m\n\u001b[0m\u001b[0;32m    224\u001b[0m \u001b[1;33m\u001b[0m\u001b[0m\n\u001b[0;32m    225\u001b[0m \u001b[1;32mdef\u001b[0m \u001b[0minstall_opener\u001b[0m\u001b[1;33m(\u001b[0m\u001b[0mopener\u001b[0m\u001b[1;33m)\u001b[0m\u001b[1;33m:\u001b[0m\u001b[1;33m\u001b[0m\u001b[0m\n",
      "\u001b[1;32mC:\\ProgramData\\Anaconda3\\lib\\urllib\\request.py\u001b[0m in \u001b[0;36mopen\u001b[1;34m(self, fullurl, data, timeout)\u001b[0m\n\u001b[0;32m    524\u001b[0m             \u001b[0mreq\u001b[0m \u001b[1;33m=\u001b[0m \u001b[0mmeth\u001b[0m\u001b[1;33m(\u001b[0m\u001b[0mreq\u001b[0m\u001b[1;33m)\u001b[0m\u001b[1;33m\u001b[0m\u001b[0m\n\u001b[0;32m    525\u001b[0m \u001b[1;33m\u001b[0m\u001b[0m\n\u001b[1;32m--> 526\u001b[1;33m         \u001b[0mresponse\u001b[0m \u001b[1;33m=\u001b[0m \u001b[0mself\u001b[0m\u001b[1;33m.\u001b[0m\u001b[0m_open\u001b[0m\u001b[1;33m(\u001b[0m\u001b[0mreq\u001b[0m\u001b[1;33m,\u001b[0m \u001b[0mdata\u001b[0m\u001b[1;33m)\u001b[0m\u001b[1;33m\u001b[0m\u001b[0m\n\u001b[0m\u001b[0;32m    527\u001b[0m \u001b[1;33m\u001b[0m\u001b[0m\n\u001b[0;32m    528\u001b[0m         \u001b[1;31m# post-process response\u001b[0m\u001b[1;33m\u001b[0m\u001b[1;33m\u001b[0m\u001b[0m\n",
      "\u001b[1;32mC:\\ProgramData\\Anaconda3\\lib\\urllib\\request.py\u001b[0m in \u001b[0;36m_open\u001b[1;34m(self, req, data)\u001b[0m\n\u001b[0;32m    542\u001b[0m         \u001b[0mprotocol\u001b[0m \u001b[1;33m=\u001b[0m \u001b[0mreq\u001b[0m\u001b[1;33m.\u001b[0m\u001b[0mtype\u001b[0m\u001b[1;33m\u001b[0m\u001b[0m\n\u001b[0;32m    543\u001b[0m         result = self._call_chain(self.handle_open, protocol, protocol +\n\u001b[1;32m--> 544\u001b[1;33m                                   '_open', req)\n\u001b[0m\u001b[0;32m    545\u001b[0m         \u001b[1;32mif\u001b[0m \u001b[0mresult\u001b[0m\u001b[1;33m:\u001b[0m\u001b[1;33m\u001b[0m\u001b[0m\n\u001b[0;32m    546\u001b[0m             \u001b[1;32mreturn\u001b[0m \u001b[0mresult\u001b[0m\u001b[1;33m\u001b[0m\u001b[0m\n",
      "\u001b[1;32mC:\\ProgramData\\Anaconda3\\lib\\urllib\\request.py\u001b[0m in \u001b[0;36m_call_chain\u001b[1;34m(self, chain, kind, meth_name, *args)\u001b[0m\n\u001b[0;32m    502\u001b[0m         \u001b[1;32mfor\u001b[0m \u001b[0mhandler\u001b[0m \u001b[1;32min\u001b[0m \u001b[0mhandlers\u001b[0m\u001b[1;33m:\u001b[0m\u001b[1;33m\u001b[0m\u001b[0m\n\u001b[0;32m    503\u001b[0m             \u001b[0mfunc\u001b[0m \u001b[1;33m=\u001b[0m \u001b[0mgetattr\u001b[0m\u001b[1;33m(\u001b[0m\u001b[0mhandler\u001b[0m\u001b[1;33m,\u001b[0m \u001b[0mmeth_name\u001b[0m\u001b[1;33m)\u001b[0m\u001b[1;33m\u001b[0m\u001b[0m\n\u001b[1;32m--> 504\u001b[1;33m             \u001b[0mresult\u001b[0m \u001b[1;33m=\u001b[0m \u001b[0mfunc\u001b[0m\u001b[1;33m(\u001b[0m\u001b[1;33m*\u001b[0m\u001b[0margs\u001b[0m\u001b[1;33m)\u001b[0m\u001b[1;33m\u001b[0m\u001b[0m\n\u001b[0m\u001b[0;32m    505\u001b[0m             \u001b[1;32mif\u001b[0m \u001b[0mresult\u001b[0m \u001b[1;32mis\u001b[0m \u001b[1;32mnot\u001b[0m \u001b[1;32mNone\u001b[0m\u001b[1;33m:\u001b[0m\u001b[1;33m\u001b[0m\u001b[0m\n\u001b[0;32m    506\u001b[0m                 \u001b[1;32mreturn\u001b[0m \u001b[0mresult\u001b[0m\u001b[1;33m\u001b[0m\u001b[0m\n",
      "\u001b[1;32mC:\\ProgramData\\Anaconda3\\lib\\urllib\\request.py\u001b[0m in \u001b[0;36mhttp_open\u001b[1;34m(self, req)\u001b[0m\n\u001b[0;32m   1344\u001b[0m \u001b[1;33m\u001b[0m\u001b[0m\n\u001b[0;32m   1345\u001b[0m     \u001b[1;32mdef\u001b[0m \u001b[0mhttp_open\u001b[0m\u001b[1;33m(\u001b[0m\u001b[0mself\u001b[0m\u001b[1;33m,\u001b[0m \u001b[0mreq\u001b[0m\u001b[1;33m)\u001b[0m\u001b[1;33m:\u001b[0m\u001b[1;33m\u001b[0m\u001b[0m\n\u001b[1;32m-> 1346\u001b[1;33m         \u001b[1;32mreturn\u001b[0m \u001b[0mself\u001b[0m\u001b[1;33m.\u001b[0m\u001b[0mdo_open\u001b[0m\u001b[1;33m(\u001b[0m\u001b[0mhttp\u001b[0m\u001b[1;33m.\u001b[0m\u001b[0mclient\u001b[0m\u001b[1;33m.\u001b[0m\u001b[0mHTTPConnection\u001b[0m\u001b[1;33m,\u001b[0m \u001b[0mreq\u001b[0m\u001b[1;33m)\u001b[0m\u001b[1;33m\u001b[0m\u001b[0m\n\u001b[0m\u001b[0;32m   1347\u001b[0m \u001b[1;33m\u001b[0m\u001b[0m\n\u001b[0;32m   1348\u001b[0m     \u001b[0mhttp_request\u001b[0m \u001b[1;33m=\u001b[0m \u001b[0mAbstractHTTPHandler\u001b[0m\u001b[1;33m.\u001b[0m\u001b[0mdo_request_\u001b[0m\u001b[1;33m\u001b[0m\u001b[0m\n",
      "\u001b[1;32mC:\\ProgramData\\Anaconda3\\lib\\urllib\\request.py\u001b[0m in \u001b[0;36mdo_open\u001b[1;34m(self, http_class, req, **http_conn_args)\u001b[0m\n\u001b[0;32m   1316\u001b[0m             \u001b[1;32mtry\u001b[0m\u001b[1;33m:\u001b[0m\u001b[1;33m\u001b[0m\u001b[0m\n\u001b[0;32m   1317\u001b[0m                 h.request(req.get_method(), req.selector, req.data, headers,\n\u001b[1;32m-> 1318\u001b[1;33m                           encode_chunked=req.has_header('Transfer-encoding'))\n\u001b[0m\u001b[0;32m   1319\u001b[0m             \u001b[1;32mexcept\u001b[0m \u001b[0mOSError\u001b[0m \u001b[1;32mas\u001b[0m \u001b[0merr\u001b[0m\u001b[1;33m:\u001b[0m \u001b[1;31m# timeout error\u001b[0m\u001b[1;33m\u001b[0m\u001b[0m\n\u001b[0;32m   1320\u001b[0m                 \u001b[1;32mraise\u001b[0m \u001b[0mURLError\u001b[0m\u001b[1;33m(\u001b[0m\u001b[0merr\u001b[0m\u001b[1;33m)\u001b[0m\u001b[1;33m\u001b[0m\u001b[0m\n",
      "\u001b[1;32mC:\\ProgramData\\Anaconda3\\lib\\http\\client.py\u001b[0m in \u001b[0;36mrequest\u001b[1;34m(self, method, url, body, headers, encode_chunked)\u001b[0m\n\u001b[0;32m   1237\u001b[0m                 encode_chunked=False):\n\u001b[0;32m   1238\u001b[0m         \u001b[1;34m\"\"\"Send a complete request to the server.\"\"\"\u001b[0m\u001b[1;33m\u001b[0m\u001b[0m\n\u001b[1;32m-> 1239\u001b[1;33m         \u001b[0mself\u001b[0m\u001b[1;33m.\u001b[0m\u001b[0m_send_request\u001b[0m\u001b[1;33m(\u001b[0m\u001b[0mmethod\u001b[0m\u001b[1;33m,\u001b[0m \u001b[0murl\u001b[0m\u001b[1;33m,\u001b[0m \u001b[0mbody\u001b[0m\u001b[1;33m,\u001b[0m \u001b[0mheaders\u001b[0m\u001b[1;33m,\u001b[0m \u001b[0mencode_chunked\u001b[0m\u001b[1;33m)\u001b[0m\u001b[1;33m\u001b[0m\u001b[0m\n\u001b[0m\u001b[0;32m   1240\u001b[0m \u001b[1;33m\u001b[0m\u001b[0m\n\u001b[0;32m   1241\u001b[0m     \u001b[1;32mdef\u001b[0m \u001b[0m_send_request\u001b[0m\u001b[1;33m(\u001b[0m\u001b[0mself\u001b[0m\u001b[1;33m,\u001b[0m \u001b[0mmethod\u001b[0m\u001b[1;33m,\u001b[0m \u001b[0murl\u001b[0m\u001b[1;33m,\u001b[0m \u001b[0mbody\u001b[0m\u001b[1;33m,\u001b[0m \u001b[0mheaders\u001b[0m\u001b[1;33m,\u001b[0m \u001b[0mencode_chunked\u001b[0m\u001b[1;33m)\u001b[0m\u001b[1;33m:\u001b[0m\u001b[1;33m\u001b[0m\u001b[0m\n",
      "\u001b[1;32mC:\\ProgramData\\Anaconda3\\lib\\http\\client.py\u001b[0m in \u001b[0;36m_send_request\u001b[1;34m(self, method, url, body, headers, encode_chunked)\u001b[0m\n\u001b[0;32m   1248\u001b[0m             \u001b[0mskips\u001b[0m\u001b[1;33m[\u001b[0m\u001b[1;34m'skip_accept_encoding'\u001b[0m\u001b[1;33m]\u001b[0m \u001b[1;33m=\u001b[0m \u001b[1;36m1\u001b[0m\u001b[1;33m\u001b[0m\u001b[0m\n\u001b[0;32m   1249\u001b[0m \u001b[1;33m\u001b[0m\u001b[0m\n\u001b[1;32m-> 1250\u001b[1;33m         \u001b[0mself\u001b[0m\u001b[1;33m.\u001b[0m\u001b[0mputrequest\u001b[0m\u001b[1;33m(\u001b[0m\u001b[0mmethod\u001b[0m\u001b[1;33m,\u001b[0m \u001b[0murl\u001b[0m\u001b[1;33m,\u001b[0m \u001b[1;33m**\u001b[0m\u001b[0mskips\u001b[0m\u001b[1;33m)\u001b[0m\u001b[1;33m\u001b[0m\u001b[0m\n\u001b[0m\u001b[0;32m   1251\u001b[0m \u001b[1;33m\u001b[0m\u001b[0m\n\u001b[0;32m   1252\u001b[0m         \u001b[1;31m# chunked encoding will happen if HTTP/1.1 is used and either\u001b[0m\u001b[1;33m\u001b[0m\u001b[1;33m\u001b[0m\u001b[0m\n",
      "\u001b[1;32mC:\\ProgramData\\Anaconda3\\lib\\http\\client.py\u001b[0m in \u001b[0;36mputrequest\u001b[1;34m(self, method, url, skip_host, skip_accept_encoding)\u001b[0m\n\u001b[0;32m   1115\u001b[0m \u001b[1;33m\u001b[0m\u001b[0m\n\u001b[0;32m   1116\u001b[0m         \u001b[1;31m# Non-ASCII characters should have been eliminated earlier\u001b[0m\u001b[1;33m\u001b[0m\u001b[1;33m\u001b[0m\u001b[0m\n\u001b[1;32m-> 1117\u001b[1;33m         \u001b[0mself\u001b[0m\u001b[1;33m.\u001b[0m\u001b[0m_output\u001b[0m\u001b[1;33m(\u001b[0m\u001b[0mrequest\u001b[0m\u001b[1;33m.\u001b[0m\u001b[0mencode\u001b[0m\u001b[1;33m(\u001b[0m\u001b[1;34m'ascii'\u001b[0m\u001b[1;33m)\u001b[0m\u001b[1;33m)\u001b[0m\u001b[1;33m\u001b[0m\u001b[0m\n\u001b[0m\u001b[0;32m   1118\u001b[0m \u001b[1;33m\u001b[0m\u001b[0m\n\u001b[0;32m   1119\u001b[0m         \u001b[1;32mif\u001b[0m \u001b[0mself\u001b[0m\u001b[1;33m.\u001b[0m\u001b[0m_http_vsn\u001b[0m \u001b[1;33m==\u001b[0m \u001b[1;36m11\u001b[0m\u001b[1;33m:\u001b[0m\u001b[1;33m\u001b[0m\u001b[0m\n",
      "\u001b[1;31mUnicodeEncodeError\u001b[0m: 'ascii' codec can't encode characters in position 102-103: ordinal not in range(128)"
     ]
    }
   ],
   "source": [
    "from bs4 import BeautifulSoup\n",
    "import urllib.request\n",
    "req = urllib.request.urlopen(url2)\n",
    "xml = BeautifulSoup(req, 'xml')\n",
    "for item in xml.findAll('item'):\n",
    "    print(item.text)\n",
    "# 인터넷상에선 문제없으나 파이썬에선 '병적 골절을' 때문에 ascii에러 발생\n",
    "# 검색어로 상병코드 찾는 코드\n",
    "# item 클래스의 text만 추출함    "
   ]
  },
  {
   "cell_type": "code",
   "execution_count": 47,
   "metadata": {},
   "outputs": [
    {
     "name": "stdout",
     "output_type": "stream",
     "text": [
      "         127,469,000[2013]         140,291,223[2012]         159,820,410[2011]전체           1,853,656[2013]           2,074,482[2012]           2,199,501[2011]1J45천식           6,103,693[2013]           7,208,364[2012]           8,220,046[2011]\n",
      "          40,656,543[2013]          41,618,971[2012]          44,763,067[2011]입원              32,107[2013]              35,589[2012]              38,303[2011]2J45천식             400,741[2013]             406,073[2012]             423,030[2011]\n",
      "          86,812,058[2013]          98,672,252[2012]         115,057,343[2011]외래           1,840,547[2013]           2,060,397[2012]           2,185,863[2011]3J45천식           5,702,952[2013]           6,802,291[2012]           7,797,016[2011]\n"
     ]
    }
   ],
   "source": [
    "from bs4 import BeautifulSoup\n",
    "import urllib.request\n",
    "req = urllib.request.urlopen(url3)\n",
    "xml = BeautifulSoup(req, 'xml')\n",
    "for item in xml.findAll('item'):\n",
    "    print(item.text)\n",
    "# 질병입원외래별통계 찾는 코드\n",
    "# item 클래스의 text만 추출함     "
   ]
  },
  {
   "cell_type": "code",
   "execution_count": 48,
   "metadata": {},
   "outputs": [],
   "source": [
    "diagAmt01 = []\n",
    "diagAmt02 = []\n",
    "diagAmt03 = []\n",
    "inpatOpat = []\n",
    "pintCnt01 = []\n",
    "pintCnt02 = []\n",
    "pintCnt03 = []\n",
    "sickCd = []\n",
    "sickNm = []\n",
    "vstDdCnt01 = []\n",
    "vstDdCnt02 = []\n",
    "vstDdCnt03 = []\n",
    "\n",
    "list_soup = xml.find_all('item')\n",
    "\n",
    "for item in list_soup:\n",
    "    diagAmt01.append(item.find('diagAmt01').get_text())\n",
    "    diagAmt02.append(item.find('diagAmt02').get_text())\n",
    "    diagAmt03.append(item.find('diagAmt03').get_text())\n",
    "    inpatOpat.append(item.find('inpatOpat').get_text())\n",
    "    pintCnt01.append(item.find('pintCnt01').get_text())\n",
    "    pintCnt02.append(item.find('pintCnt02').get_text())\n",
    "    pintCnt03.append(item.find('pintCnt03').get_text())\n",
    "    sickCd.append(item.find('sickCd').get_text())\n",
    "    sickNm.append(item.find('sickNm').get_text())\n",
    "    vstDdCnt01.append(item.find('vstDdCnt01').get_text())\n",
    "    vstDdCnt02.append(item.find('vstDdCnt02').get_text())\n",
    "    vstDdCnt03.append(item.find('vstDdCnt03').get_text())\n",
    "# 클래스별로 값을 리스트에 추가함    "
   ]
  },
  {
   "cell_type": "code",
   "execution_count": 49,
   "metadata": {},
   "outputs": [
    {
     "data": {
      "text/html": [
       "<div>\n",
       "<style>\n",
       "    .dataframe thead tr:only-child th {\n",
       "        text-align: right;\n",
       "    }\n",
       "\n",
       "    .dataframe thead th {\n",
       "        text-align: left;\n",
       "    }\n",
       "\n",
       "    .dataframe tbody tr th {\n",
       "        vertical-align: top;\n",
       "    }\n",
       "</style>\n",
       "<table border=\"1\" class=\"dataframe\">\n",
       "  <thead>\n",
       "    <tr style=\"text-align: right;\">\n",
       "      <th></th>\n",
       "      <th>DiagAmt01</th>\n",
       "      <th>DiagAmt02</th>\n",
       "      <th>DiagAmt03</th>\n",
       "      <th>InpatOpat</th>\n",
       "      <th>PintCnt01</th>\n",
       "      <th>PintCnt02</th>\n",
       "      <th>PintCnt03</th>\n",
       "      <th>SickCd</th>\n",
       "      <th>SickNm</th>\n",
       "      <th>VstDdCnt01</th>\n",
       "      <th>VstDdCnt02</th>\n",
       "      <th>VstDdCnt03</th>\n",
       "    </tr>\n",
       "  </thead>\n",
       "  <tbody>\n",
       "    <tr>\n",
       "      <th>0</th>\n",
       "      <td>127,469,000[2013]</td>\n",
       "      <td>140,291,223[2012]</td>\n",
       "      <td>159,820,410[2011]</td>\n",
       "      <td>전체</td>\n",
       "      <td>1,853,656[2013]</td>\n",
       "      <td>2,074,482[2012]</td>\n",
       "      <td>2,199,501[2011]</td>\n",
       "      <td>J45</td>\n",
       "      <td>천식</td>\n",
       "      <td>6,103,693[2013]</td>\n",
       "      <td>7,208,364[2012]</td>\n",
       "      <td>8,220,046[2011]</td>\n",
       "    </tr>\n",
       "    <tr>\n",
       "      <th>1</th>\n",
       "      <td>40,656,543[2013]</td>\n",
       "      <td>41,618,971[2012]</td>\n",
       "      <td>44,763,067[2011]</td>\n",
       "      <td>입원</td>\n",
       "      <td>32,107[2013]</td>\n",
       "      <td>35,589[2012]</td>\n",
       "      <td>38,303[2011]</td>\n",
       "      <td>J45</td>\n",
       "      <td>천식</td>\n",
       "      <td>400,741[2013]</td>\n",
       "      <td>406,073[2012]</td>\n",
       "      <td>423,030[2011]</td>\n",
       "    </tr>\n",
       "    <tr>\n",
       "      <th>2</th>\n",
       "      <td>86,812,058[2013]</td>\n",
       "      <td>98,672,252[2012]</td>\n",
       "      <td>115,057,343[2011]</td>\n",
       "      <td>외래</td>\n",
       "      <td>1,840,547[2013]</td>\n",
       "      <td>2,060,397[2012]</td>\n",
       "      <td>2,185,863[2011]</td>\n",
       "      <td>J45</td>\n",
       "      <td>천식</td>\n",
       "      <td>5,702,952[2013]</td>\n",
       "      <td>6,802,291[2012]</td>\n",
       "      <td>7,797,016[2011]</td>\n",
       "    </tr>\n",
       "  </tbody>\n",
       "</table>\n",
       "</div>"
      ],
      "text/plain": [
       "                    DiagAmt01                   DiagAmt02  \\\n",
       "0           127,469,000[2013]           140,291,223[2012]   \n",
       "1            40,656,543[2013]            41,618,971[2012]   \n",
       "2            86,812,058[2013]            98,672,252[2012]   \n",
       "\n",
       "                    DiagAmt03 InpatOpat                   PintCnt01  \\\n",
       "0           159,820,410[2011]        전체             1,853,656[2013]   \n",
       "1            44,763,067[2011]        입원                32,107[2013]   \n",
       "2           115,057,343[2011]        외래             1,840,547[2013]   \n",
       "\n",
       "                    PintCnt02                   PintCnt03 SickCd SickNm  \\\n",
       "0             2,074,482[2012]             2,199,501[2011]    J45     천식   \n",
       "1                35,589[2012]                38,303[2011]    J45     천식   \n",
       "2             2,060,397[2012]             2,185,863[2011]    J45     천식   \n",
       "\n",
       "                   VstDdCnt01                  VstDdCnt02  \\\n",
       "0             6,103,693[2013]             7,208,364[2012]   \n",
       "1               400,741[2013]               406,073[2012]   \n",
       "2             5,702,952[2013]             6,802,291[2012]   \n",
       "\n",
       "                   VstDdCnt03  \n",
       "0             8,220,046[2011]  \n",
       "1               423,030[2011]  \n",
       "2             7,797,016[2011]  "
      ]
     },
     "execution_count": 49,
     "metadata": {},
     "output_type": "execute_result"
    }
   ],
   "source": [
    "import pandas as pd\n",
    "data2 = {'DiagAmt01':diagAmt01, 'DiagAmt02':diagAmt02, 'DiagAmt03':diagAmt03, 'InpatOpat':inpatOpat, 'PintCnt01':pintCnt01,\\\n",
    "        'PintCnt02':pintCnt02, 'PintCnt03':pintCnt03, 'SickCd':sickCd, 'SickNm':sickNm, 'VstDdCnt01':vstDdCnt01,\\\n",
    "        'VstDdCnt02':vstDdCnt02, 'VstDdCnt03':vstDdCnt03}\n",
    "df = pd.DataFrame(data2)\n",
    "df.head()\n",
    "# Pandas모듈을 사용하여 '열이름'에 : 값을 입력하여 데이터화함"
   ]
  },
  {
   "cell_type": "code",
   "execution_count": 50,
   "metadata": {},
   "outputs": [
    {
     "data": {
      "text/html": [
       "<div>\n",
       "<style>\n",
       "    .dataframe thead tr:only-child th {\n",
       "        text-align: right;\n",
       "    }\n",
       "\n",
       "    .dataframe thead th {\n",
       "        text-align: left;\n",
       "    }\n",
       "\n",
       "    .dataframe tbody tr th {\n",
       "        vertical-align: top;\n",
       "    }\n",
       "</style>\n",
       "<table border=\"1\" class=\"dataframe\">\n",
       "  <thead>\n",
       "    <tr style=\"text-align: right;\">\n",
       "      <th></th>\n",
       "      <th>SickCd</th>\n",
       "      <th>SickNm</th>\n",
       "      <th>InpatOpat</th>\n",
       "      <th>DiagAmt01</th>\n",
       "      <th>DiagAmt02</th>\n",
       "      <th>DiagAmt03</th>\n",
       "      <th>PintCnt01</th>\n",
       "      <th>PintCnt02</th>\n",
       "      <th>PintCnt03</th>\n",
       "      <th>VstDdCnt01</th>\n",
       "      <th>VstDdCnt02</th>\n",
       "      <th>VstDdCnt03</th>\n",
       "    </tr>\n",
       "  </thead>\n",
       "  <tbody>\n",
       "    <tr>\n",
       "      <th>0</th>\n",
       "      <td>J45</td>\n",
       "      <td>천식</td>\n",
       "      <td>전체</td>\n",
       "      <td>127,469,000[2013]</td>\n",
       "      <td>140,291,223[2012]</td>\n",
       "      <td>159,820,410[2011]</td>\n",
       "      <td>1,853,656[2013]</td>\n",
       "      <td>2,074,482[2012]</td>\n",
       "      <td>2,199,501[2011]</td>\n",
       "      <td>6,103,693[2013]</td>\n",
       "      <td>7,208,364[2012]</td>\n",
       "      <td>8,220,046[2011]</td>\n",
       "    </tr>\n",
       "    <tr>\n",
       "      <th>1</th>\n",
       "      <td>J45</td>\n",
       "      <td>천식</td>\n",
       "      <td>입원</td>\n",
       "      <td>40,656,543[2013]</td>\n",
       "      <td>41,618,971[2012]</td>\n",
       "      <td>44,763,067[2011]</td>\n",
       "      <td>32,107[2013]</td>\n",
       "      <td>35,589[2012]</td>\n",
       "      <td>38,303[2011]</td>\n",
       "      <td>400,741[2013]</td>\n",
       "      <td>406,073[2012]</td>\n",
       "      <td>423,030[2011]</td>\n",
       "    </tr>\n",
       "    <tr>\n",
       "      <th>2</th>\n",
       "      <td>J45</td>\n",
       "      <td>천식</td>\n",
       "      <td>외래</td>\n",
       "      <td>86,812,058[2013]</td>\n",
       "      <td>98,672,252[2012]</td>\n",
       "      <td>115,057,343[2011]</td>\n",
       "      <td>1,840,547[2013]</td>\n",
       "      <td>2,060,397[2012]</td>\n",
       "      <td>2,185,863[2011]</td>\n",
       "      <td>5,702,952[2013]</td>\n",
       "      <td>6,802,291[2012]</td>\n",
       "      <td>7,797,016[2011]</td>\n",
       "    </tr>\n",
       "  </tbody>\n",
       "</table>\n",
       "</div>"
      ],
      "text/plain": [
       "  SickCd SickNm InpatOpat                   DiagAmt01  \\\n",
       "0    J45     천식        전체           127,469,000[2013]   \n",
       "1    J45     천식        입원            40,656,543[2013]   \n",
       "2    J45     천식        외래            86,812,058[2013]   \n",
       "\n",
       "                    DiagAmt02                   DiagAmt03  \\\n",
       "0           140,291,223[2012]           159,820,410[2011]   \n",
       "1            41,618,971[2012]            44,763,067[2011]   \n",
       "2            98,672,252[2012]           115,057,343[2011]   \n",
       "\n",
       "                    PintCnt01                   PintCnt02  \\\n",
       "0             1,853,656[2013]             2,074,482[2012]   \n",
       "1                32,107[2013]                35,589[2012]   \n",
       "2             1,840,547[2013]             2,060,397[2012]   \n",
       "\n",
       "                    PintCnt03                  VstDdCnt01  \\\n",
       "0             2,199,501[2011]             6,103,693[2013]   \n",
       "1                38,303[2011]               400,741[2013]   \n",
       "2             2,185,863[2011]             5,702,952[2013]   \n",
       "\n",
       "                   VstDdCnt02                  VstDdCnt03  \n",
       "0             7,208,364[2012]             8,220,046[2011]  \n",
       "1               406,073[2012]               423,030[2011]  \n",
       "2             6,802,291[2012]             7,797,016[2011]  "
      ]
     },
     "execution_count": 50,
     "metadata": {},
     "output_type": "execute_result"
    }
   ],
   "source": [
    "df = pd.DataFrame(data2, columns=['SickCd','SickNm', 'InpatOpat', 'DiagAmt01', 'DiagAmt02', 'DiagAmt03', \\\n",
    "                                 'PintCnt01', 'PintCnt02', 'PintCnt03', 'VstDdCnt01', 'VstDdCnt02', 'VstDdCnt03'])\n",
    "df.head(5)\n",
    "# 칼럼의 순서를 정리함"
   ]
  },
  {
   "cell_type": "code",
   "execution_count": 51,
   "metadata": {
    "collapsed": true
   },
   "outputs": [],
   "source": [
    "df.to_csv('../data/disease_02.csv', sep=',', encoding='UTF-8')\n",
    "# 전처리한 데이터를 disease_02.csv 파일로 저장"
   ]
  },
  {
   "cell_type": "code",
   "execution_count": 52,
   "metadata": {},
   "outputs": [
    {
     "name": "stdout",
     "output_type": "stream",
     "text": [
      "         127,469,000[2013]         140,291,223[2012]         159,820,410[2011]전체           1,853,656[2013]           2,074,482[2012]           2,199,501[2011]1J45천식           6,103,693[2013]           7,208,364[2012]           8,220,046[2011]\n",
      "          10,460,683[2013]          11,381,535[2012]          18,929,473[2011]상급종합병원              45,979[2013]              53,990[2012]              89,538[2011]2J45천식             155,260[2013]             171,356[2012]             329,220[2011]\n",
      "          23,802,925[2013]          24,750,201[2012]          31,746,133[2011]종합병원             122,558[2013]             130,243[2012]             165,007[2011]3J45천식             414,038[2013]             441,263[2012]             631,785[2011]\n",
      "          26,953,259[2013]          27,044,375[2012]          26,686,593[2011]병원급             188,207[2013]             194,919[2012]             180,421[2011]4J45천식             677,719[2013]             715,939[2012]             827,902[2011]\n",
      "          65,883,490[2013]          76,563,477[2012]          81,881,039[2011]의원급           1,559,029[2013]           1,774,499[2012]           1,865,723[2011]5J45천식           4,823,520[2013]           5,836,288[2012]           6,383,313[2011]\n",
      "             368,243[2013]             551,636[2012]             577,172[2011]보건기관               9,312[2013]              11,937[2012]              12,987[2011]6J45천식              33,156[2013]              43,518[2012]              47,826[2011]\n"
     ]
    }
   ],
   "source": [
    "from bs4 import BeautifulSoup\n",
    "import urllib.request\n",
    "req = urllib.request.urlopen(url4)\n",
    "xml = BeautifulSoup(req, 'xml')\n",
    "for item in xml.findAll('item'):\n",
    "    print(item.text)\n",
    "# 질병의료기관종별통계 찾는 코드\n",
    "# item 클래스의 text만 추출함    "
   ]
  },
  {
   "cell_type": "code",
   "execution_count": 53,
   "metadata": {
    "collapsed": true
   },
   "outputs": [],
   "source": [
    "diagAmt01 = []\n",
    "diagAmt02 = []\n",
    "diagAmt03 = []\n",
    "grade = []\n",
    "pintCnt01 = []\n",
    "pintCnt02 = []\n",
    "pintCnt03 = []\n",
    "sickCd = []\n",
    "sickNm = []\n",
    "vstDdCnt01 = []\n",
    "vstDdCnt02 = []\n",
    "vstDdCnt03 = []\n",
    "\n",
    "list_soup = xml.find_all('item')\n",
    "\n",
    "for item in list_soup:\n",
    "    diagAmt01.append(item.find('diagAmt01').get_text())\n",
    "    diagAmt02.append(item.find('diagAmt02').get_text())\n",
    "    diagAmt03.append(item.find('diagAmt03').get_text())\n",
    "    grade.append(item.find('grade').get_text())\n",
    "    pintCnt01.append(item.find('pintCnt01').get_text())\n",
    "    pintCnt02.append(item.find('pintCnt02').get_text())\n",
    "    pintCnt03.append(item.find('pintCnt03').get_text())\n",
    "    sickCd.append(item.find('sickCd').get_text())\n",
    "    sickNm.append(item.find('sickNm').get_text())\n",
    "    vstDdCnt01.append(item.find('vstDdCnt01').get_text())\n",
    "    vstDdCnt02.append(item.find('vstDdCnt02').get_text())\n",
    "    vstDdCnt03.append(item.find('vstDdCnt03').get_text())\n",
    "# 클래스별로 값을 리스트에 추가함    "
   ]
  },
  {
   "cell_type": "code",
   "execution_count": 54,
   "metadata": {},
   "outputs": [
    {
     "data": {
      "text/html": [
       "<div>\n",
       "<style>\n",
       "    .dataframe thead tr:only-child th {\n",
       "        text-align: right;\n",
       "    }\n",
       "\n",
       "    .dataframe thead th {\n",
       "        text-align: left;\n",
       "    }\n",
       "\n",
       "    .dataframe tbody tr th {\n",
       "        vertical-align: top;\n",
       "    }\n",
       "</style>\n",
       "<table border=\"1\" class=\"dataframe\">\n",
       "  <thead>\n",
       "    <tr style=\"text-align: right;\">\n",
       "      <th></th>\n",
       "      <th>DiagAmt01</th>\n",
       "      <th>DiagAmt02</th>\n",
       "      <th>DiagAmt03</th>\n",
       "      <th>Grade</th>\n",
       "      <th>PintCnt01</th>\n",
       "      <th>PintCnt02</th>\n",
       "      <th>PintCnt03</th>\n",
       "      <th>SickCd</th>\n",
       "      <th>SickNm</th>\n",
       "      <th>VstDdCnt01</th>\n",
       "      <th>VstDdCnt02</th>\n",
       "      <th>VstDdCnt03</th>\n",
       "    </tr>\n",
       "  </thead>\n",
       "  <tbody>\n",
       "    <tr>\n",
       "      <th>0</th>\n",
       "      <td>127,469,000[2013]</td>\n",
       "      <td>140,291,223[2012]</td>\n",
       "      <td>159,820,410[2011]</td>\n",
       "      <td>전체</td>\n",
       "      <td>1,853,656[2013]</td>\n",
       "      <td>2,074,482[2012]</td>\n",
       "      <td>2,199,501[2011]</td>\n",
       "      <td>J45</td>\n",
       "      <td>천식</td>\n",
       "      <td>6,103,693[2013]</td>\n",
       "      <td>7,208,364[2012]</td>\n",
       "      <td>8,220,046[2011]</td>\n",
       "    </tr>\n",
       "    <tr>\n",
       "      <th>1</th>\n",
       "      <td>10,460,683[2013]</td>\n",
       "      <td>11,381,535[2012]</td>\n",
       "      <td>18,929,473[2011]</td>\n",
       "      <td>상급종합병원</td>\n",
       "      <td>45,979[2013]</td>\n",
       "      <td>53,990[2012]</td>\n",
       "      <td>89,538[2011]</td>\n",
       "      <td>J45</td>\n",
       "      <td>천식</td>\n",
       "      <td>155,260[2013]</td>\n",
       "      <td>171,356[2012]</td>\n",
       "      <td>329,220[2011]</td>\n",
       "    </tr>\n",
       "    <tr>\n",
       "      <th>2</th>\n",
       "      <td>23,802,925[2013]</td>\n",
       "      <td>24,750,201[2012]</td>\n",
       "      <td>31,746,133[2011]</td>\n",
       "      <td>종합병원</td>\n",
       "      <td>122,558[2013]</td>\n",
       "      <td>130,243[2012]</td>\n",
       "      <td>165,007[2011]</td>\n",
       "      <td>J45</td>\n",
       "      <td>천식</td>\n",
       "      <td>414,038[2013]</td>\n",
       "      <td>441,263[2012]</td>\n",
       "      <td>631,785[2011]</td>\n",
       "    </tr>\n",
       "    <tr>\n",
       "      <th>3</th>\n",
       "      <td>26,953,259[2013]</td>\n",
       "      <td>27,044,375[2012]</td>\n",
       "      <td>26,686,593[2011]</td>\n",
       "      <td>병원급</td>\n",
       "      <td>188,207[2013]</td>\n",
       "      <td>194,919[2012]</td>\n",
       "      <td>180,421[2011]</td>\n",
       "      <td>J45</td>\n",
       "      <td>천식</td>\n",
       "      <td>677,719[2013]</td>\n",
       "      <td>715,939[2012]</td>\n",
       "      <td>827,902[2011]</td>\n",
       "    </tr>\n",
       "    <tr>\n",
       "      <th>4</th>\n",
       "      <td>65,883,490[2013]</td>\n",
       "      <td>76,563,477[2012]</td>\n",
       "      <td>81,881,039[2011]</td>\n",
       "      <td>의원급</td>\n",
       "      <td>1,559,029[2013]</td>\n",
       "      <td>1,774,499[2012]</td>\n",
       "      <td>1,865,723[2011]</td>\n",
       "      <td>J45</td>\n",
       "      <td>천식</td>\n",
       "      <td>4,823,520[2013]</td>\n",
       "      <td>5,836,288[2012]</td>\n",
       "      <td>6,383,313[2011]</td>\n",
       "    </tr>\n",
       "  </tbody>\n",
       "</table>\n",
       "</div>"
      ],
      "text/plain": [
       "                    DiagAmt01                   DiagAmt02  \\\n",
       "0           127,469,000[2013]           140,291,223[2012]   \n",
       "1            10,460,683[2013]            11,381,535[2012]   \n",
       "2            23,802,925[2013]            24,750,201[2012]   \n",
       "3            26,953,259[2013]            27,044,375[2012]   \n",
       "4            65,883,490[2013]            76,563,477[2012]   \n",
       "\n",
       "                    DiagAmt03   Grade                   PintCnt01  \\\n",
       "0           159,820,410[2011]      전체             1,853,656[2013]   \n",
       "1            18,929,473[2011]  상급종합병원                45,979[2013]   \n",
       "2            31,746,133[2011]    종합병원               122,558[2013]   \n",
       "3            26,686,593[2011]     병원급               188,207[2013]   \n",
       "4            81,881,039[2011]     의원급             1,559,029[2013]   \n",
       "\n",
       "                    PintCnt02                   PintCnt03 SickCd SickNm  \\\n",
       "0             2,074,482[2012]             2,199,501[2011]    J45     천식   \n",
       "1                53,990[2012]                89,538[2011]    J45     천식   \n",
       "2               130,243[2012]               165,007[2011]    J45     천식   \n",
       "3               194,919[2012]               180,421[2011]    J45     천식   \n",
       "4             1,774,499[2012]             1,865,723[2011]    J45     천식   \n",
       "\n",
       "                   VstDdCnt01                  VstDdCnt02  \\\n",
       "0             6,103,693[2013]             7,208,364[2012]   \n",
       "1               155,260[2013]               171,356[2012]   \n",
       "2               414,038[2013]               441,263[2012]   \n",
       "3               677,719[2013]               715,939[2012]   \n",
       "4             4,823,520[2013]             5,836,288[2012]   \n",
       "\n",
       "                   VstDdCnt03  \n",
       "0             8,220,046[2011]  \n",
       "1               329,220[2011]  \n",
       "2               631,785[2011]  \n",
       "3               827,902[2011]  \n",
       "4             6,383,313[2011]  "
      ]
     },
     "execution_count": 54,
     "metadata": {},
     "output_type": "execute_result"
    }
   ],
   "source": [
    "import pandas as pd\n",
    "data3 = {'DiagAmt01':diagAmt01, 'DiagAmt02':diagAmt02, 'DiagAmt03':diagAmt03, 'Grade':grade, 'PintCnt01':pintCnt01,\\\n",
    "        'PintCnt02':pintCnt02, 'PintCnt03':pintCnt03, 'SickCd':sickCd, 'SickNm':sickNm, 'VstDdCnt01':vstDdCnt01,\\\n",
    "        'VstDdCnt02':vstDdCnt02, 'VstDdCnt03':vstDdCnt03}\n",
    "df = pd.DataFrame(data3)\n",
    "df.head()\n",
    "# Pandas모듈을 사용하여 '열이름'에 : 값을 입력하여 데이터화함"
   ]
  },
  {
   "cell_type": "code",
   "execution_count": 55,
   "metadata": {},
   "outputs": [
    {
     "data": {
      "text/html": [
       "<div>\n",
       "<style>\n",
       "    .dataframe thead tr:only-child th {\n",
       "        text-align: right;\n",
       "    }\n",
       "\n",
       "    .dataframe thead th {\n",
       "        text-align: left;\n",
       "    }\n",
       "\n",
       "    .dataframe tbody tr th {\n",
       "        vertical-align: top;\n",
       "    }\n",
       "</style>\n",
       "<table border=\"1\" class=\"dataframe\">\n",
       "  <thead>\n",
       "    <tr style=\"text-align: right;\">\n",
       "      <th></th>\n",
       "      <th>SickCd</th>\n",
       "      <th>SickNm</th>\n",
       "      <th>Grade</th>\n",
       "      <th>DiagAmt01</th>\n",
       "      <th>DiagAmt02</th>\n",
       "      <th>DiagAmt03</th>\n",
       "      <th>PintCnt01</th>\n",
       "      <th>PintCnt02</th>\n",
       "      <th>PintCnt03</th>\n",
       "      <th>VstDdCnt01</th>\n",
       "      <th>VstDdCnt02</th>\n",
       "      <th>VstDdCnt03</th>\n",
       "    </tr>\n",
       "  </thead>\n",
       "  <tbody>\n",
       "    <tr>\n",
       "      <th>0</th>\n",
       "      <td>J45</td>\n",
       "      <td>천식</td>\n",
       "      <td>전체</td>\n",
       "      <td>127,469,000[2013]</td>\n",
       "      <td>140,291,223[2012]</td>\n",
       "      <td>159,820,410[2011]</td>\n",
       "      <td>1,853,656[2013]</td>\n",
       "      <td>2,074,482[2012]</td>\n",
       "      <td>2,199,501[2011]</td>\n",
       "      <td>6,103,693[2013]</td>\n",
       "      <td>7,208,364[2012]</td>\n",
       "      <td>8,220,046[2011]</td>\n",
       "    </tr>\n",
       "    <tr>\n",
       "      <th>1</th>\n",
       "      <td>J45</td>\n",
       "      <td>천식</td>\n",
       "      <td>상급종합병원</td>\n",
       "      <td>10,460,683[2013]</td>\n",
       "      <td>11,381,535[2012]</td>\n",
       "      <td>18,929,473[2011]</td>\n",
       "      <td>45,979[2013]</td>\n",
       "      <td>53,990[2012]</td>\n",
       "      <td>89,538[2011]</td>\n",
       "      <td>155,260[2013]</td>\n",
       "      <td>171,356[2012]</td>\n",
       "      <td>329,220[2011]</td>\n",
       "    </tr>\n",
       "    <tr>\n",
       "      <th>2</th>\n",
       "      <td>J45</td>\n",
       "      <td>천식</td>\n",
       "      <td>종합병원</td>\n",
       "      <td>23,802,925[2013]</td>\n",
       "      <td>24,750,201[2012]</td>\n",
       "      <td>31,746,133[2011]</td>\n",
       "      <td>122,558[2013]</td>\n",
       "      <td>130,243[2012]</td>\n",
       "      <td>165,007[2011]</td>\n",
       "      <td>414,038[2013]</td>\n",
       "      <td>441,263[2012]</td>\n",
       "      <td>631,785[2011]</td>\n",
       "    </tr>\n",
       "    <tr>\n",
       "      <th>3</th>\n",
       "      <td>J45</td>\n",
       "      <td>천식</td>\n",
       "      <td>병원급</td>\n",
       "      <td>26,953,259[2013]</td>\n",
       "      <td>27,044,375[2012]</td>\n",
       "      <td>26,686,593[2011]</td>\n",
       "      <td>188,207[2013]</td>\n",
       "      <td>194,919[2012]</td>\n",
       "      <td>180,421[2011]</td>\n",
       "      <td>677,719[2013]</td>\n",
       "      <td>715,939[2012]</td>\n",
       "      <td>827,902[2011]</td>\n",
       "    </tr>\n",
       "    <tr>\n",
       "      <th>4</th>\n",
       "      <td>J45</td>\n",
       "      <td>천식</td>\n",
       "      <td>의원급</td>\n",
       "      <td>65,883,490[2013]</td>\n",
       "      <td>76,563,477[2012]</td>\n",
       "      <td>81,881,039[2011]</td>\n",
       "      <td>1,559,029[2013]</td>\n",
       "      <td>1,774,499[2012]</td>\n",
       "      <td>1,865,723[2011]</td>\n",
       "      <td>4,823,520[2013]</td>\n",
       "      <td>5,836,288[2012]</td>\n",
       "      <td>6,383,313[2011]</td>\n",
       "    </tr>\n",
       "  </tbody>\n",
       "</table>\n",
       "</div>"
      ],
      "text/plain": [
       "  SickCd SickNm   Grade                   DiagAmt01  \\\n",
       "0    J45     천식      전체           127,469,000[2013]   \n",
       "1    J45     천식  상급종합병원            10,460,683[2013]   \n",
       "2    J45     천식    종합병원            23,802,925[2013]   \n",
       "3    J45     천식     병원급            26,953,259[2013]   \n",
       "4    J45     천식     의원급            65,883,490[2013]   \n",
       "\n",
       "                    DiagAmt02                   DiagAmt03  \\\n",
       "0           140,291,223[2012]           159,820,410[2011]   \n",
       "1            11,381,535[2012]            18,929,473[2011]   \n",
       "2            24,750,201[2012]            31,746,133[2011]   \n",
       "3            27,044,375[2012]            26,686,593[2011]   \n",
       "4            76,563,477[2012]            81,881,039[2011]   \n",
       "\n",
       "                    PintCnt01                   PintCnt02  \\\n",
       "0             1,853,656[2013]             2,074,482[2012]   \n",
       "1                45,979[2013]                53,990[2012]   \n",
       "2               122,558[2013]               130,243[2012]   \n",
       "3               188,207[2013]               194,919[2012]   \n",
       "4             1,559,029[2013]             1,774,499[2012]   \n",
       "\n",
       "                    PintCnt03                  VstDdCnt01  \\\n",
       "0             2,199,501[2011]             6,103,693[2013]   \n",
       "1                89,538[2011]               155,260[2013]   \n",
       "2               165,007[2011]               414,038[2013]   \n",
       "3               180,421[2011]               677,719[2013]   \n",
       "4             1,865,723[2011]             4,823,520[2013]   \n",
       "\n",
       "                   VstDdCnt02                  VstDdCnt03  \n",
       "0             7,208,364[2012]             8,220,046[2011]  \n",
       "1               171,356[2012]               329,220[2011]  \n",
       "2               441,263[2012]               631,785[2011]  \n",
       "3               715,939[2012]               827,902[2011]  \n",
       "4             5,836,288[2012]             6,383,313[2011]  "
      ]
     },
     "execution_count": 55,
     "metadata": {},
     "output_type": "execute_result"
    }
   ],
   "source": [
    "df = pd.DataFrame(data3, columns=['SickCd','SickNm', 'Grade', 'DiagAmt01', 'DiagAmt02', 'DiagAmt03', \\\n",
    "                                 'PintCnt01', 'PintCnt02', 'PintCnt03', 'VstDdCnt01', 'VstDdCnt02', 'VstDdCnt03'])\n",
    "df.head(5)\n",
    "# 칼럼의 순서를 정리함"
   ]
  },
  {
   "cell_type": "code",
   "execution_count": 56,
   "metadata": {
    "collapsed": true
   },
   "outputs": [],
   "source": [
    "df.to_csv('../data/disease_03.csv', sep=',', encoding='UTF-8')\n",
    "# 전처리한 데이터를 disease_03.csv 파일로 저장"
   ]
  },
  {
   "cell_type": "code",
   "execution_count": 57,
   "metadata": {},
   "outputs": [
    {
     "name": "stdout",
     "output_type": "stream",
     "text": [
      "         127,469,000[2013]         140,291,223[2012]         159,820,410[2011]전체           1,853,656[2013]           2,074,482[2012]           2,199,501[2011]1J45천식           6,103,693[2013]           7,208,364[2012]           8,220,046[2011]\n",
      "          20,108,232[2013]          21,918,261[2012]          26,959,516[2011]서울             343,972[2013]             380,875[2012]             417,137[2011]2J45천식           1,051,126[2013]           1,214,194[2012]           1,417,559[2011]\n",
      "           8,934,263[2013]           9,723,070[2012]          11,065,524[2011]부산             104,557[2013]             123,186[2012]             134,642[2011]3J45천식             374,821[2013]             453,279[2012]             544,172[2011]\n",
      "           5,884,281[2013]           6,235,196[2012]           7,579,843[2011]인천             102,759[2013]             117,290[2012]             126,829[2011]4J45천식             337,934[2013]             387,012[2012]             468,681[2011]\n",
      "           6,954,177[2013]           7,476,960[2012]           8,296,598[2011]대구             102,745[2013]             115,997[2012]             119,447[2011]5J45천식             349,566[2013]             421,207[2012]             467,130[2011]\n",
      "           5,210,162[2013]           5,486,153[2012]           6,342,958[2011]광주              63,276[2013]              70,406[2012]              71,098[2011]6J45천식             212,349[2013]             247,210[2012]             274,269[2011]\n",
      "           3,099,635[2013]           3,453,775[2012]           4,191,479[2011]대전              51,924[2013]              55,698[2012]              62,832[2011]7J45천식             160,746[2013]             182,504[2012]             216,187[2011]\n",
      "           2,946,102[2013]           3,114,763[2012]           3,506,141[2011]울산              47,070[2013]              51,877[2012]              51,621[2011]8J45천식             141,917[2013]             164,912[2012]             177,837[2011]\n",
      "          27,281,669[2013]          30,071,234[2012]          34,363,361[2011]경기             449,607[2013]             504,936[2012]             542,278[2011]9J45천식           1,398,508[2013]           1,674,207[2012]           1,946,068[2011]\n",
      "           3,228,606[2013]           3,661,345[2012]           4,244,447[2011]강원              48,183[2013]              54,556[2012]              57,592[2011]10J45천식             143,808[2013]             166,433[2012]             188,329[2011]\n",
      "           3,385,252[2013]           4,186,653[2012]           4,708,561[2011]충북              61,327[2013]              70,400[2012]              71,036[2011]11J45천식             185,740[2013]             224,721[2012]             252,184[2011]\n",
      "           5,137,065[2013]           6,432,922[2012]           6,861,276[2011]충남              75,281[2013]              89,588[2012]              96,016[2011]12J45천식             253,543[2013]             346,578[2012]             362,124[2011]\n",
      "           6,971,715[2013]           7,836,814[2012]           8,339,712[2011]전북              83,112[2013]              89,251[2012]              91,020[2011]13J45천식             305,309[2013]             350,809[2012]             367,147[2011]\n",
      "           7,598,278[2013]           8,172,597[2012]           9,361,124[2011]전남              78,679[2013]              81,359[2012]              83,101[2011]14J45천식             283,246[2013]             304,289[2012]             341,986[2011]\n",
      "           7,324,896[2013]           7,923,993[2012]           8,757,488[2011]경북             106,008[2013]             123,142[2012]             128,765[2011]15J45천식             351,220[2013]             431,918[2012]             483,357[2011]\n",
      "          12,083,870[2013]          13,166,799[2012]          13,456,111[2011]경남             141,660[2013]             158,952[2012]             166,582[2011]16J45천식             489,632[2013]             567,599[2012]             634,704[2011]\n",
      "           1,172,611[2013]           1,363,568[2012]           1,786,269[2011]제주              18,440[2013]              21,456[2012]              23,093[2011]17J45천식              56,356[2013]              68,046[2012]              78,312[2011]\n",
      "             147,786[2013]              67,101[2012]0[2011]세종               2,511[2013]               1,433[2012]0[2011]18J45천식               7,872[2013]               3,445[2012]0[2011]\n"
     ]
    }
   ],
   "source": [
    "from bs4 import BeautifulSoup\n",
    "import urllib.request\n",
    "req = urllib.request.urlopen(url5)\n",
    "xml = BeautifulSoup(req, 'xml')\n",
    "for item in xml.findAll('item'):\n",
    "    print(item.text)\n",
    "# 질병의료기관지역별통계 찾는 코드\n",
    "# item 클래스의 text만 추출함    "
   ]
  },
  {
   "cell_type": "code",
   "execution_count": 58,
   "metadata": {
    "collapsed": true
   },
   "outputs": [],
   "source": [
    "diagAmt01 = []\n",
    "diagAmt02 = []\n",
    "diagAmt03 = []\n",
    "lcName = []\n",
    "pintCnt01 = []\n",
    "pintCnt02 = []\n",
    "pintCnt03 = []\n",
    "sickCd = []\n",
    "sickNm = []\n",
    "vstDdCnt01 = []\n",
    "vstDdCnt02 = []\n",
    "vstDdCnt03 = []\n",
    "\n",
    "list_soup = xml.find_all('item')\n",
    "\n",
    "for item in list_soup:\n",
    "    diagAmt01.append(item.find('diagAmt01').get_text())\n",
    "    diagAmt02.append(item.find('diagAmt02').get_text())\n",
    "    diagAmt03.append(item.find('diagAmt03').get_text())\n",
    "    lcName.append(item.find('lcName').get_text())\n",
    "    pintCnt01.append(item.find('pintCnt01').get_text())\n",
    "    pintCnt02.append(item.find('pintCnt02').get_text())\n",
    "    pintCnt03.append(item.find('pintCnt03').get_text())\n",
    "    sickCd.append(item.find('sickCd').get_text())\n",
    "    sickNm.append(item.find('sickNm').get_text())\n",
    "    vstDdCnt01.append(item.find('vstDdCnt01').get_text())\n",
    "    vstDdCnt02.append(item.find('vstDdCnt02').get_text())\n",
    "    vstDdCnt03.append(item.find('vstDdCnt03').get_text())\n",
    "# 클래스별로 값을 리스트에 추가함    "
   ]
  },
  {
   "cell_type": "code",
   "execution_count": 59,
   "metadata": {},
   "outputs": [
    {
     "data": {
      "text/html": [
       "<div>\n",
       "<style>\n",
       "    .dataframe thead tr:only-child th {\n",
       "        text-align: right;\n",
       "    }\n",
       "\n",
       "    .dataframe thead th {\n",
       "        text-align: left;\n",
       "    }\n",
       "\n",
       "    .dataframe tbody tr th {\n",
       "        vertical-align: top;\n",
       "    }\n",
       "</style>\n",
       "<table border=\"1\" class=\"dataframe\">\n",
       "  <thead>\n",
       "    <tr style=\"text-align: right;\">\n",
       "      <th></th>\n",
       "      <th>DiagAmt01</th>\n",
       "      <th>DiagAmt02</th>\n",
       "      <th>DiagAmt03</th>\n",
       "      <th>LcName</th>\n",
       "      <th>PintCnt01</th>\n",
       "      <th>PintCnt02</th>\n",
       "      <th>PintCnt03</th>\n",
       "      <th>SickCd</th>\n",
       "      <th>SickNm</th>\n",
       "      <th>VstDdCnt01</th>\n",
       "      <th>VstDdCnt02</th>\n",
       "      <th>VstDdCnt03</th>\n",
       "    </tr>\n",
       "  </thead>\n",
       "  <tbody>\n",
       "    <tr>\n",
       "      <th>0</th>\n",
       "      <td>127,469,000[2013]</td>\n",
       "      <td>140,291,223[2012]</td>\n",
       "      <td>159,820,410[2011]</td>\n",
       "      <td>전체</td>\n",
       "      <td>1,853,656[2013]</td>\n",
       "      <td>2,074,482[2012]</td>\n",
       "      <td>2,199,501[2011]</td>\n",
       "      <td>J45</td>\n",
       "      <td>천식</td>\n",
       "      <td>6,103,693[2013]</td>\n",
       "      <td>7,208,364[2012]</td>\n",
       "      <td>8,220,046[2011]</td>\n",
       "    </tr>\n",
       "    <tr>\n",
       "      <th>1</th>\n",
       "      <td>20,108,232[2013]</td>\n",
       "      <td>21,918,261[2012]</td>\n",
       "      <td>26,959,516[2011]</td>\n",
       "      <td>서울</td>\n",
       "      <td>343,972[2013]</td>\n",
       "      <td>380,875[2012]</td>\n",
       "      <td>417,137[2011]</td>\n",
       "      <td>J45</td>\n",
       "      <td>천식</td>\n",
       "      <td>1,051,126[2013]</td>\n",
       "      <td>1,214,194[2012]</td>\n",
       "      <td>1,417,559[2011]</td>\n",
       "    </tr>\n",
       "    <tr>\n",
       "      <th>2</th>\n",
       "      <td>8,934,263[2013]</td>\n",
       "      <td>9,723,070[2012]</td>\n",
       "      <td>11,065,524[2011]</td>\n",
       "      <td>부산</td>\n",
       "      <td>104,557[2013]</td>\n",
       "      <td>123,186[2012]</td>\n",
       "      <td>134,642[2011]</td>\n",
       "      <td>J45</td>\n",
       "      <td>천식</td>\n",
       "      <td>374,821[2013]</td>\n",
       "      <td>453,279[2012]</td>\n",
       "      <td>544,172[2011]</td>\n",
       "    </tr>\n",
       "    <tr>\n",
       "      <th>3</th>\n",
       "      <td>5,884,281[2013]</td>\n",
       "      <td>6,235,196[2012]</td>\n",
       "      <td>7,579,843[2011]</td>\n",
       "      <td>인천</td>\n",
       "      <td>102,759[2013]</td>\n",
       "      <td>117,290[2012]</td>\n",
       "      <td>126,829[2011]</td>\n",
       "      <td>J45</td>\n",
       "      <td>천식</td>\n",
       "      <td>337,934[2013]</td>\n",
       "      <td>387,012[2012]</td>\n",
       "      <td>468,681[2011]</td>\n",
       "    </tr>\n",
       "    <tr>\n",
       "      <th>4</th>\n",
       "      <td>6,954,177[2013]</td>\n",
       "      <td>7,476,960[2012]</td>\n",
       "      <td>8,296,598[2011]</td>\n",
       "      <td>대구</td>\n",
       "      <td>102,745[2013]</td>\n",
       "      <td>115,997[2012]</td>\n",
       "      <td>119,447[2011]</td>\n",
       "      <td>J45</td>\n",
       "      <td>천식</td>\n",
       "      <td>349,566[2013]</td>\n",
       "      <td>421,207[2012]</td>\n",
       "      <td>467,130[2011]</td>\n",
       "    </tr>\n",
       "  </tbody>\n",
       "</table>\n",
       "</div>"
      ],
      "text/plain": [
       "                    DiagAmt01                   DiagAmt02  \\\n",
       "0           127,469,000[2013]           140,291,223[2012]   \n",
       "1            20,108,232[2013]            21,918,261[2012]   \n",
       "2             8,934,263[2013]             9,723,070[2012]   \n",
       "3             5,884,281[2013]             6,235,196[2012]   \n",
       "4             6,954,177[2013]             7,476,960[2012]   \n",
       "\n",
       "                    DiagAmt03 LcName                   PintCnt01  \\\n",
       "0           159,820,410[2011]     전체             1,853,656[2013]   \n",
       "1            26,959,516[2011]     서울               343,972[2013]   \n",
       "2            11,065,524[2011]     부산               104,557[2013]   \n",
       "3             7,579,843[2011]     인천               102,759[2013]   \n",
       "4             8,296,598[2011]     대구               102,745[2013]   \n",
       "\n",
       "                    PintCnt02                   PintCnt03 SickCd SickNm  \\\n",
       "0             2,074,482[2012]             2,199,501[2011]    J45     천식   \n",
       "1               380,875[2012]               417,137[2011]    J45     천식   \n",
       "2               123,186[2012]               134,642[2011]    J45     천식   \n",
       "3               117,290[2012]               126,829[2011]    J45     천식   \n",
       "4               115,997[2012]               119,447[2011]    J45     천식   \n",
       "\n",
       "                   VstDdCnt01                  VstDdCnt02  \\\n",
       "0             6,103,693[2013]             7,208,364[2012]   \n",
       "1             1,051,126[2013]             1,214,194[2012]   \n",
       "2               374,821[2013]               453,279[2012]   \n",
       "3               337,934[2013]               387,012[2012]   \n",
       "4               349,566[2013]               421,207[2012]   \n",
       "\n",
       "                   VstDdCnt03  \n",
       "0             8,220,046[2011]  \n",
       "1             1,417,559[2011]  \n",
       "2               544,172[2011]  \n",
       "3               468,681[2011]  \n",
       "4               467,130[2011]  "
      ]
     },
     "execution_count": 59,
     "metadata": {},
     "output_type": "execute_result"
    }
   ],
   "source": [
    "import pandas as pd\n",
    "data4 = {'DiagAmt01':diagAmt01, 'DiagAmt02':diagAmt02, 'DiagAmt03':diagAmt03, 'LcName':lcName, 'PintCnt01':pintCnt01,\\\n",
    "        'PintCnt02':pintCnt02, 'PintCnt03':pintCnt03, 'SickCd':sickCd, 'SickNm':sickNm, 'VstDdCnt01':vstDdCnt01,\\\n",
    "        'VstDdCnt02':vstDdCnt02, 'VstDdCnt03':vstDdCnt03}\n",
    "df = pd.DataFrame(data4)\n",
    "df.head()\n",
    "# Pandas모듈을 사용하여 '열이름'에 : 값을 입력하여 데이터화함 "
   ]
  },
  {
   "cell_type": "code",
   "execution_count": 60,
   "metadata": {},
   "outputs": [
    {
     "data": {
      "text/html": [
       "<div>\n",
       "<style>\n",
       "    .dataframe thead tr:only-child th {\n",
       "        text-align: right;\n",
       "    }\n",
       "\n",
       "    .dataframe thead th {\n",
       "        text-align: left;\n",
       "    }\n",
       "\n",
       "    .dataframe tbody tr th {\n",
       "        vertical-align: top;\n",
       "    }\n",
       "</style>\n",
       "<table border=\"1\" class=\"dataframe\">\n",
       "  <thead>\n",
       "    <tr style=\"text-align: right;\">\n",
       "      <th></th>\n",
       "      <th>SickCd</th>\n",
       "      <th>SickNm</th>\n",
       "      <th>LcName</th>\n",
       "      <th>DiagAmt01</th>\n",
       "      <th>DiagAmt02</th>\n",
       "      <th>DiagAmt03</th>\n",
       "      <th>PintCnt01</th>\n",
       "      <th>PintCnt02</th>\n",
       "      <th>PintCnt03</th>\n",
       "      <th>VstDdCnt01</th>\n",
       "      <th>VstDdCnt02</th>\n",
       "      <th>VstDdCnt03</th>\n",
       "    </tr>\n",
       "  </thead>\n",
       "  <tbody>\n",
       "    <tr>\n",
       "      <th>0</th>\n",
       "      <td>J45</td>\n",
       "      <td>천식</td>\n",
       "      <td>전체</td>\n",
       "      <td>127,469,000[2013]</td>\n",
       "      <td>140,291,223[2012]</td>\n",
       "      <td>159,820,410[2011]</td>\n",
       "      <td>1,853,656[2013]</td>\n",
       "      <td>2,074,482[2012]</td>\n",
       "      <td>2,199,501[2011]</td>\n",
       "      <td>6,103,693[2013]</td>\n",
       "      <td>7,208,364[2012]</td>\n",
       "      <td>8,220,046[2011]</td>\n",
       "    </tr>\n",
       "    <tr>\n",
       "      <th>1</th>\n",
       "      <td>J45</td>\n",
       "      <td>천식</td>\n",
       "      <td>서울</td>\n",
       "      <td>20,108,232[2013]</td>\n",
       "      <td>21,918,261[2012]</td>\n",
       "      <td>26,959,516[2011]</td>\n",
       "      <td>343,972[2013]</td>\n",
       "      <td>380,875[2012]</td>\n",
       "      <td>417,137[2011]</td>\n",
       "      <td>1,051,126[2013]</td>\n",
       "      <td>1,214,194[2012]</td>\n",
       "      <td>1,417,559[2011]</td>\n",
       "    </tr>\n",
       "    <tr>\n",
       "      <th>2</th>\n",
       "      <td>J45</td>\n",
       "      <td>천식</td>\n",
       "      <td>부산</td>\n",
       "      <td>8,934,263[2013]</td>\n",
       "      <td>9,723,070[2012]</td>\n",
       "      <td>11,065,524[2011]</td>\n",
       "      <td>104,557[2013]</td>\n",
       "      <td>123,186[2012]</td>\n",
       "      <td>134,642[2011]</td>\n",
       "      <td>374,821[2013]</td>\n",
       "      <td>453,279[2012]</td>\n",
       "      <td>544,172[2011]</td>\n",
       "    </tr>\n",
       "    <tr>\n",
       "      <th>3</th>\n",
       "      <td>J45</td>\n",
       "      <td>천식</td>\n",
       "      <td>인천</td>\n",
       "      <td>5,884,281[2013]</td>\n",
       "      <td>6,235,196[2012]</td>\n",
       "      <td>7,579,843[2011]</td>\n",
       "      <td>102,759[2013]</td>\n",
       "      <td>117,290[2012]</td>\n",
       "      <td>126,829[2011]</td>\n",
       "      <td>337,934[2013]</td>\n",
       "      <td>387,012[2012]</td>\n",
       "      <td>468,681[2011]</td>\n",
       "    </tr>\n",
       "    <tr>\n",
       "      <th>4</th>\n",
       "      <td>J45</td>\n",
       "      <td>천식</td>\n",
       "      <td>대구</td>\n",
       "      <td>6,954,177[2013]</td>\n",
       "      <td>7,476,960[2012]</td>\n",
       "      <td>8,296,598[2011]</td>\n",
       "      <td>102,745[2013]</td>\n",
       "      <td>115,997[2012]</td>\n",
       "      <td>119,447[2011]</td>\n",
       "      <td>349,566[2013]</td>\n",
       "      <td>421,207[2012]</td>\n",
       "      <td>467,130[2011]</td>\n",
       "    </tr>\n",
       "  </tbody>\n",
       "</table>\n",
       "</div>"
      ],
      "text/plain": [
       "  SickCd SickNm LcName                   DiagAmt01  \\\n",
       "0    J45     천식     전체           127,469,000[2013]   \n",
       "1    J45     천식     서울            20,108,232[2013]   \n",
       "2    J45     천식     부산             8,934,263[2013]   \n",
       "3    J45     천식     인천             5,884,281[2013]   \n",
       "4    J45     천식     대구             6,954,177[2013]   \n",
       "\n",
       "                    DiagAmt02                   DiagAmt03  \\\n",
       "0           140,291,223[2012]           159,820,410[2011]   \n",
       "1            21,918,261[2012]            26,959,516[2011]   \n",
       "2             9,723,070[2012]            11,065,524[2011]   \n",
       "3             6,235,196[2012]             7,579,843[2011]   \n",
       "4             7,476,960[2012]             8,296,598[2011]   \n",
       "\n",
       "                    PintCnt01                   PintCnt02  \\\n",
       "0             1,853,656[2013]             2,074,482[2012]   \n",
       "1               343,972[2013]               380,875[2012]   \n",
       "2               104,557[2013]               123,186[2012]   \n",
       "3               102,759[2013]               117,290[2012]   \n",
       "4               102,745[2013]               115,997[2012]   \n",
       "\n",
       "                    PintCnt03                  VstDdCnt01  \\\n",
       "0             2,199,501[2011]             6,103,693[2013]   \n",
       "1               417,137[2011]             1,051,126[2013]   \n",
       "2               134,642[2011]               374,821[2013]   \n",
       "3               126,829[2011]               337,934[2013]   \n",
       "4               119,447[2011]               349,566[2013]   \n",
       "\n",
       "                   VstDdCnt02                  VstDdCnt03  \n",
       "0             7,208,364[2012]             8,220,046[2011]  \n",
       "1             1,214,194[2012]             1,417,559[2011]  \n",
       "2               453,279[2012]               544,172[2011]  \n",
       "3               387,012[2012]               468,681[2011]  \n",
       "4               421,207[2012]               467,130[2011]  "
      ]
     },
     "execution_count": 60,
     "metadata": {},
     "output_type": "execute_result"
    }
   ],
   "source": [
    "df = pd.DataFrame(data4, columns=['SickCd','SickNm', 'LcName', 'DiagAmt01', 'DiagAmt02', 'DiagAmt03', \\\n",
    "                                 'PintCnt01', 'PintCnt02', 'PintCnt03', 'VstDdCnt01', 'VstDdCnt02', 'VstDdCnt03'])\n",
    "df.head(5)\n",
    "# 칼럼의 순서를 정리함"
   ]
  },
  {
   "cell_type": "code",
   "execution_count": 61,
   "metadata": {
    "collapsed": true
   },
   "outputs": [],
   "source": [
    "df.to_csv('../data/disease_04.csv', sep=',', encoding='UTF-8')\n",
    "# 전처리한 데이터를 disease_04.csv 파일로 저장"
   ]
  }
 ],
 "metadata": {
  "kernelspec": {
   "display_name": "Python 3",
   "language": "python",
   "name": "python3"
  },
  "language_info": {
   "codemirror_mode": {
    "name": "ipython",
    "version": 3
   },
   "file_extension": ".py",
   "mimetype": "text/x-python",
   "name": "python",
   "nbconvert_exporter": "python",
   "pygments_lexer": "ipython3",
   "version": "3.6.2"
  }
 },
 "nbformat": 4,
 "nbformat_minor": 2
}
