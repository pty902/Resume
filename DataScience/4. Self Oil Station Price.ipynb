{
 "cells": [
  {
   "cell_type": "code",
   "execution_count": 1,
   "metadata": {
    "collapsed": true
   },
   "outputs": [],
   "source": [
    "from selenium import webdriver"
   ]
  },
  {
   "cell_type": "code",
   "execution_count": 2,
   "metadata": {
    "collapsed": true
   },
   "outputs": [],
   "source": [
    "driver = webdriver.Chrome('../driver/chromedriver')\n",
    "driver.get(\"http://naver.com\")\n",
    "# Chromedriver로 naver 접속"
   ]
  },
  {
   "cell_type": "code",
   "execution_count": 3,
   "metadata": {},
   "outputs": [
    {
     "name": "stderr",
     "output_type": "stream",
     "text": [
      "C:\\ProgramData\\Anaconda3\\lib\\site-packages\\selenium\\webdriver\\remote\\webdriver.py:1031: UserWarning: name used for saved screenshot does not match file type. It should end with a `.png` extension\n",
      "  \"type. It should end with a `.png` extension\", UserWarning)\n"
     ]
    },
    {
     "data": {
      "text/plain": [
       "True"
      ]
     },
     "execution_count": 3,
     "metadata": {},
     "output_type": "execute_result"
    }
   ],
   "source": [
    "driver.save_screenshot('../images/001.jpg')\n",
    "# images 폴더에 스크린샷 저장"
   ]
  },
  {
   "cell_type": "code",
   "execution_count": 4,
   "metadata": {
    "collapsed": true
   },
   "outputs": [],
   "source": [
    "xpath1 = \"\"\"//*[@id=\"account\"]/div/a/i\"\"\"\n",
    "driver.find_element_by_xpath(xpath1).click()\n",
    "# naver 홈페이지에서 login창 클릭"
   ]
  },
  {
   "cell_type": "code",
   "execution_count": 5,
   "metadata": {
    "collapsed": true
   },
   "outputs": [],
   "source": [
    "elem_login = driver.find_element_by_id(\"id\")\n",
    "elem_login.clear()\n",
    "elem_login.send_keys(\"pty902\")\n",
    "\n",
    "elem_login = driver.find_element_by_id(\"pw\")\n",
    "elem_login.clear()\n",
    "elem_login.send_keys(\"*************\")\n",
    "# id 입력란 찾고 내용 초기화후 send_keys로 아이디 입력\n",
    "# pw 입력란 찾고 내용 초기화후 send_keys로 비밀번호 입력"
   ]
  },
  {
   "cell_type": "code",
   "execution_count": 6,
   "metadata": {
    "collapsed": true
   },
   "outputs": [],
   "source": [
    "xpath2 = \"\"\"//*[@id=\"frmNIDLogin\"]/fieldset/input\"\"\"\n",
    "driver.find_element_by_xpath(xpath2).click()\n",
    "# 아이디 비밀번호 입력후 로그인창 클릭"
   ]
  },
  {
   "cell_type": "code",
   "execution_count": 7,
   "metadata": {
    "collapsed": true
   },
   "outputs": [],
   "source": [
    "driver.get(\"http://mail.naver.com\")"
   ]
  },
  {
   "cell_type": "code",
   "execution_count": 8,
   "metadata": {
    "collapsed": true
   },
   "outputs": [],
   "source": [
    "from bs4 import BeautifulSoup\n",
    "html = driver.page_source\n",
    "soup = BeautifulSoup(html, 'html.parser')"
   ]
  },
  {
   "cell_type": "code",
   "execution_count": 9,
   "metadata": {},
   "outputs": [
    {
     "data": {
      "text/plain": [
       "[]"
      ]
     },
     "execution_count": 9,
     "metadata": {},
     "output_type": "execute_result"
    }
   ],
   "source": [
    "raw_list = soup.find_all('div', 'name _ccr(lst.from) ')\n",
    "raw_list"
   ]
  },
  {
   "cell_type": "code",
   "execution_count": 10,
   "metadata": {},
   "outputs": [
    {
     "data": {
      "text/plain": [
       "[]"
      ]
     },
     "execution_count": 10,
     "metadata": {},
     "output_type": "execute_result"
    }
   ],
   "source": [
    "send_list = [raw_list[n].find('a').get_text() for n in range(0, len(raw_list))]\n",
    "send_list"
   ]
  },
  {
   "cell_type": "code",
   "execution_count": 11,
   "metadata": {
    "collapsed": true
   },
   "outputs": [],
   "source": [
    "driver.close()"
   ]
  },
  {
   "cell_type": "code",
   "execution_count": 12,
   "metadata": {
    "collapsed": true
   },
   "outputs": [],
   "source": [
    "driver = webdriver.Chrome('../driver/chromedriver')\n",
    "driver.get(\"http://www.opinet.co.kr/searRgSelect.do\")"
   ]
  },
  {
   "cell_type": "code",
   "execution_count": 13,
   "metadata": {
    "collapsed": true
   },
   "outputs": [],
   "source": [
    "gu_list_raw = driver.find_element_by_xpath(\"\"\"//*[@id=\"SIGUNGU_NM0\"]\"\"\")\n",
    "gu_list = gu_list_raw.find_elements_by_tag_name(\"option\")\n",
    "# 시/군/구 선택창 xpath구하기"
   ]
  },
  {
   "cell_type": "code",
   "execution_count": 14,
   "metadata": {},
   "outputs": [
    {
     "data": {
      "text/plain": [
       "['남구', '달서구', '달성군', '동구', '북구', '서구', '수성구', '중구']"
      ]
     },
     "execution_count": 14,
     "metadata": {},
     "output_type": "execute_result"
    }
   ],
   "source": [
    "gu_names = [option.get_attribute(\"value\") for option in gu_list]\n",
    "gu_names.remove('')\n",
    "gu_names\n",
    "# option의 값에 공백제거하고 가져오기"
   ]
  },
  {
   "cell_type": "code",
   "execution_count": 15,
   "metadata": {
    "collapsed": true
   },
   "outputs": [],
   "source": [
    "element = driver.find_element_by_id(\"SIGUNGU_NM0\")\n",
    "element.send_keys(gu_names[0])\n",
    "# Chromedriver로 시/군/구에 첫번째인 남구 입력"
   ]
  },
  {
   "cell_type": "code",
   "execution_count": 16,
   "metadata": {
    "collapsed": true
   },
   "outputs": [],
   "source": [
    "xpath3 = \"\"\"//*[@id=\"searRgSelect\"]/span\"\"\"\n",
    "element_get_excel = driver.find_element_by_xpath(xpath3).click()\n",
    "# 조회 버튼 xpath 구하고 클릭하기"
   ]
  },
  {
   "cell_type": "code",
   "execution_count": 17,
   "metadata": {
    "collapsed": true
   },
   "outputs": [],
   "source": [
    "import time\n",
    "from tqdm import tqdm_notebook\n",
    "\n",
    "for gu in tqdm_notebook(gu_names):\n",
    "    element2 = driver.find_element_by_id(\"SIGUNGU_NM0\")\n",
    "    element2.send_keys(gu)\n",
    "    \n",
    "    time.sleep(2)\n",
    "    \n",
    "    xpath4 = \"\"\"//*[@id=\"searRgSelect\"]/span\"\"\"\n",
    "    element_sel_gu = driver.find_element_by_xpath(xpath4).click()\n",
    "    \n",
    "    time.sleep(1)\n",
    "    \n",
    "    xpath5 = \"\"\"//*[@id=\"glopopd_excel\"]/span\"\"\"\n",
    "    element_get_excel = driver.find_element_by_xpath(xpath5).click()\n",
    "    \n",
    "    time.sleep(1)\n",
    "\n",
    "# 코드에는 문제가 없으나 홈페이지 이상으로 엑셀다운로드 장애발생"
   ]
  },
  {
   "cell_type": "code",
   "execution_count": 18,
   "metadata": {
    "collapsed": true
   },
   "outputs": [],
   "source": [
    "driver.close()"
   ]
  },
  {
   "cell_type": "code",
   "execution_count": 19,
   "metadata": {
    "collapsed": true
   },
   "outputs": [],
   "source": [
    "import pandas as pd\n",
    "from glob import glob\n",
    "# glob 모듈로 많은 파일을 쉽게 읽음"
   ]
  },
  {
   "cell_type": "code",
   "execution_count": 20,
   "metadata": {},
   "outputs": [
    {
     "data": {
      "text/plain": [
       "['../data\\\\지역_위치별(주유소) (1).xls',\n",
       " '../data\\\\지역_위치별(주유소) (2).xls',\n",
       " '../data\\\\지역_위치별(주유소) (3).xls',\n",
       " '../data\\\\지역_위치별(주유소) (4).xls',\n",
       " '../data\\\\지역_위치별(주유소) (5).xls',\n",
       " '../data\\\\지역_위치별(주유소) (6).xls',\n",
       " '../data\\\\지역_위치별(주유소) (7).xls',\n",
       " '../data\\\\지역_위치별(주유소).xls']"
      ]
     },
     "execution_count": 20,
     "metadata": {},
     "output_type": "execute_result"
    }
   ],
   "source": [
    "glob('../data/지역*.xls')"
   ]
  },
  {
   "cell_type": "code",
   "execution_count": 22,
   "metadata": {},
   "outputs": [
    {
     "data": {
      "text/plain": [
       "['../data\\\\지역_위치별(주유소) (1).xls',\n",
       " '../data\\\\지역_위치별(주유소) (2).xls',\n",
       " '../data\\\\지역_위치별(주유소) (3).xls',\n",
       " '../data\\\\지역_위치별(주유소) (4).xls',\n",
       " '../data\\\\지역_위치별(주유소) (5).xls',\n",
       " '../data\\\\지역_위치별(주유소) (6).xls',\n",
       " '../data\\\\지역_위치별(주유소) (7).xls',\n",
       " '../data\\\\지역_위치별(주유소).xls']"
      ]
     },
     "execution_count": 22,
     "metadata": {},
     "output_type": "execute_result"
    }
   ],
   "source": [
    "station_files = glob('../data/지역*.xls')\n",
    "station_files"
   ]
  },
  {
   "cell_type": "code",
   "execution_count": 24,
   "metadata": {
    "collapsed": true
   },
   "outputs": [],
   "source": [
    "tmp_raw = []\n",
    "for file_name in station_files:\n",
    "    tmp = pd.read_excel(file_name, header=2)\n",
    "    tmp_raw.append(tmp)\n",
    "station_raw = pd.concat(tmp_raw)    \n",
    "# 8개 엑셀파일을 하나로 합침"
   ]
  },
  {
   "cell_type": "code",
   "execution_count": 26,
   "metadata": {},
   "outputs": [
    {
     "name": "stdout",
     "output_type": "stream",
     "text": [
      "<class 'pandas.core.frame.DataFrame'>\n",
      "Int64Index: 371 entries, 0 to 25\n",
      "Data columns (total 10 columns):\n",
      "지역       371 non-null object\n",
      "상호       371 non-null object\n",
      "주소       371 non-null object\n",
      "상표       371 non-null object\n",
      "전화번호     371 non-null object\n",
      "셀프여부     371 non-null object\n",
      "고급휘발유    371 non-null object\n",
      "휘발유      371 non-null object\n",
      "경유       371 non-null object\n",
      "실내등유     371 non-null object\n",
      "dtypes: object(10)\n",
      "memory usage: 31.9+ KB\n"
     ]
    }
   ],
   "source": [
    "station_raw.info()"
   ]
  },
  {
   "cell_type": "code",
   "execution_count": 27,
   "metadata": {},
   "outputs": [
    {
     "data": {
      "text/html": [
       "<div>\n",
       "<style>\n",
       "    .dataframe thead tr:only-child th {\n",
       "        text-align: right;\n",
       "    }\n",
       "\n",
       "    .dataframe thead th {\n",
       "        text-align: left;\n",
       "    }\n",
       "\n",
       "    .dataframe tbody tr th {\n",
       "        vertical-align: top;\n",
       "    }\n",
       "</style>\n",
       "<table border=\"1\" class=\"dataframe\">\n",
       "  <thead>\n",
       "    <tr style=\"text-align: right;\">\n",
       "      <th></th>\n",
       "      <th>지역</th>\n",
       "      <th>상호</th>\n",
       "      <th>주소</th>\n",
       "      <th>상표</th>\n",
       "      <th>전화번호</th>\n",
       "      <th>셀프여부</th>\n",
       "      <th>고급휘발유</th>\n",
       "      <th>휘발유</th>\n",
       "      <th>경유</th>\n",
       "      <th>실내등유</th>\n",
       "    </tr>\n",
       "  </thead>\n",
       "  <tbody>\n",
       "    <tr>\n",
       "      <th>0</th>\n",
       "      <td>대구광역시</td>\n",
       "      <td>그린주유소</td>\n",
       "      <td>대구 달서구 구마로 230 (송현동)</td>\n",
       "      <td>알뜰주유소</td>\n",
       "      <td>053-624-5145</td>\n",
       "      <td>Y</td>\n",
       "      <td>-</td>\n",
       "      <td>1259</td>\n",
       "      <td>1159</td>\n",
       "      <td>900</td>\n",
       "    </tr>\n",
       "    <tr>\n",
       "      <th>1</th>\n",
       "      <td>대구광역시</td>\n",
       "      <td>국가대표주유소</td>\n",
       "      <td>대구 달서구 당산로 104</td>\n",
       "      <td>SK에너지</td>\n",
       "      <td>053-626-8778</td>\n",
       "      <td>Y</td>\n",
       "      <td>-</td>\n",
       "      <td>1265</td>\n",
       "      <td>1165</td>\n",
       "      <td>950</td>\n",
       "    </tr>\n",
       "    <tr>\n",
       "      <th>2</th>\n",
       "      <td>대구광역시</td>\n",
       "      <td>활주로 주유소</td>\n",
       "      <td>대구 달서구 성서로36길 75 (월암동)</td>\n",
       "      <td>GS칼텍스</td>\n",
       "      <td>053-581-5100</td>\n",
       "      <td>N</td>\n",
       "      <td>-</td>\n",
       "      <td>1268</td>\n",
       "      <td>1188</td>\n",
       "      <td>870</td>\n",
       "    </tr>\n",
       "    <tr>\n",
       "      <th>3</th>\n",
       "      <td>대구광역시</td>\n",
       "      <td>극동주유소</td>\n",
       "      <td>대구 달서구 야외음악당로 83 (성당동)</td>\n",
       "      <td>S-OIL</td>\n",
       "      <td>053-625-4001</td>\n",
       "      <td>N</td>\n",
       "      <td>-</td>\n",
       "      <td>1270</td>\n",
       "      <td>1170</td>\n",
       "      <td>900</td>\n",
       "    </tr>\n",
       "    <tr>\n",
       "      <th>4</th>\n",
       "      <td>대구광역시</td>\n",
       "      <td>에버그린주유소</td>\n",
       "      <td>대구광역시 달서구  새방로 87 (용산동)</td>\n",
       "      <td>S-OIL</td>\n",
       "      <td>053-573-5656</td>\n",
       "      <td>Y</td>\n",
       "      <td>-</td>\n",
       "      <td>1275</td>\n",
       "      <td>1180</td>\n",
       "      <td>950</td>\n",
       "    </tr>\n",
       "  </tbody>\n",
       "</table>\n",
       "</div>"
      ],
      "text/plain": [
       "      지역       상호                       주소     상표          전화번호 셀프여부 고급휘발유  \\\n",
       "0  대구광역시    그린주유소     대구 달서구 구마로 230 (송현동)  알뜰주유소  053-624-5145    Y     -   \n",
       "1  대구광역시  국가대표주유소           대구 달서구 당산로 104  SK에너지  053-626-8778    Y     -   \n",
       "2  대구광역시  활주로 주유소   대구 달서구 성서로36길 75 (월암동)  GS칼텍스  053-581-5100    N     -   \n",
       "3  대구광역시    극동주유소   대구 달서구 야외음악당로 83 (성당동)  S-OIL  053-625-4001    N     -   \n",
       "4  대구광역시  에버그린주유소  대구광역시 달서구  새방로 87 (용산동)  S-OIL  053-573-5656    Y     -   \n",
       "\n",
       "    휘발유    경유 실내등유  \n",
       "0  1259  1159  900  \n",
       "1  1265  1165  950  \n",
       "2  1268  1188  870  \n",
       "3  1270  1170  900  \n",
       "4  1275  1180  950  "
      ]
     },
     "execution_count": 27,
     "metadata": {},
     "output_type": "execute_result"
    }
   ],
   "source": [
    "station_raw.head()"
   ]
  },
  {
   "cell_type": "code",
   "execution_count": 28,
   "metadata": {},
   "outputs": [
    {
     "data": {
      "text/html": [
       "<div>\n",
       "<style>\n",
       "    .dataframe thead tr:only-child th {\n",
       "        text-align: right;\n",
       "    }\n",
       "\n",
       "    .dataframe thead th {\n",
       "        text-align: left;\n",
       "    }\n",
       "\n",
       "    .dataframe tbody tr th {\n",
       "        vertical-align: top;\n",
       "    }\n",
       "</style>\n",
       "<table border=\"1\" class=\"dataframe\">\n",
       "  <thead>\n",
       "    <tr style=\"text-align: right;\">\n",
       "      <th></th>\n",
       "      <th>Oil_store</th>\n",
       "      <th>가격</th>\n",
       "      <th>상표</th>\n",
       "      <th>셀프</th>\n",
       "      <th>주소</th>\n",
       "    </tr>\n",
       "  </thead>\n",
       "  <tbody>\n",
       "    <tr>\n",
       "      <th>0</th>\n",
       "      <td>그린주유소</td>\n",
       "      <td>1259</td>\n",
       "      <td>알뜰주유소</td>\n",
       "      <td>Y</td>\n",
       "      <td>대구 달서구 구마로 230 (송현동)</td>\n",
       "    </tr>\n",
       "    <tr>\n",
       "      <th>1</th>\n",
       "      <td>국가대표주유소</td>\n",
       "      <td>1265</td>\n",
       "      <td>SK에너지</td>\n",
       "      <td>Y</td>\n",
       "      <td>대구 달서구 당산로 104</td>\n",
       "    </tr>\n",
       "    <tr>\n",
       "      <th>2</th>\n",
       "      <td>활주로 주유소</td>\n",
       "      <td>1268</td>\n",
       "      <td>GS칼텍스</td>\n",
       "      <td>N</td>\n",
       "      <td>대구 달서구 성서로36길 75 (월암동)</td>\n",
       "    </tr>\n",
       "    <tr>\n",
       "      <th>3</th>\n",
       "      <td>극동주유소</td>\n",
       "      <td>1270</td>\n",
       "      <td>S-OIL</td>\n",
       "      <td>N</td>\n",
       "      <td>대구 달서구 야외음악당로 83 (성당동)</td>\n",
       "    </tr>\n",
       "    <tr>\n",
       "      <th>4</th>\n",
       "      <td>에버그린주유소</td>\n",
       "      <td>1275</td>\n",
       "      <td>S-OIL</td>\n",
       "      <td>Y</td>\n",
       "      <td>대구광역시 달서구  새방로 87 (용산동)</td>\n",
       "    </tr>\n",
       "  </tbody>\n",
       "</table>\n",
       "</div>"
      ],
      "text/plain": [
       "  Oil_store    가격     상표 셀프                       주소\n",
       "0     그린주유소  1259  알뜰주유소  Y     대구 달서구 구마로 230 (송현동)\n",
       "1   국가대표주유소  1265  SK에너지  Y           대구 달서구 당산로 104\n",
       "2   활주로 주유소  1268  GS칼텍스  N   대구 달서구 성서로36길 75 (월암동)\n",
       "3     극동주유소  1270  S-OIL  N   대구 달서구 야외음악당로 83 (성당동)\n",
       "4   에버그린주유소  1275  S-OIL  Y  대구광역시 달서구  새방로 87 (용산동)"
      ]
     },
     "execution_count": 28,
     "metadata": {},
     "output_type": "execute_result"
    }
   ],
   "source": [
    "stations = pd.DataFrame({'Oil_store':station_raw['상호'],\n",
    "                         '주소':station_raw['주소'],\n",
    "                         '가격':station_raw['휘발유'],\n",
    "                         '셀프':station_raw['셀프여부'],\n",
    "                         '상표':station_raw['상표']})\n",
    "stations.head()"
   ]
  },
  {
   "cell_type": "code",
   "execution_count": 29,
   "metadata": {},
   "outputs": [
    {
     "data": {
      "text/html": [
       "<div>\n",
       "<style>\n",
       "    .dataframe thead tr:only-child th {\n",
       "        text-align: right;\n",
       "    }\n",
       "\n",
       "    .dataframe thead th {\n",
       "        text-align: left;\n",
       "    }\n",
       "\n",
       "    .dataframe tbody tr th {\n",
       "        vertical-align: top;\n",
       "    }\n",
       "</style>\n",
       "<table border=\"1\" class=\"dataframe\">\n",
       "  <thead>\n",
       "    <tr style=\"text-align: right;\">\n",
       "      <th></th>\n",
       "      <th>Oil_store</th>\n",
       "      <th>가격</th>\n",
       "      <th>상표</th>\n",
       "      <th>셀프</th>\n",
       "      <th>주소</th>\n",
       "      <th>구</th>\n",
       "    </tr>\n",
       "  </thead>\n",
       "  <tbody>\n",
       "    <tr>\n",
       "      <th>0</th>\n",
       "      <td>그린주유소</td>\n",
       "      <td>1259</td>\n",
       "      <td>알뜰주유소</td>\n",
       "      <td>Y</td>\n",
       "      <td>대구 달서구 구마로 230 (송현동)</td>\n",
       "      <td>달서구</td>\n",
       "    </tr>\n",
       "    <tr>\n",
       "      <th>1</th>\n",
       "      <td>국가대표주유소</td>\n",
       "      <td>1265</td>\n",
       "      <td>SK에너지</td>\n",
       "      <td>Y</td>\n",
       "      <td>대구 달서구 당산로 104</td>\n",
       "      <td>달서구</td>\n",
       "    </tr>\n",
       "    <tr>\n",
       "      <th>2</th>\n",
       "      <td>활주로 주유소</td>\n",
       "      <td>1268</td>\n",
       "      <td>GS칼텍스</td>\n",
       "      <td>N</td>\n",
       "      <td>대구 달서구 성서로36길 75 (월암동)</td>\n",
       "      <td>달서구</td>\n",
       "    </tr>\n",
       "    <tr>\n",
       "      <th>3</th>\n",
       "      <td>극동주유소</td>\n",
       "      <td>1270</td>\n",
       "      <td>S-OIL</td>\n",
       "      <td>N</td>\n",
       "      <td>대구 달서구 야외음악당로 83 (성당동)</td>\n",
       "      <td>달서구</td>\n",
       "    </tr>\n",
       "    <tr>\n",
       "      <th>4</th>\n",
       "      <td>에버그린주유소</td>\n",
       "      <td>1275</td>\n",
       "      <td>S-OIL</td>\n",
       "      <td>Y</td>\n",
       "      <td>대구광역시 달서구  새방로 87 (용산동)</td>\n",
       "      <td>달서구</td>\n",
       "    </tr>\n",
       "  </tbody>\n",
       "</table>\n",
       "</div>"
      ],
      "text/plain": [
       "  Oil_store    가격     상표 셀프                       주소    구\n",
       "0     그린주유소  1259  알뜰주유소  Y     대구 달서구 구마로 230 (송현동)  달서구\n",
       "1   국가대표주유소  1265  SK에너지  Y           대구 달서구 당산로 104  달서구\n",
       "2   활주로 주유소  1268  GS칼텍스  N   대구 달서구 성서로36길 75 (월암동)  달서구\n",
       "3     극동주유소  1270  S-OIL  N   대구 달서구 야외음악당로 83 (성당동)  달서구\n",
       "4   에버그린주유소  1275  S-OIL  Y  대구광역시 달서구  새방로 87 (용산동)  달서구"
      ]
     },
     "execution_count": 29,
     "metadata": {},
     "output_type": "execute_result"
    }
   ],
   "source": [
    "stations['구'] = [eachAddress.split()[1] for eachAddress in stations['주소']]\n",
    "stations.head()"
   ]
  },
  {
   "cell_type": "code",
   "execution_count": 30,
   "metadata": {},
   "outputs": [
    {
     "data": {
      "text/plain": [
       "array(['달서구', '달성군', '동구', '북구', '서구', '수성구', '중구', '남구'], dtype=object)"
      ]
     },
     "execution_count": 30,
     "metadata": {},
     "output_type": "execute_result"
    }
   ],
   "source": [
    "stations['구'].unique()\n",
    "# unique함수를 사용하여 많은자료를 다 보지않고 확인함"
   ]
  },
  {
   "cell_type": "code",
   "execution_count": 31,
   "metadata": {},
   "outputs": [
    {
     "data": {
      "text/html": [
       "<div>\n",
       "<style>\n",
       "    .dataframe thead tr:only-child th {\n",
       "        text-align: right;\n",
       "    }\n",
       "\n",
       "    .dataframe thead th {\n",
       "        text-align: left;\n",
       "    }\n",
       "\n",
       "    .dataframe tbody tr th {\n",
       "        vertical-align: top;\n",
       "    }\n",
       "</style>\n",
       "<table border=\"1\" class=\"dataframe\">\n",
       "  <thead>\n",
       "    <tr style=\"text-align: right;\">\n",
       "      <th></th>\n",
       "      <th>Oil_store</th>\n",
       "      <th>가격</th>\n",
       "      <th>상표</th>\n",
       "      <th>셀프</th>\n",
       "      <th>주소</th>\n",
       "      <th>구</th>\n",
       "    </tr>\n",
       "  </thead>\n",
       "  <tbody>\n",
       "    <tr>\n",
       "      <th>58</th>\n",
       "      <td>그린에너지프라자</td>\n",
       "      <td>-</td>\n",
       "      <td>SK에너지</td>\n",
       "      <td>N</td>\n",
       "      <td>대구광역시 달성군 논공읍 비슬로 1705</td>\n",
       "      <td>달성군</td>\n",
       "    </tr>\n",
       "    <tr>\n",
       "      <th>59</th>\n",
       "      <td>홍토주유소충전소</td>\n",
       "      <td>-</td>\n",
       "      <td>SK에너지</td>\n",
       "      <td>N</td>\n",
       "      <td>대구광역시 달성군 논공읍 비슬로 1065</td>\n",
       "      <td>달성군</td>\n",
       "    </tr>\n",
       "    <tr>\n",
       "      <th>54</th>\n",
       "      <td>대한주유소</td>\n",
       "      <td>-</td>\n",
       "      <td>S-OIL</td>\n",
       "      <td>N</td>\n",
       "      <td>대구 동구 팔공로 329 (봉무동)</td>\n",
       "      <td>동구</td>\n",
       "    </tr>\n",
       "    <tr>\n",
       "      <th>55</th>\n",
       "      <td>기지주유소</td>\n",
       "      <td>-</td>\n",
       "      <td>GS칼텍스</td>\n",
       "      <td>N</td>\n",
       "      <td>대구 동구 입석동 675</td>\n",
       "      <td>동구</td>\n",
       "    </tr>\n",
       "    <tr>\n",
       "      <th>68</th>\n",
       "      <td>대우주유소</td>\n",
       "      <td>-</td>\n",
       "      <td>현대오일뱅크</td>\n",
       "      <td>N</td>\n",
       "      <td>대구광역시 북구  원대로 52 (고성동3가)</td>\n",
       "      <td>북구</td>\n",
       "    </tr>\n",
       "    <tr>\n",
       "      <th>38</th>\n",
       "      <td>달서주유소</td>\n",
       "      <td>-</td>\n",
       "      <td>S-OIL</td>\n",
       "      <td>N</td>\n",
       "      <td>대구 서구 달서천로 176 (평리동)</td>\n",
       "      <td>서구</td>\n",
       "    </tr>\n",
       "    <tr>\n",
       "      <th>49</th>\n",
       "      <td>대자연주유소</td>\n",
       "      <td>-</td>\n",
       "      <td>SK에너지</td>\n",
       "      <td>N</td>\n",
       "      <td>대구광역시 수성구  파동로 42 (파동)</td>\n",
       "      <td>수성구</td>\n",
       "    </tr>\n",
       "  </tbody>\n",
       "</table>\n",
       "</div>"
      ],
      "text/plain": [
       "   Oil_store 가격      상표 셀프                        주소    구\n",
       "58  그린에너지프라자  -   SK에너지  N    대구광역시 달성군 논공읍 비슬로 1705  달성군\n",
       "59  홍토주유소충전소  -   SK에너지  N    대구광역시 달성군 논공읍 비슬로 1065  달성군\n",
       "54     대한주유소  -   S-OIL  N       대구 동구 팔공로 329 (봉무동)   동구\n",
       "55     기지주유소  -   GS칼텍스  N             대구 동구 입석동 675   동구\n",
       "68     대우주유소  -  현대오일뱅크  N  대구광역시 북구  원대로 52 (고성동3가)   북구\n",
       "38     달서주유소  -   S-OIL  N      대구 서구 달서천로 176 (평리동)   서구\n",
       "49    대자연주유소  -   SK에너지  N    대구광역시 수성구  파동로 42 (파동)  수성구"
      ]
     },
     "execution_count": 31,
     "metadata": {},
     "output_type": "execute_result"
    }
   ],
   "source": [
    "stations[stations['가격']=='-']\n",
    "# 가격이 기록되지않음(-) 찾기"
   ]
  },
  {
   "cell_type": "code",
   "execution_count": 33,
   "metadata": {},
   "outputs": [
    {
     "data": {
      "text/html": [
       "<div>\n",
       "<style>\n",
       "    .dataframe thead tr:only-child th {\n",
       "        text-align: right;\n",
       "    }\n",
       "\n",
       "    .dataframe thead th {\n",
       "        text-align: left;\n",
       "    }\n",
       "\n",
       "    .dataframe tbody tr th {\n",
       "        vertical-align: top;\n",
       "    }\n",
       "</style>\n",
       "<table border=\"1\" class=\"dataframe\">\n",
       "  <thead>\n",
       "    <tr style=\"text-align: right;\">\n",
       "      <th></th>\n",
       "      <th>Oil_store</th>\n",
       "      <th>가격</th>\n",
       "      <th>상표</th>\n",
       "      <th>셀프</th>\n",
       "      <th>주소</th>\n",
       "      <th>구</th>\n",
       "    </tr>\n",
       "  </thead>\n",
       "  <tbody>\n",
       "    <tr>\n",
       "      <th>0</th>\n",
       "      <td>그린주유소</td>\n",
       "      <td>1259</td>\n",
       "      <td>알뜰주유소</td>\n",
       "      <td>Y</td>\n",
       "      <td>대구 달서구 구마로 230 (송현동)</td>\n",
       "      <td>달서구</td>\n",
       "    </tr>\n",
       "    <tr>\n",
       "      <th>1</th>\n",
       "      <td>국가대표주유소</td>\n",
       "      <td>1265</td>\n",
       "      <td>SK에너지</td>\n",
       "      <td>Y</td>\n",
       "      <td>대구 달서구 당산로 104</td>\n",
       "      <td>달서구</td>\n",
       "    </tr>\n",
       "    <tr>\n",
       "      <th>2</th>\n",
       "      <td>활주로 주유소</td>\n",
       "      <td>1268</td>\n",
       "      <td>GS칼텍스</td>\n",
       "      <td>N</td>\n",
       "      <td>대구 달서구 성서로36길 75 (월암동)</td>\n",
       "      <td>달서구</td>\n",
       "    </tr>\n",
       "    <tr>\n",
       "      <th>3</th>\n",
       "      <td>극동주유소</td>\n",
       "      <td>1270</td>\n",
       "      <td>S-OIL</td>\n",
       "      <td>N</td>\n",
       "      <td>대구 달서구 야외음악당로 83 (성당동)</td>\n",
       "      <td>달서구</td>\n",
       "    </tr>\n",
       "    <tr>\n",
       "      <th>4</th>\n",
       "      <td>에버그린주유소</td>\n",
       "      <td>1275</td>\n",
       "      <td>S-OIL</td>\n",
       "      <td>Y</td>\n",
       "      <td>대구광역시 달서구  새방로 87 (용산동)</td>\n",
       "      <td>달서구</td>\n",
       "    </tr>\n",
       "  </tbody>\n",
       "</table>\n",
       "</div>"
      ],
      "text/plain": [
       "  Oil_store    가격     상표 셀프                       주소    구\n",
       "0     그린주유소  1259  알뜰주유소  Y     대구 달서구 구마로 230 (송현동)  달서구\n",
       "1   국가대표주유소  1265  SK에너지  Y           대구 달서구 당산로 104  달서구\n",
       "2   활주로 주유소  1268  GS칼텍스  N   대구 달서구 성서로36길 75 (월암동)  달서구\n",
       "3     극동주유소  1270  S-OIL  N   대구 달서구 야외음악당로 83 (성당동)  달서구\n",
       "4   에버그린주유소  1275  S-OIL  Y  대구광역시 달서구  새방로 87 (용산동)  달서구"
      ]
     },
     "execution_count": 33,
     "metadata": {},
     "output_type": "execute_result"
    }
   ],
   "source": [
    "stations = stations[stations['가격'] != '-']\n",
    "stations.head()"
   ]
  },
  {
   "cell_type": "code",
   "execution_count": 34,
   "metadata": {
    "collapsed": true
   },
   "outputs": [],
   "source": [
    "stations['가격'] = [float(value) for value in stations['가격']]\n",
    "# 가격의 type을 float(소수)로 변경"
   ]
  },
  {
   "cell_type": "code",
   "execution_count": 35,
   "metadata": {
    "collapsed": true
   },
   "outputs": [],
   "source": [
    "stations.reset_index(inplace=True)\n",
    "del stations['index']\n",
    "# 8개의 엑셀을 합쳤기 때문에 index 중복될 수 있어 제거"
   ]
  },
  {
   "cell_type": "code",
   "execution_count": 36,
   "metadata": {},
   "outputs": [
    {
     "name": "stdout",
     "output_type": "stream",
     "text": [
      "<class 'pandas.core.frame.DataFrame'>\n",
      "RangeIndex: 364 entries, 0 to 363\n",
      "Data columns (total 6 columns):\n",
      "Oil_store    364 non-null object\n",
      "가격           364 non-null float64\n",
      "상표           364 non-null object\n",
      "셀프           364 non-null object\n",
      "주소           364 non-null object\n",
      "구            364 non-null object\n",
      "dtypes: float64(1), object(5)\n",
      "memory usage: 17.1+ KB\n"
     ]
    }
   ],
   "source": [
    "stations.info()"
   ]
  },
  {
   "cell_type": "code",
   "execution_count": 37,
   "metadata": {
    "collapsed": true
   },
   "outputs": [],
   "source": [
    "import matplotlib.pyplot as plt\n",
    "import seaborn as sns\n",
    "%matplotlib inline\n",
    "\n",
    "import platform\n",
    "\n",
    "path = \"c:/Windows/Fonts/malgun.ttf\"\n",
    "from matplotlib import font_manager, rc\n",
    "if platform.system() == 'Darwin':\n",
    "    rc('font', family='AppleGothic')\n",
    "elif platform.system() == 'Windows':\n",
    "    font_name = font_manager.FontProperties(fname=path).get_name()\n",
    "    rc('font', family=font_name)\n",
    "else:\n",
    "    print('Unknown system... sorry~~~~')"
   ]
  },
  {
   "cell_type": "code",
   "execution_count": 38,
   "metadata": {},
   "outputs": [
    {
     "name": "stderr",
     "output_type": "stream",
     "text": [
      "C:\\ProgramData\\Anaconda3\\lib\\site-packages\\numpy\\core\\fromnumeric.py:51: FutureWarning: reshape is deprecated and will raise in a subsequent release. Please use .values.reshape(...) instead\n",
      "  return getattr(obj, method)(*args, **kwds)\n"
     ]
    },
    {
     "data": {
      "image/png": "[encoded data removed]",
      "text/plain": [
       "<Figure size 864x576 with 1 Axes>"
      ]
     },
     "metadata": {},
     "output_type": "display_data"
    }
   ],
   "source": [
    "stations.boxplot(column='가격', by='셀프', figsize=(12,8));"
   ]
  },
  {
   "cell_type": "code",
   "execution_count": 39,
   "metadata": {},
   "outputs": [
    {
     "data": {
      "image/png": "[encoded data removed]",
      "text/plain": [
       "<Figure size 864x576 with 1 Axes>"
      ]
     },
     "metadata": {},
     "output_type": "display_data"
    }
   ],
   "source": [
    "plt.figure(figsize=(12,8))\n",
    "sns.boxplot(x=\"상표\", y=\"가격\", hue=\"셀프\", data=stations, palette=\"Set3\")\n",
    "plt.show()"
   ]
  },
  {
   "cell_type": "code",
   "execution_count": 40,
   "metadata": {},
   "outputs": [
    {
     "data": {
      "image/png": "[encoded data removed]",
      "text/plain": [
       "<Figure size 864x576 with 1 Axes>"
      ]
     },
     "metadata": {},
     "output_type": "display_data"
    }
   ],
   "source": [
    "plt.figure(figsize=(12,8))\n",
    "sns.boxplot(x=\"상표\", y=\"가격\", data=stations, palette=\"Set3\")\n",
    "sns.swarmplot(x=\"상표\", y=\"가격\", data=stations, color=\".6\")\n",
    "plt.show()\n",
    "# swarmplot으로 표현"
   ]
  },
  {
   "cell_type": "code",
   "execution_count": 41,
   "metadata": {
    "collapsed": true
   },
   "outputs": [],
   "source": [
    "import json\n",
    "import folium\n",
    "import googlemaps\n",
    "import warnings\n",
    "warnings.simplefilter(action=\"ignore\", category=FutureWarning)\n",
    "#warnings.simplefilter(action=\"ignore\", category=FutureWarning) = 경고 무시"
   ]
  },
  {
   "cell_type": "code",
   "execution_count": 43,
   "metadata": {},
   "outputs": [
    {
     "data": {
      "text/html": [
       "<div>\n",
       "<style>\n",
       "    .dataframe thead tr:only-child th {\n",
       "        text-align: right;\n",
       "    }\n",
       "\n",
       "    .dataframe thead th {\n",
       "        text-align: left;\n",
       "    }\n",
       "\n",
       "    .dataframe tbody tr th {\n",
       "        vertical-align: top;\n",
       "    }\n",
       "</style>\n",
       "<table border=\"1\" class=\"dataframe\">\n",
       "  <thead>\n",
       "    <tr style=\"text-align: right;\">\n",
       "      <th></th>\n",
       "      <th>Oil_store</th>\n",
       "      <th>가격</th>\n",
       "      <th>상표</th>\n",
       "      <th>셀프</th>\n",
       "      <th>주소</th>\n",
       "      <th>구</th>\n",
       "    </tr>\n",
       "  </thead>\n",
       "  <tbody>\n",
       "    <tr>\n",
       "      <th>278</th>\n",
       "      <td>서대구공단주유소</td>\n",
       "      <td>1567.0</td>\n",
       "      <td>GS칼텍스</td>\n",
       "      <td>N</td>\n",
       "      <td>대구 서구 와룡로 358 (중리동)</td>\n",
       "      <td>서구</td>\n",
       "    </tr>\n",
       "    <tr>\n",
       "      <th>337</th>\n",
       "      <td>조양주유소</td>\n",
       "      <td>1519.0</td>\n",
       "      <td>SK에너지</td>\n",
       "      <td>N</td>\n",
       "      <td>대구 중구 달구벌대로 2194 (남산동)</td>\n",
       "      <td>중구</td>\n",
       "    </tr>\n",
       "    <tr>\n",
       "      <th>172</th>\n",
       "      <td>문화주유소</td>\n",
       "      <td>1499.0</td>\n",
       "      <td>GS칼텍스</td>\n",
       "      <td>N</td>\n",
       "      <td>대구 동구 동부로30길 90 (신천동)</td>\n",
       "      <td>동구</td>\n",
       "    </tr>\n",
       "    <tr>\n",
       "      <th>60</th>\n",
       "      <td>공단제일주유소</td>\n",
       "      <td>1499.0</td>\n",
       "      <td>SK에너지</td>\n",
       "      <td>N</td>\n",
       "      <td>대구 달서구 달서대로 455 (호산동)</td>\n",
       "      <td>달서구</td>\n",
       "    </tr>\n",
       "    <tr>\n",
       "      <th>363</th>\n",
       "      <td>영남이공대앞주유소</td>\n",
       "      <td>1498.0</td>\n",
       "      <td>SK에너지</td>\n",
       "      <td>N</td>\n",
       "      <td>대구광역시 남구  현충로 187 (대명동)</td>\n",
       "      <td>남구</td>\n",
       "    </tr>\n",
       "    <tr>\n",
       "      <th>240</th>\n",
       "      <td>KK(주) 침산주유소</td>\n",
       "      <td>1465.0</td>\n",
       "      <td>SK에너지</td>\n",
       "      <td>N</td>\n",
       "      <td>대구 북구 노원로 255 (침산동)</td>\n",
       "      <td>북구</td>\n",
       "    </tr>\n",
       "    <tr>\n",
       "      <th>59</th>\n",
       "      <td>대림공단주유소</td>\n",
       "      <td>1439.0</td>\n",
       "      <td>GS칼텍스</td>\n",
       "      <td>N</td>\n",
       "      <td>대구 달서구 달서대로 403 (호림동)</td>\n",
       "      <td>달서구</td>\n",
       "    </tr>\n",
       "    <tr>\n",
       "      <th>58</th>\n",
       "      <td>신도윤주유소</td>\n",
       "      <td>1435.0</td>\n",
       "      <td>S-OIL</td>\n",
       "      <td>N</td>\n",
       "      <td>대구 달서구 월배로 94 (진천동)</td>\n",
       "      <td>달서구</td>\n",
       "    </tr>\n",
       "    <tr>\n",
       "      <th>171</th>\n",
       "      <td>반야월주유소</td>\n",
       "      <td>1409.0</td>\n",
       "      <td>S-OIL</td>\n",
       "      <td>N</td>\n",
       "      <td>대구 동구 반야월로 199 (동호동)</td>\n",
       "      <td>동구</td>\n",
       "    </tr>\n",
       "    <tr>\n",
       "      <th>170</th>\n",
       "      <td>율하주유소</td>\n",
       "      <td>1399.0</td>\n",
       "      <td>S-OIL</td>\n",
       "      <td>N</td>\n",
       "      <td>대구광역시 동구 반야월로 104 (율하동)</td>\n",
       "      <td>동구</td>\n",
       "    </tr>\n",
       "  </tbody>\n",
       "</table>\n",
       "</div>"
      ],
      "text/plain": [
       "       Oil_store      가격     상표 셀프                       주소    구\n",
       "278     서대구공단주유소  1567.0  GS칼텍스  N      대구 서구 와룡로 358 (중리동)   서구\n",
       "337        조양주유소  1519.0  SK에너지  N   대구 중구 달구벌대로 2194 (남산동)   중구\n",
       "172        문화주유소  1499.0  GS칼텍스  N    대구 동구 동부로30길 90 (신천동)   동구\n",
       "60       공단제일주유소  1499.0  SK에너지  N    대구 달서구 달서대로 455 (호산동)  달서구\n",
       "363    영남이공대앞주유소  1498.0  SK에너지  N  대구광역시 남구  현충로 187 (대명동)   남구\n",
       "240  KK(주) 침산주유소  1465.0  SK에너지  N      대구 북구 노원로 255 (침산동)   북구\n",
       "59       대림공단주유소  1439.0  GS칼텍스  N    대구 달서구 달서대로 403 (호림동)  달서구\n",
       "58        신도윤주유소  1435.0  S-OIL  N      대구 달서구 월배로 94 (진천동)  달서구\n",
       "171       반야월주유소  1409.0  S-OIL  N     대구 동구 반야월로 199 (동호동)   동구\n",
       "170        율하주유소  1399.0  S-OIL  N  대구광역시 동구 반야월로 104 (율하동)   동구"
      ]
     },
     "execution_count": 43,
     "metadata": {},
     "output_type": "execute_result"
    }
   ],
   "source": [
    "stations.sort_values(by='가격', ascending=False).head(10)\n",
    "# 휘발유 가격이 비싼 순서대로 정렬"
   ]
  },
  {
   "cell_type": "code",
   "execution_count": 44,
   "metadata": {},
   "outputs": [
    {
     "data": {
      "text/html": [
       "<div>\n",
       "<style>\n",
       "    .dataframe thead tr:only-child th {\n",
       "        text-align: right;\n",
       "    }\n",
       "\n",
       "    .dataframe thead th {\n",
       "        text-align: left;\n",
       "    }\n",
       "\n",
       "    .dataframe tbody tr th {\n",
       "        vertical-align: top;\n",
       "    }\n",
       "</style>\n",
       "<table border=\"1\" class=\"dataframe\">\n",
       "  <thead>\n",
       "    <tr style=\"text-align: right;\">\n",
       "      <th></th>\n",
       "      <th>Oil_store</th>\n",
       "      <th>가격</th>\n",
       "      <th>상표</th>\n",
       "      <th>셀프</th>\n",
       "      <th>주소</th>\n",
       "      <th>구</th>\n",
       "    </tr>\n",
       "  </thead>\n",
       "  <tbody>\n",
       "    <tr>\n",
       "      <th>338</th>\n",
       "      <td>삼구주유소</td>\n",
       "      <td>1237.0</td>\n",
       "      <td>GS칼텍스</td>\n",
       "      <td>N</td>\n",
       "      <td>대구 남구 중앙대로 237 (대명동)</td>\n",
       "      <td>남구</td>\n",
       "    </tr>\n",
       "    <tr>\n",
       "      <th>339</th>\n",
       "      <td>처음처럼주유소</td>\n",
       "      <td>1238.0</td>\n",
       "      <td>S-OIL</td>\n",
       "      <td>N</td>\n",
       "      <td>대구 남구 성당로 156 (대명동)</td>\n",
       "      <td>남구</td>\n",
       "    </tr>\n",
       "    <tr>\n",
       "      <th>340</th>\n",
       "      <td>미니주유소</td>\n",
       "      <td>1239.0</td>\n",
       "      <td>현대오일뱅크</td>\n",
       "      <td>N</td>\n",
       "      <td>대구 남구 중앙대로48길 6 (대명동)</td>\n",
       "      <td>남구</td>\n",
       "    </tr>\n",
       "    <tr>\n",
       "      <th>241</th>\n",
       "      <td>영신제2주유소</td>\n",
       "      <td>1243.0</td>\n",
       "      <td>알뜰주유소</td>\n",
       "      <td>Y</td>\n",
       "      <td>대구 서구 서대구로 207,  (평리동)</td>\n",
       "      <td>서구</td>\n",
       "    </tr>\n",
       "    <tr>\n",
       "      <th>242</th>\n",
       "      <td>(주)세아에너지</td>\n",
       "      <td>1245.0</td>\n",
       "      <td>S-OIL</td>\n",
       "      <td>Y</td>\n",
       "      <td>대구 서구 서대구로 105 (평리동)</td>\n",
       "      <td>서구</td>\n",
       "    </tr>\n",
       "    <tr>\n",
       "      <th>280</th>\n",
       "      <td>수성에스주유소</td>\n",
       "      <td>1245.0</td>\n",
       "      <td>SK에너지</td>\n",
       "      <td>Y</td>\n",
       "      <td>대구광역시 수성구  지범로 52 (지산동)</td>\n",
       "      <td>수성구</td>\n",
       "    </tr>\n",
       "    <tr>\n",
       "      <th>279</th>\n",
       "      <td>한결주유소</td>\n",
       "      <td>1245.0</td>\n",
       "      <td>S-OIL</td>\n",
       "      <td>Y</td>\n",
       "      <td>대구 수성구 지범로 50 (두산동)</td>\n",
       "      <td>수성구</td>\n",
       "    </tr>\n",
       "    <tr>\n",
       "      <th>243</th>\n",
       "      <td>광명주유소</td>\n",
       "      <td>1248.0</td>\n",
       "      <td>GS칼텍스</td>\n",
       "      <td>N</td>\n",
       "      <td>대구광역시 서구  서대구로 201 (평리동)</td>\n",
       "      <td>서구</td>\n",
       "    </tr>\n",
       "    <tr>\n",
       "      <th>244</th>\n",
       "      <td>평리주유소</td>\n",
       "      <td>1248.0</td>\n",
       "      <td>현대오일뱅크</td>\n",
       "      <td>Y</td>\n",
       "      <td>대구 서구 서대구로 227 (평리동)</td>\n",
       "      <td>서구</td>\n",
       "    </tr>\n",
       "    <tr>\n",
       "      <th>245</th>\n",
       "      <td>영신주유소</td>\n",
       "      <td>1248.0</td>\n",
       "      <td>알뜰주유소</td>\n",
       "      <td>Y</td>\n",
       "      <td>대구 서구 서대구로 210 (평리동)</td>\n",
       "      <td>서구</td>\n",
       "    </tr>\n",
       "  </tbody>\n",
       "</table>\n",
       "</div>"
      ],
      "text/plain": [
       "    Oil_store      가격      상표 셀프                        주소    구\n",
       "338     삼구주유소  1237.0   GS칼텍스  N      대구 남구 중앙대로 237 (대명동)   남구\n",
       "339   처음처럼주유소  1238.0   S-OIL  N       대구 남구 성당로 156 (대명동)   남구\n",
       "340     미니주유소  1239.0  현대오일뱅크  N     대구 남구 중앙대로48길 6 (대명동)   남구\n",
       "241   영신제2주유소  1243.0   알뜰주유소  Y    대구 서구 서대구로 207,  (평리동)   서구\n",
       "242  (주)세아에너지  1245.0   S-OIL  Y      대구 서구 서대구로 105 (평리동)   서구\n",
       "280   수성에스주유소  1245.0   SK에너지  Y   대구광역시 수성구  지범로 52 (지산동)  수성구\n",
       "279     한결주유소  1245.0   S-OIL  Y       대구 수성구 지범로 50 (두산동)  수성구\n",
       "243     광명주유소  1248.0   GS칼텍스  N  대구광역시 서구  서대구로 201 (평리동)   서구\n",
       "244     평리주유소  1248.0  현대오일뱅크  Y      대구 서구 서대구로 227 (평리동)   서구\n",
       "245     영신주유소  1248.0   알뜰주유소  Y      대구 서구 서대구로 210 (평리동)   서구"
      ]
     },
     "execution_count": 44,
     "metadata": {},
     "output_type": "execute_result"
    }
   ],
   "source": [
    "stations.sort_values(by='가격', ascending=True).head(10)\n",
    "# 휘발유 가격이 싼 순서대로 정렬"
   ]
  },
  {
   "cell_type": "code",
   "execution_count": 45,
   "metadata": {},
   "outputs": [
    {
     "data": {
      "text/html": [
       "<div>\n",
       "<style>\n",
       "    .dataframe thead tr:only-child th {\n",
       "        text-align: right;\n",
       "    }\n",
       "\n",
       "    .dataframe thead th {\n",
       "        text-align: left;\n",
       "    }\n",
       "\n",
       "    .dataframe tbody tr th {\n",
       "        vertical-align: top;\n",
       "    }\n",
       "</style>\n",
       "<table border=\"1\" class=\"dataframe\">\n",
       "  <thead>\n",
       "    <tr style=\"text-align: right;\">\n",
       "      <th></th>\n",
       "      <th>가격</th>\n",
       "    </tr>\n",
       "    <tr>\n",
       "      <th>구</th>\n",
       "      <th></th>\n",
       "    </tr>\n",
       "  </thead>\n",
       "  <tbody>\n",
       "    <tr>\n",
       "      <th>남구</th>\n",
       "      <td>1288.576923</td>\n",
       "    </tr>\n",
       "    <tr>\n",
       "      <th>달서구</th>\n",
       "      <td>1317.836066</td>\n",
       "    </tr>\n",
       "    <tr>\n",
       "      <th>달성군</th>\n",
       "      <td>1302.965517</td>\n",
       "    </tr>\n",
       "    <tr>\n",
       "      <th>동구</th>\n",
       "      <td>1307.148148</td>\n",
       "    </tr>\n",
       "    <tr>\n",
       "      <th>북구</th>\n",
       "      <td>1303.558824</td>\n",
       "    </tr>\n",
       "  </tbody>\n",
       "</table>\n",
       "</div>"
      ],
      "text/plain": [
       "              가격\n",
       "구               \n",
       "남구   1288.576923\n",
       "달서구  1317.836066\n",
       "달성군  1302.965517\n",
       "동구   1307.148148\n",
       "북구   1303.558824"
      ]
     },
     "execution_count": 45,
     "metadata": {},
     "output_type": "execute_result"
    }
   ],
   "source": [
    "import numpy as np\n",
    "gu_data = pd.pivot_table(stations, index=[\"구\"], values=[\"가격\"], aggfunc=np.mean)\n",
    "gu_data.head()"
   ]
  },
  {
   "cell_type": "code",
   "execution_count": 49,
   "metadata": {},
   "outputs": [
    {
     "data": {
      "text/html": [
       "<div style=\"width:100%;\"><div style=\"position:relative;width:100%;height:0;padding-bottom:60%;\"><iframe src=\"data:text/html;charset=utf-8;base64,PCFET0NUWVBFIGh0bWw+CjxoZWFkPiAgICAKICAgIDxtZXRhIGh0dHAtZXF1aXY9ImNvbnRlbnQtdHlwZSIgY29udGVudD0idGV4dC9odG1sOyBjaGFyc2V0PVVURi04IiAvPgogICAgPHNjcmlwdD5MX1BSRUZFUl9DQU5WQVM9ZmFsc2U7IExfTk9fVE9VQ0g9ZmFsc2U7IExfRElTQUJMRV8zRD1mYWxzZTs8L3NjcmlwdD4KICAgIDxzY3JpcHQgc3JjPSJodHRwczovL2Nkbi5qc2RlbGl2ci5uZXQvbnBtL2xlYWZsZXRAMS4zLjQvZGlzdC9sZWFmbGV0LmpzIj48L3NjcmlwdD4KICAgIDxzY3JpcHQgc3JjPSJodHRwczovL2FqYXguZ29vZ2xlYXBpcy5jb20vYWpheC9saWJzL2pxdWVyeS8xLjExLjEvanF1ZXJ5Lm1pbi5qcyI+PC9zY3JpcHQ+CiAgICA8c2NyaXB0IHNyYz0iaHR0cHM6Ly9tYXhjZG4uYm9vdHN0cmFwY2RuLmNvbS9ib290c3RyYXAvMy4yLjAvanMvYm9vdHN0cmFwLm1pbi5qcyI+PC9zY3JpcHQ+CiAgICA8c2NyaXB0IHNyYz0iaHR0cHM6Ly9jZG5qcy5jbG91ZGZsYXJlLmNvbS9hamF4L2xpYnMvTGVhZmxldC5hd2Vzb21lLW1hcmtlcnMvMi4wLjIvbGVhZmxldC5hd2Vzb21lLW1hcmtlcnMuanMiPjwvc2NyaXB0PgogICAgPGxpbmsgcmVsPSJzdHlsZXNoZWV0IiBocmVmPSJodHRwczovL2Nkbi5qc2RlbGl2ci5uZXQvbnBtL2xlYWZsZXRAMS4zLjQvZGlzdC9sZWFmbGV0LmNzcyIvPgogICAgPGxpbmsgcmVsPSJzdHlsZXNoZWV0IiBocmVmPSJodHRwczovL21heGNkbi5ib290c3RyYXBjZG4uY29tL2Jvb3RzdHJhcC8zLjIuMC9jc3MvYm9vdHN0cmFwLm1pbi5jc3MiLz4KICAgIDxsaW5rIHJlbD0ic3R5bGVzaGVldCIgaHJlZj0iaHR0cHM6Ly9tYXhjZG4uYm9vdHN0cmFwY2RuLmNvbS9ib290c3RyYXAvMy4yLjAvY3NzL2Jvb3RzdHJhcC10aGVtZS5taW4uY3NzIi8+CiAgICA8bGluayByZWw9InN0eWxlc2hlZXQiIGhyZWY9Imh0dHBzOi8vbWF4Y2RuLmJvb3RzdHJhcGNkbi5jb20vZm9udC1hd2Vzb21lLzQuNi4zL2Nzcy9mb250LWF3ZXNvbWUubWluLmNzcyIvPgogICAgPGxpbmsgcmVsPSJzdHlsZXNoZWV0IiBocmVmPSJodHRwczovL2NkbmpzLmNsb3VkZmxhcmUuY29tL2FqYXgvbGlicy9MZWFmbGV0LmF3ZXNvbWUtbWFya2Vycy8yLjAuMi9sZWFmbGV0LmF3ZXNvbWUtbWFya2Vycy5jc3MiLz4KICAgIDxsaW5rIHJlbD0ic3R5bGVzaGVldCIgaHJlZj0iaHR0cHM6Ly9yYXdjZG4uZ2l0aGFjay5jb20vcHl0aG9uLXZpc3VhbGl6YXRpb24vZm9saXVtL21hc3Rlci9mb2xpdW0vdGVtcGxhdGVzL2xlYWZsZXQuYXdlc29tZS5yb3RhdGUuY3NzIi8+CiAgICA8c3R5bGU+aHRtbCwgYm9keSB7d2lkdGg6IDEwMCU7aGVpZ2h0OiAxMDAlO21hcmdpbjogMDtwYWRkaW5nOiAwO308L3N0eWxlPgogICAgPHN0eWxlPiNtYXAge3Bvc2l0aW9uOmFic29sdXRlO3RvcDowO2JvdHRvbTowO3JpZ2h0OjA7bGVmdDowO308L3N0eWxlPgogICAgCiAgICA8bWV0YSBuYW1lPSJ2aWV3cG9ydCIgY29udGVudD0id2lkdGg9ZGV2aWNlLXdpZHRoLAogICAgICAgIGluaXRpYWwtc2NhbGU9MS4wLCBtYXhpbXVtLXNjYWxlPTEuMCwgdXNlci1zY2FsYWJsZT1ubyIgLz4KICAgIDxzdHlsZT4jbWFwXzY0OThiMWU0ZWM4MjQ5YzA5NTQ3ZGVkNTljNmY0MTg3IHsKICAgICAgICBwb3NpdGlvbjogcmVsYXRpdmU7CiAgICAgICAgd2lkdGg6IDEwMC4wJTsKICAgICAgICBoZWlnaHQ6IDEwMC4wJTsKICAgICAgICBsZWZ0OiAwLjAlOwogICAgICAgIHRvcDogMC4wJTsKICAgICAgICB9CiAgICA8L3N0eWxlPgogICAgPHNjcmlwdCBzcmM9Imh0dHBzOi8vY2RuanMuY2xvdWRmbGFyZS5jb20vYWpheC9saWJzL2QzLzMuNS41L2QzLm1pbi5qcyI+PC9zY3JpcHQ+CjwvaGVhZD4KPGJvZHk+ICAgIAogICAgCiAgICA8ZGl2IGNsYXNzPSJmb2xpdW0tbWFwIiBpZD0ibWFwXzY0OThiMWU0ZWM4MjQ5YzA5NTQ3ZGVkNTljNmY0MTg3IiA+PC9kaXY+CjwvYm9keT4KPHNjcmlwdD4gICAgCiAgICAKICAgIAogICAgICAgIHZhciBib3VuZHMgPSBudWxsOwogICAgCgogICAgdmFyIG1hcF82NDk4YjFlNGVjODI0OWMwOTU0N2RlZDU5YzZmNDE4NyA9IEwubWFwKAogICAgICAgICdtYXBfNjQ5OGIxZTRlYzgyNDljMDk1NDdkZWQ1OWM2ZjQxODcnLCB7CiAgICAgICAgY2VudGVyOiBbMzUuODQ4OTg3LCAxMjguNzI4MThdLAogICAgICAgIHpvb206IDEwLjUsCiAgICAgICAgbWF4Qm91bmRzOiBib3VuZHMsCiAgICAgICAgbGF5ZXJzOiBbXSwKICAgICAgICB3b3JsZENvcHlKdW1wOiBmYWxzZSwKICAgICAgICBjcnM6IEwuQ1JTLkVQU0czODU3LAogICAgICAgIHpvb21Db250cm9sOiB0cnVlLAogICAgICAgIH0pOwoKICAgIAogICAgCiAgICB2YXIgdGlsZV9sYXllcl82NWZkOGNjMTFhNTI0NDU4OWIzNTU0YTY4ODI0NWYyYyA9IEwudGlsZUxheWVyKAogICAgICAgICdodHRwczovL3N0YW1lbi10aWxlcy17c30uYS5zc2wuZmFzdGx5Lm5ldC90b25lci97en0ve3h9L3t5fS5wbmcnLAogICAgICAgIHsKICAgICAgICAiYXR0cmlidXRpb24iOiBudWxsLAogICAgICAgICJkZXRlY3RSZXRpbmEiOiBmYWxzZSwKICAgICAgICAibWF4TmF0aXZlWm9vbSI6IDE4LAogICAgICAgICJtYXhab29tIjogMTgsCiAgICAgICAgIm1pblpvb20iOiAwLAogICAgICAgICJub1dyYXAiOiBmYWxzZSwKICAgICAgICAib3BhY2l0eSI6IDEsCiAgICAgICAgInN1YmRvbWFpbnMiOiAiYWJjIiwKICAgICAgICAidG1zIjogZmFsc2UKfSkuYWRkVG8obWFwXzY0OThiMWU0ZWM4MjQ5YzA5NTQ3ZGVkNTljNmY0MTg3KTsKICAgIAogICAgICAgICAgICB2YXIgY2hvcm9wbGV0aF8zOWVjNzQwYzAxNTA0ZWQ0OWQyNzgxYzJiYTRkY2RjYiA9IEwuZmVhdHVyZUdyb3VwKAogICAgICAgICAgICAgICAgKS5hZGRUbyhtYXBfNjQ5OGIxZTRlYzgyNDljMDk1NDdkZWQ1OWM2ZjQxODcpOwogICAgICAgIAogICAgCiAgICAgICAgCiAgICAgICAgdmFyIGdlb19qc29uXzIwNGNhYTRmNWUzNzRkNDRiMzE2N2JiOWRiM2IxMTgxID0gTC5nZW9Kc29uKAogICAgICAgICAgICB7ImZlYXR1cmVzIjogW3siZ2VvbWV0cnkiOiB7ImNvb3JkaW5hdGVzIjogW1tbWzEyOC41ODc4NTAyMDcxNTMyMiwgMzUuODA0Njk4NDU5NjQ2MDRdLCBbMTI4LjU5MjkzODQ1NDA2Njg1LCAzNS44MDY3NjE0NDEwNDA5M10sIFsxMjguNjc2ODI1NzI4NTE1NTgsIDM1Ljc5MjYxMjQ4NzEwNjk2NV0sIFsxMjguNjg0ODE1MTkyMzQ1NDcsIDM1Ljc4Njg5MDM0Mjk3NTUyNV0sIFsxMjguNjk2NjEzODAxNTc1NjQsIDM1Ljc0MDg2NTI4MjM1NTEzXSwgWzEyOC42ODU2Mjc5MTk1NzU5MiwgMzUuNzE4NzM3NDUyODI3OTNdLCBbMTI4LjY2NjMxOTMwMTg3Mjg3LCAzNS43MTczOTA0NzEzMTYxNF0sIFsxMjguNjI1MzAyNTEwNTkyOCwgMzUuNzAwMzc5NzExMjAyMjldLCBbMTI4LjYxMjQzOTkzMjg5NzIyLCAzNS43MjI0ODMxNTIxMjUzNTZdLCBbMTI4LjYxODg5MDE1NzA0NjksIDM1LjczNDEwMDg5MzcyNjExXSwgWzEyOC41ODIyNTYwODk3Mjk3MywgMzUuNzM2MDczMTE4OTUwMDQ2XSwgWzEyOC41NDU5ODgxNTA0NDk3LCAzNS43MTYwNzAzMDk4MTE5MDRdLCBbMTI4LjUyODYzNDIyMDM1NDMsIDM1LjY3OTM1ODMzNzI3MjM4XSwgWzEyOC41MTEzNDU0MzU3OTk0MywgMzUuNjcxNTYyNjA4NTMxNzZdLCBbMTI4LjUwNzMwNDgyOTQ0MTUyLCAzNS42MzU5NzY5NDMyOTE0NV0sIFsxMjguNDg3MDMwNzk0NDA2MjIsIDM1LjYzMjQyMjEwMjg5NDkyXSwgWzEyOC40NDg2NDc0MjYwNDE3MywgMzUuNjM1MzI4MDg1ODIxM10sIFsxMjguNDMzNzg2MzkwMDIyNTYsIDM1LjYxOTgxNTI5NzMzNDc1XSwgWzEyOC4zODM4NzQ5MjMwODUxLCAzNS42MDM3MzY4MjY1OTE4XSwgWzEyOC4zNzI5NzA1MzMzNjk0OCwgMzUuNjA4MTM0NDg4MjA4MTJdLCBbMTI4LjM4NzYyMzk5MjAxMjE1LCAzNS42MDkwNTEwNTc1NTgwNTVdLCBbMTI4LjQwNTE1MzEyMzA5Njg4LCAzNS42Mzg4OTg4NjIyMzIzOF0sIFsxMjguMzgzODE5MTkzMTUxNTQsIDM1LjY1MjI2MzkwMjA5OTc1NF0sIFsxMjguMzU3NzM5OTc0OTY4OSwgMzUuNjc3ODg0NTIyMTkzOTU2XSwgWzEyOC4zNjE4NTkzNjg4NzU0MywgMzUuNzA0NDg2OTY0MjQxNjddLCBbMTI4LjQyMDA0NzU4Mjg5NzA3LCAzNS42OTAxMDIxNzkyMDNdLCBbMTI4LjQzNTM4MDg4Mzc1ODA2LCAzNS43MDAwMDA1NDg4MzU1NV0sIFsxMjguNDM0NzA4MzY1NTc0NywgMzUuNzIyMzYyMDQ0ODcwMzldLCBbMTI4LjM5NDg0ODg4MDg5MTk3LCAzNS43NDI1MjA4NzU4NjU1OTRdLCBbMTI4LjM4ODY0NDAwMjUwNzQsIDM1Ljc2MDMzMzY5ODA5MDNdLCBbMTI4LjQyMjQ5NjcxMzQwMDUzLCAzNS44MDYzNDk5NjA5NzA4MV0sIFsxMjguNDcxMzQyODY1MTM4NTgsIDM1LjgwNTQyODQwOTc3MTQ2XSwgWzEyOC40ODI2NTE1Mjc4MDMxLCAzNS44MTQ3Mzk0NTkxOTIzNl0sIFsxMjguNTE1NzEzMTY5MzMyNDMsIDM1LjgwNjkwNjk3NjEyMDFdLCBbMTI4LjUxODQ3ODAxOTY5NjQ2LCAzNS43OTYxNDUwNTE0OTY4NjVdLCBbMTI4LjU1NjM5Njg2OTEyOTUxLCAzNS43Njk5MTY2MDk1OTM4MTRdLCBbMTI4LjU3MjgzNzE3MDc0MzQ0LCAzNS43NzcxNTA5NzgxNTUyNTVdLCBbMTI4LjU3MTg0NDY0MTEzOTY4LCAzNS43OTQ2Njk4MDQ1OTc4NjZdLCBbMTI4LjU4Nzg1MDIwNzE1MzIyLCAzNS44MDQ2OTg0NTk2NDYwNF1dXSwgW1tbMTI4LjUwNjM2NjE3MDE1MTUyLCAzNS44ODc1OTA0NjEwMTcwMV0sIFsxMjguNTI4MjE2MTY0Nzk5OCwgMzUuODg1ODk3OTgzMjIzMTRdLCBbMTI4LjUyMTM3MzcxOTk5MzcsIDM1Ljg2NjU4NDQ4ODk3MDQxXSwgWzEyOC40NzYwNjk3ODMxNTgxNSwgMzUuODU4NDE2OTE0NjYyMTFdLCBbMTI4LjQ3Mjg1MzY4MTg3NDE3LCAzNS44Mjk5OTExNzY2OTY0MV0sIFsxMjguNDYyMzM0NzQ4NjYxMDUsIDM1LjgzODI1ODc3MDM0OTk5NV0sIFsxMjguNDI1MDAwMDE3NzAxNSwgMzUuODQ4MjU0OTI5MDM1MDM2XSwgWzEyOC4zOTIyOTY0NjcwNjAyOCwgMzUuODQ3MzY4OTA3Njk0OTFdLCBbMTI4LjM4NzY4NjA5ODI2NzksIDM1Ljg2MjI0MjUwMTI2Mjc4XSwgWzEyOC4zOTU5MjQ1NDM4MDYxLCAzNS44ODAwNDE1NzQ3NjI2XSwgWzEyOC40MDU1NDY3OTkwMzMwNiwgMzUuODg2MTAwOTcyMDg2NF0sIFsxMjguNDIwMzE0MTE3NDk4NzIsIDM1LjkxODI1MjMwNDIwMjcyXSwgWzEyOC40NDM0Mjg5MzEzNDU2NiwgMzUuOTMyMDU0MTM4MTA5MzddLCBbMTI4LjQ3Nzg5Njk0Mzg0MTczLCAzNS45MzMwMDI1ODk4Mzc4OV0sIFsxMjguNDY5NTEwNjEyMDY4MiwgMzUuOTAzNTMxOTk5OTE2NDI0XSwgWzEyOC40Nzc2MDc3MDY4MDUwNiwgMzUuODkyMjI3MTc0MTQ1NDA0XSwgWzEyOC41MDYzNjYxNzAxNTE1MiwgMzUuODg3NTkwNDYxMDE3MDFdXV1dLCAidHlwZSI6ICJNdWx0aVBvbHlnb24ifSwgImlkIjogIlx1YjJlY1x1YzEzMVx1YWQ3MCIsICJwcm9wZXJ0aWVzIjogeyJiYXNlX3llYXIiOiAiMjAxMyIsICJjb2RlIjogIjIyMzEwIiwgImhpZ2hsaWdodCI6IHt9LCAibmFtZSI6ICJcdWIyZWNcdWMxMzFcdWFkNzAiLCAibmFtZV9lbmciOiAiRGFsc2VvbmctZ3VuIiwgInN0eWxlIjogeyJjb2xvciI6ICJibGFjayIsICJmaWxsQ29sb3IiOiAiI2M5OTRjNyIsICJmaWxsT3BhY2l0eSI6IDAuNiwgIm9wYWNpdHkiOiAxLCAid2VpZ2h0IjogMX19LCAidHlwZSI6ICJGZWF0dXJlIn0sIHsiZ2VvbWV0cnkiOiB7ImNvb3JkaW5hdGVzIjogW1tbMTI4LjU3NjgwOTc0NTQxODkzLCAzNS44NTcwNTYxNTI4NTgxXSwgWzEyOC41NTc2NDc4OTM0MzY0NCwgMzUuODMxNDUwNzIyOTU3OTZdLCBbMTI4LjU4Nzg1MDIwNzE1MzIyLCAzNS44MDQ2OTg0NTk2NDYwNF0sIFsxMjguNTcxODQ0NjQxMTM5NjgsIDM1Ljc5NDY2OTgwNDU5Nzg2Nl0sIFsxMjguNTcyODM3MTcwNzQzNDQsIDM1Ljc3NzE1MDk3ODE1NTI1NV0sIFsxMjguNTU2Mzk2ODY5MTI5NTEsIDM1Ljc2OTkxNjYwOTU5MzgxNF0sIFsxMjguNTE4NDc4MDE5Njk2NDYsIDM1Ljc5NjE0NTA1MTQ5Njg2NV0sIFsxMjguNTE1NzEzMTY5MzMyNDMsIDM1LjgwNjkwNjk3NjEyMDFdLCBbMTI4LjQ4MjY1MTUyNzgwMzEsIDM1LjgxNDczOTQ1OTE5MjM2XSwgWzEyOC40NzI4NTM2ODE4NzQxNywgMzUuODI5OTkxMTc2Njk2NDFdLCBbMTI4LjQ3NjA2OTc4MzE1ODE1LCAzNS44NTg0MTY5MTQ2NjIxMV0sIFsxMjguNTIxMzczNzE5OTkzNywgMzUuODY2NTg0NDg4OTcwNDFdLCBbMTI4LjU1MDMyMzM3MTE2MjA4LCAzNS44NTE0NjY5NjAzMjQ2N10sIFsxMjguNTc2NDMwMjQ2MjAxMywgMzUuODU5NjgyODk3NDUwODVdLCBbMTI4LjU3NjgwOTc0NTQxODkzLCAzNS44NTcwNTYxNTI4NTgxXV1dLCAidHlwZSI6ICJQb2x5Z29uIn0sICJpZCI6ICJcdWIyZWNcdWMxMWNcdWFkNmMiLCAicHJvcGVydGllcyI6IHsiYmFzZV95ZWFyIjogIjIwMTMiLCAiY29kZSI6ICIyMjA3MCIsICJoaWdobGlnaHQiOiB7fSwgIm5hbWUiOiAiXHViMmVjXHVjMTFjXHVhZDZjIiwgIm5hbWVfZW5nIjogIkRhbHNlby1ndSIsICJzdHlsZSI6IHsiY29sb3IiOiAiYmxhY2siLCAiZmlsbENvbG9yIjogIiM5ODAwNDMiLCAiZmlsbE9wYWNpdHkiOiAwLjYsICJvcGFjaXR5IjogMSwgIndlaWdodCI6IDF9fSwgInR5cGUiOiAiRmVhdHVyZSJ9LCB7Imdlb21ldHJ5IjogeyJjb29yZGluYXRlcyI6IFtbWzEyOC43MjgzNjc2OTAxOTU0LCAzNS44NTQxMTQ2NDg0Mjg4MV0sIFsxMjguNzI3NDI2MDM4ODE1MzcsIDM1LjgzMzc4MDUxNDIwNDgyXSwgWzEyOC43MTEwMjc0MDkyMTc1NiwgMzUuODIzNTk4MjU4ODMxNTRdLCBbMTI4LjcxODYyMjQ2NDM4OCwgMzUuODAyODgyMTg1OTA5MTZdLCBbMTI4LjY4NDgxNTE5MjM0NTQ3LCAzNS43ODY4OTAzNDI5NzU1MjVdLCBbMTI4LjY3NjgyNTcyODUxNTU4LCAzNS43OTI2MTI0ODcxMDY5NjVdLCBbMTI4LjU5MjkzODQ1NDA2Njg1LCAzNS44MDY3NjE0NDEwNDA5M10sIFsxMjguNjA3MzM2MDQzNzY5NywgMzUuODIxNTg2MjYzMTI5NjQ2XSwgWzEyOC42MTA2OTYxMzA4MzY5LCAzNS44NTE5NDU3MjE5MTg3Nl0sIFsxMjguNjE2OTczMTA3NTg1MzIsIDM1Ljg2NTE3Njc3MDE5OTc0XSwgWzEyOC42MzIwNzkxNDU2MTczNSwgMzUuODYzODIyOTA0Mjk0NzddLCBbMTI4LjY1MTc1MDU1MDk1OTcyLCAzNS44NzU0MDUzODMzMjIyOF0sIFsxMjguNjc2Nzc0MzA4NTkyODgsIDM1Ljg3MDkxMzI4NzgzMTM4XSwgWzEyOC42ODc5MjUzMTE5MDYzNSwgMzUuODU2MzU2MzE2NDQ0NjJdLCBbMTI4LjcyODM2NzY5MDE5NTQsIDM1Ljg1NDExNDY0ODQyODgxXV1dLCAidHlwZSI6ICJQb2x5Z29uIn0sICJpZCI6ICJcdWMyMThcdWMxMzFcdWFkNmMiLCAicHJvcGVydGllcyI6IHsiYmFzZV95ZWFyIjogIjIwMTMiLCAiY29kZSI6ICIyMjA2MCIsICJoaWdobGlnaHQiOiB7fSwgIm5hbWUiOiAiXHVjMjE4XHVjMTMxXHVhZDZjIiwgIm5hbWVfZW5nIjogIlN1c2VvbmctZ3UiLCAic3R5bGUiOiB7ImNvbG9yIjogImJsYWNrIiwgImZpbGxDb2xvciI6ICIjZjFlZWY2IiwgImZpbGxPcGFjaXR5IjogMC42LCAib3BhY2l0eSI6IDEsICJ3ZWlnaHQiOiAxfX0sICJ0eXBlIjogIkZlYXR1cmUifSwgeyJnZW9tZXRyeSI6IHsiY29vcmRpbmF0ZXMiOiBbW1sxMjguNjA2MDcwOTc5NTU1ODUsIDM1Ljk4NTU0MDM2NTk5ODg2NV0sIFsxMjguNjIxNzM5MjUxMjE4MDYsIDM1Ljk3MTIwOTIxMjM4NzYzXSwgWzEyOC42MzUxMDkyMzE1Mzg0NSwgMzUuOTEyNjYwMDI3MDE5Njc2XSwgWzEyOC42MzM2ODM4ODU2MjY2MiwgMzUuODkxNTA1NTgwNzI3NTNdLCBbMTI4LjYxMjU1MjUyMDg3MDEsIDM1Ljg3MTg5NTY3MDAxNTU4XSwgWzEyOC41ODIzOTgyNTQxMzIyNCwgMzUuODc2MDc4OTc2MzU1OTFdLCBbMTI4LjU3ODM3MjM3MzIxNzIsIDM1Ljg4NDYwODg2MjQ3ODRdLCBbMTI4LjUyODIxNjE2NDc5OTgsIDM1Ljg4NTg5Nzk4MzIyMzE0XSwgWzEyOC41MDYzNjYxNzAxNTE1MiwgMzUuODg3NTkwNDYxMDE3MDFdLCBbMTI4LjUwNzM5MDQ3MjE1Nzc0LCAzNS45MDAwMDA0ODQzNjg4NDZdLCBbMTI4LjUyNTUxNzcwNzE3MzEsIDM1LjkxNDc1NzY3OTcyMzYxXSwgWzEyOC41MzcwMDMzNzgxOTU2LCAzNS45MzY2ODIyMzYxNTM5NF0sIFsxMjguNTI5MjMxODQ0NjYxOTIsIDM1Ljk3MjgzODkzNjI3NTM0NV0sIFsxMjguNTU4NDY3NTkyMjUyMzYsIDM1Ljk2NzYwMzI0NzczMjcyNV0sIFsxMjguNTkyMDc0ODM0MjkyNiwgMzUuOTc1NzMyMzIwODM2MDVdLCBbMTI4LjYwNjA3MDk3OTU1NTg1LCAzNS45ODU1NDAzNjU5OTg4NjVdXV0sICJ0eXBlIjogIlBvbHlnb24ifSwgImlkIjogIlx1YmQ4MVx1YWQ2YyIsICJwcm9wZXJ0aWVzIjogeyJiYXNlX3llYXIiOiAiMjAxMyIsICJjb2RlIjogIjIyMDUwIiwgImhpZ2hsaWdodCI6IHt9LCAibmFtZSI6ICJcdWJkODFcdWFkNmMiLCAibmFtZV9lbmciOiAiQnVrLWd1IiwgInN0eWxlIjogeyJjb2xvciI6ICJibGFjayIsICJmaWxsQ29sb3IiOiAiI2M5OTRjNyIsICJmaWxsT3BhY2l0eSI6IDAuNiwgIm9wYWNpdHkiOiAxLCAid2VpZ2h0IjogMX19LCAidHlwZSI6ICJGZWF0dXJlIn0sIHsiZ2VvbWV0cnkiOiB7ImNvb3JkaW5hdGVzIjogW1tbMTI4LjYxMDY5NjEzMDgzNjksIDM1Ljg1MTk0NTcyMTkxODc2XSwgWzEyOC42MDczMzYwNDM3Njk3LCAzNS44MjE1ODYyNjMxMjk2NDZdLCBbMTI4LjU5MjkzODQ1NDA2Njg1LCAzNS44MDY3NjE0NDEwNDA5M10sIFsxMjguNTg3ODUwMjA3MTUzMjIsIDM1LjgwNDY5ODQ1OTY0NjA0XSwgWzEyOC41NTc2NDc4OTM0MzY0NCwgMzUuODMxNDUwNzIyOTU3OTZdLCBbMTI4LjU3NjgwOTc0NTQxODkzLCAzNS44NTcwNTYxNTI4NTgxXSwgWzEyOC42MTA2OTYxMzA4MzY5LCAzNS44NTE5NDU3MjE5MTg3Nl1dXSwgInR5cGUiOiAiUG9seWdvbiJ9LCAiaWQiOiAiXHViMGE4XHVhZDZjIiwgInByb3BlcnRpZXMiOiB7ImJhc2VfeWVhciI6ICIyMDEzIiwgImNvZGUiOiAiMjIwNDAiLCAiaGlnaGxpZ2h0Ijoge30sICJuYW1lIjogIlx1YjBhOFx1YWQ2YyIsICJuYW1lX2VuZyI6ICJOYW0tZ3UiLCAic3R5bGUiOiB7ImNvbG9yIjogImJsYWNrIiwgImZpbGxDb2xvciI6ICIjZjFlZWY2IiwgImZpbGxPcGFjaXR5IjogMC42LCAib3BhY2l0eSI6IDEsICJ3ZWlnaHQiOiAxfX0sICJ0eXBlIjogIkZlYXR1cmUifSwgeyJnZW9tZXRyeSI6IHsiY29vcmRpbmF0ZXMiOiBbW1sxMjguNTI4MjE2MTY0Nzk5OCwgMzUuODg1ODk3OTgzMjIzMTRdLCBbMTI4LjU3ODM3MjM3MzIxNzIsIDM1Ljg4NDYwODg2MjQ3ODRdLCBbMTI4LjU4MjM5ODI1NDEzMjI0LCAzNS44NzYwNzg5NzYzNTU5MV0sIFsxMjguNTc2NDMwMjQ2MjAxMywgMzUuODU5NjgyODk3NDUwODVdLCBbMTI4LjU1MDMyMzM3MTE2MjA4LCAzNS44NTE0NjY5NjAzMjQ2N10sIFsxMjguNTIxMzczNzE5OTkzNywgMzUuODY2NTg0NDg4OTcwNDFdLCBbMTI4LjUyODIxNjE2NDc5OTgsIDM1Ljg4NTg5Nzk4MzIyMzE0XV1dLCAidHlwZSI6ICJQb2x5Z29uIn0sICJpZCI6ICJcdWMxMWNcdWFkNmMiLCAicHJvcGVydGllcyI6IHsiYmFzZV95ZWFyIjogIjIwMTMiLCAiY29kZSI6ICIyMjAzMCIsICJoaWdobGlnaHQiOiB7fSwgIm5hbWUiOiAiXHVjMTFjXHVhZDZjIiwgIm5hbWVfZW5nIjogIlNlby1ndSIsICJzdHlsZSI6IHsiY29sb3IiOiAiYmxhY2siLCAiZmlsbENvbG9yIjogIiNmMWVlZjYiLCAiZmlsbE9wYWNpdHkiOiAwLjYsICJvcGFjaXR5IjogMSwgIndlaWdodCI6IDF9fSwgInR5cGUiOiAiRmVhdHVyZSJ9LCB7Imdlb21ldHJ5IjogeyJjb29yZGluYXRlcyI6IFtbWzEyOC42NDI4NDUxNjQ4MTM1LCAzNi4wMDc1Njk2NTI1ODg5Ml0sIFsxMjguNjk3NDgzNTUwMTQ4MTgsIDM2LjAxMzMxMTYxODgyNDMwNF0sIFsxMjguNzI3Nzk2MzkwNTY3NzYsIDM2LjAwMTgyMjIxNTQyOTJdLCBbMTI4LjczNzQwMzc4MjYxMzEsIDM1Ljk4OTkxNjQ4NjYyOTM1XSwgWzEyOC43NDgzMDQ2ODI2Mjc3MiwgMzUuOTY3ODIxMzk2NDM2NzFdLCBbMTI4Ljc0MDYxMTMzNjAwMjE2LCAzNS45NTMyMTk0ODk3Mzc2MV0sIFsxMjguNzQwNjI3MjQ0MDI2NywgMzUuOTI1Mzk4MTA1MDQ4NjM2XSwgWzEyOC43NTg4NTY5ODQxNjkzLCAzNS45MTE4NTMxOTYxMjM3Ml0sIFsxMjguNzY1NDI3MjA1MjQyODQsIDM1Ljg4MDkwMzk1OTgyNjk0NV0sIFsxMjguNzUzODg3MDk1NTY2MjgsIDM1Ljg1NDA4MTA3MzA5ODFdLCBbMTI4LjcyODM2NzY5MDE5NTQsIDM1Ljg1NDExNDY0ODQyODgxXSwgWzEyOC42ODc5MjUzMTE5MDYzNSwgMzUuODU2MzU2MzE2NDQ0NjJdLCBbMTI4LjY3Njc3NDMwODU5Mjg4LCAzNS44NzA5MTMyODc4MzEzOF0sIFsxMjguNjUxNzUwNTUwOTU5NzIsIDM1Ljg3NTQwNTM4MzMyMjI4XSwgWzEyOC42MzIwNzkxNDU2MTczNSwgMzUuODYzODIyOTA0Mjk0NzddLCBbMTI4LjYxNjk3MzEwNzU4NTMyLCAzNS44NjUxNzY3NzAxOTk3NF0sIFsxMjguNjEyNTUyNTIwODcwMSwgMzUuODcxODk1NjcwMDE1NThdLCBbMTI4LjYzMzY4Mzg4NTYyNjYyLCAzNS44OTE1MDU1ODA3Mjc1M10sIFsxMjguNjM1MTA5MjMxNTM4NDUsIDM1LjkxMjY2MDAyNzAxOTY3Nl0sIFsxMjguNjIxNzM5MjUxMjE4MDYsIDM1Ljk3MTIwOTIxMjM4NzYzXSwgWzEyOC42MDYwNzA5Nzk1NTU4NSwgMzUuOTg1NTQwMzY1OTk4ODY1XSwgWzEyOC42MTk3MTQwMTIxNjY5MiwgMzYuMDAzNDYzNTY3Mjg2MjJdLCBbMTI4LjY0Mjg0NTE2NDgxMzUsIDM2LjAwNzU2OTY1MjU4ODkyXV1dLCAidHlwZSI6ICJQb2x5Z29uIn0sICJpZCI6ICJcdWIzZDlcdWFkNmMiLCAicHJvcGVydGllcyI6IHsiYmFzZV95ZWFyIjogIjIwMTMiLCAiY29kZSI6ICIyMjAyMCIsICJoaWdobGlnaHQiOiB7fSwgIm5hbWUiOiAiXHViM2Q5XHVhZDZjIiwgIm5hbWVfZW5nIjogIkRvbmctZ3UiLCAic3R5bGUiOiB7ImNvbG9yIjogImJsYWNrIiwgImZpbGxDb2xvciI6ICIjZGY2NWIwIiwgImZpbGxPcGFjaXR5IjogMC42LCAib3BhY2l0eSI6IDEsICJ3ZWlnaHQiOiAxfX0sICJ0eXBlIjogIkZlYXR1cmUifSwgeyJnZW9tZXRyeSI6IHsiY29vcmRpbmF0ZXMiOiBbW1sxMjguNTgyMzk4MjU0MTMyMjQsIDM1Ljg3NjA3ODk3NjM1NTkxXSwgWzEyOC42MTI1NTI1MjA4NzAxLCAzNS44NzE4OTU2NzAwMTU1OF0sIFsxMjguNjE2OTczMTA3NTg1MzIsIDM1Ljg2NTE3Njc3MDE5OTc0XSwgWzEyOC42MTA2OTYxMzA4MzY5LCAzNS44NTE5NDU3MjE5MTg3Nl0sIFsxMjguNTc2ODA5NzQ1NDE4OTMsIDM1Ljg1NzA1NjE1Mjg1ODFdLCBbMTI4LjU3NjQzMDI0NjIwMTMsIDM1Ljg1OTY4Mjg5NzQ1MDg1XSwgWzEyOC41ODIzOTgyNTQxMzIyNCwgMzUuODc2MDc4OTc2MzU1OTFdXV0sICJ0eXBlIjogIlBvbHlnb24ifSwgImlkIjogIlx1YzkxMVx1YWQ2YyIsICJwcm9wZXJ0aWVzIjogeyJiYXNlX3llYXIiOiAiMjAxMyIsICJjb2RlIjogIjIyMDEwIiwgImhpZ2hsaWdodCI6IHt9LCAibmFtZSI6ICJcdWM5MTFcdWFkNmMiLCAibmFtZV9lbmciOiAiSnVuZy1ndSIsICJzdHlsZSI6IHsiY29sb3IiOiAiYmxhY2siLCAiZmlsbENvbG9yIjogIiM5ODAwNDMiLCAiZmlsbE9wYWNpdHkiOiAwLjYsICJvcGFjaXR5IjogMSwgIndlaWdodCI6IDF9fSwgInR5cGUiOiAiRmVhdHVyZSJ9XSwgInR5cGUiOiAiRmVhdHVyZUNvbGxlY3Rpb24ifQogICAgICAgICAgICAKICAgICAgICAgICAgKS5hZGRUbyhjaG9yb3BsZXRoXzM5ZWM3NDBjMDE1MDRlZDQ5ZDI3ODFjMmJhNGRjZGNiKTsKICAgICAgICBnZW9fanNvbl8yMDRjYWE0ZjVlMzc0ZDQ0YjMxNjdiYjlkYjNiMTE4MS5zZXRTdHlsZShmdW5jdGlvbihmZWF0dXJlKSB7cmV0dXJuIGZlYXR1cmUucHJvcGVydGllcy5zdHlsZTt9KTsKICAgICAgICAKICAgIAogICAgdmFyIGNvbG9yX21hcF9hN2UzNTJjMjNhOTY0ZTdmYWI5ZTBhZGViNWFmZjFkMyA9IHt9OwoKICAgIAogICAgY29sb3JfbWFwX2E3ZTM1MmMyM2E5NjRlN2ZhYjllMGFkZWI1YWZmMWQzLmNvbG9yID0gZDMuc2NhbGUudGhyZXNob2xkKCkKICAgICAgICAgICAgICAuZG9tYWluKFsxMjg4LjQ4OTc5NTkxODM2NzIsIDEyODguNTUyMzQxNDE3NTI4OSwgMTI4OC42MTQ4ODY5MTY2OTA1LCAxMjg4LjY3NzQzMjQxNTg1MiwgMTI4OC43Mzk5Nzc5MTUwMTM3LCAxMjg4LjgwMjUyMzQxNDE3NSwgMTI4OC44NjUwNjg5MTMzMzY3LCAxMjg4LjkyNzYxNDQxMjQ5ODMsIDEyODguOTkwMTU5OTExNjYsIDEyODkuMDUyNzA1NDEwODIxNSwgMTI4OS4xMTUyNTA5MDk5ODMyLCAxMjg5LjE3Nzc5NjQwOTE0NDgsIDEyODkuMjQwMzQxOTA4MzA2NCwgMTI4OS4zMDI4ODc0MDc0Njc4LCAxMjg5LjM2NTQzMjkwNjYyOTQsIDEyODkuNDI3OTc4NDA1NzkxLCAxMjg5LjQ5MDUyMzkwNDk1MjYsIDEyODkuNTUzMDY5NDA0MTE0MiwgMTI4OS42MTU2MTQ5MDMyNzU5LCAxMjg5LjY3ODE2MDQwMjQzNzUsIDEyODkuNzQwNzA1OTAxNTk5LCAxMjg5LjgwMzI1MTQwMDc2MDcsIDEyODkuODY1Nzk2ODk5OTIyLCAxMjg5LjkyODM0MjM5OTA4MzcsIDEyODkuOTkwODg3ODk4MjQ1MywgMTI5MC4wNTM0MzMzOTc0MDcsIDEyOTAuMTE1OTc4ODk2NTY4NSwgMTI5MC4xNzg1MjQzOTU3MzAyLCAxMjkwLjI0MTA2OTg5NDg5MTgsIDEyOTAuMzAzNjE1Mzk0MDUzNCwgMTI5MC4zNjYxNjA4OTMyMTUsIDEyOTAuNDI4NzA2MzkyMzc2NCwgMTI5MC40OTEyNTE4OTE1MzgsIDEyOTAuNTUzNzk3MzkwNjk5NiwgMTI5MC42MTYzNDI4ODk4NjEyLCAxMjkwLjY3ODg4ODM4OTAyMjksIDEyOTAuNzQxNDMzODg4MTg0NSwgMTI5MC44MDM5NzkzODczNDYsIDEyOTAuODY2NTI0ODg2NTA3NywgMTI5MC45MjkwNzAzODU2NjksIDEyOTAuOTkxNjE1ODg0ODMwNywgMTI5MS4wNTQxNjEzODM5OTIzLCAxMjkxLjExNjcwNjg4MzE1NCwgMTI5MS4xNzkyNTIzODIzMTU2LCAxMjkxLjI0MTc5Nzg4MTQ3NzIsIDEyOTEuMzA0MzQzMzgwNjM4OCwgMTI5MS4zNjY4ODg4Nzk4MDA0LCAxMjkxLjQyOTQzNDM3ODk2MiwgMTI5MS40OTE5Nzk4NzgxMjM0LCAxMjkxLjU1NDUyNTM3NzI4NSwgMTI5MS42MTcwNzA4NzY0NDY2LCAxMjkxLjY3OTYxNjM3NTYwODIsIDEyOTEuNzQyMTYxODc0NzY5OSwgMTI5MS44MDQ3MDczNzM5MzE1LCAxMjkxLjg2NzI1Mjg3MzA5MywgMTI5MS45Mjk3OTgzNzIyNTQ3LCAxMjkxLjk5MjM0Mzg3MTQxNiwgMTI5Mi4wNTQ4ODkzNzA1Nzc3LCAxMjkyLjExNzQzNDg2OTczOTMsIDEyOTIuMTc5OTgwMzY4OTAxLCAxMjkyLjI0MjUyNTg2ODA2MjYsIDEyOTIuMzA1MDcxMzY3MjI0MiwgMTI5Mi4zNjc2MTY4NjYzODU4LCAxMjkyLjQzMDE2MjM2NTU0NzQsIDEyOTIuNDkyNzA3ODY0NzA5LCAxMjkyLjU1NTI1MzM2Mzg3MDQsIDEyOTIuNjE3Nzk4ODYzMDMyLCAxMjkyLjY4MDM0NDM2MjE5MzYsIDEyOTIuNzQyODg5ODYxMzU1MywgMTI5Mi44MDU0MzUzNjA1MTY5LCAxMjkyLjg2Nzk4MDg1OTY3ODUsIDEyOTIuOTMwNTI2MzU4ODQsIDEyOTIuOTkzMDcxODU4MDAxNywgMTI5My4wNTU2MTczNTcxNjMzLCAxMjkzLjExODE2Mjg1NjMyNDcsIDEyOTMuMTgwNzA4MzU1NDg2MywgMTI5My4yNDMyNTM4NTQ2NDgsIDEyOTMuMzA1Nzk5MzUzODA5NiwgMTI5My4zNjgzNDQ4NTI5NzEyLCAxMjkzLjQzMDg5MDM1MjEzMjgsIDEyOTMuNDkzNDM1ODUxMjk0NCwgMTI5My41NTU5ODEzNTA0NTYsIDEyOTMuNjE4NTI2ODQ5NjE3NCwgMTI5My42ODEwNzIzNDg3NzksIDEyOTMuNzQzNjE3ODQ3OTQwNiwgMTI5My44MDYxNjMzNDcxMDIzLCAxMjkzLjg2ODcwODg0NjI2MzksIDEyOTMuOTMxMjU0MzQ1NDI1NSwgMTI5My45OTM3OTk4NDQ1ODcsIDEyOTQuMDU2MzQ1MzQzNzQ4NywgMTI5NC4xMTg4OTA4NDI5MTAzLCAxMjk0LjE4MTQzNjM0MjA3MTcsIDEyOTQuMjQzOTgxODQxMjMzMywgMTI5NC4zMDY1MjczNDAzOTUsIDEyOTQuMzY5MDcyODM5NTU2NiwgMTI5NC40MzE2MTgzMzg3MTgyLCAxMjk0LjQ5NDE2MzgzNzg3OTgsIDEyOTQuNTU2NzA5MzM3MDQxNCwgMTI5NC42MTkyNTQ4MzYyMDMsIDEyOTQuNjgxODAwMzM1MzY0NCwgMTI5NC43NDQzNDU4MzQ1MjYsIDEyOTQuODA2ODkxMzMzNjg3NiwgMTI5NC44Njk0MzY4MzI4NDkzLCAxMjk0LjkzMTk4MjMzMjAxMDksIDEyOTQuOTk0NTI3ODMxMTcyNSwgMTI5NS4wNTcwNzMzMzAzMzQsIDEyOTUuMTE5NjE4ODI5NDk1NywgMTI5NS4xODIxNjQzMjg2NTczLCAxMjk1LjI0NDcwOTgyNzgxODcsIDEyOTUuMzA3MjU1MzI2OTgwMywgMTI5NS4zNjk4MDA4MjYxNDIsIDEyOTUuNDMyMzQ2MzI1MzAzNiwgMTI5NS40OTQ4OTE4MjQ0NjUyLCAxMjk1LjU1NzQzNzMyMzYyNjgsIDEyOTUuNjE5OTgyODIyNzg4NCwgMTI5NS42ODI1MjgzMjE5NSwgMTI5NS43NDUwNzM4MjExMTE2LCAxMjk1LjgwNzYxOTMyMDI3MywgMTI5NS44NzAxNjQ4MTk0MzQ2LCAxMjk1LjkzMjcxMDMxODU5NjMsIDEyOTUuOTk1MjU1ODE3NzU3OSwgMTI5Ni4wNTc4MDEzMTY5MTk1LCAxMjk2LjEyMDM0NjgxNjA4MSwgMTI5Ni4xODI4OTIzMTUyNDI3LCAxMjk2LjI0NTQzNzgxNDQwNDMsIDEyOTYuMzA3OTgzMzEzNTY1NywgMTI5Ni4zNzA1Mjg4MTI3MjczLCAxMjk2LjQzMzA3NDMxMTg4OSwgMTI5Ni40OTU2MTk4MTEwNTA2LCAxMjk2LjU1ODE2NTMxMDIxMjIsIDEyOTYuNjIwNzEwODA5MzczOCwgMTI5Ni42ODMyNTYzMDg1MzU0LCAxMjk2Ljc0NTgwMTgwNzY5NywgMTI5Ni44MDgzNDczMDY4NTg2LCAxMjk2Ljg3MDg5MjgwNjAyLCAxMjk2LjkzMzQzODMwNTE4MTcsIDEyOTYuOTk1OTgzODA0MzQzMywgMTI5Ny4wNTg1MjkzMDM1MDQ5LCAxMjk3LjEyMTA3NDgwMjY2NjUsIDEyOTcuMTgzNjIwMzAxODI4MSwgMTI5Ny4yNDYxNjU4MDA5ODk3LCAxMjk3LjMwODcxMTMwMDE1MTMsIDEyOTcuMzcxMjU2Nzk5MzEzLCAxMjk3LjQzMzgwMjI5ODQ3NDMsIDEyOTcuNDk2MzQ3Nzk3NjM2LCAxMjk3LjU1ODg5MzI5Njc5NzYsIDEyOTcuNjIxNDM4Nzk1OTU5MiwgMTI5Ny42ODM5ODQyOTUxMjA4LCAxMjk3Ljc0NjUyOTc5NDI4MjQsIDEyOTcuODA5MDc1MjkzNDQ0LCAxMjk3Ljg3MTYyMDc5MjYwNTcsIDEyOTcuOTM0MTY2MjkxNzY3LCAxMjk3Ljk5NjcxMTc5MDkyODcsIDEyOTguMDU5MjU3MjkwMDkwMywgMTI5OC4xMjE4MDI3ODkyNTIsIDEyOTguMTg0MzQ4Mjg4NDEzNSwgMTI5OC4yNDY4OTM3ODc1NzUxLCAxMjk4LjMwOTQzOTI4NjczNjcsIDEyOTguMzcxOTg0Nzg1ODk4MywgMTI5OC40MzQ1MzAyODUwNiwgMTI5OC40OTcwNzU3ODQyMjE0LCAxMjk4LjU1OTYyMTI4MzM4MywgMTI5OC42MjIxNjY3ODI1NDQ2LCAxMjk4LjY4NDcxMjI4MTcwNjIsIDEyOTguNzQ3MjU3NzgwODY3OCwgMTI5OC44MDk4MDMyODAwMjk0LCAxMjk4Ljg3MjM0ODc3OTE5MSwgMTI5OC45MzQ4OTQyNzgzNTI3LCAxMjk4Ljk5NzQzOTc3NzUxNCwgMTI5OS4wNTk5ODUyNzY2NzU3LCAxMjk5LjEyMjUzMDc3NTgzNzMsIDEyOTkuMTg1MDc2Mjc0OTk5LCAxMjk5LjI0NzYyMTc3NDE2MDUsIDEyOTkuMzEwMTY3MjczMzIyMSwgMTI5OS4zNzI3MTI3NzI0ODM3LCAxMjk5LjQzNTI1ODI3MTY0NTQsIDEyOTkuNDk3ODAzNzcwODA3LCAxMjk5LjU2MDM0OTI2OTk2ODQsIDEyOTkuNjIyODk0NzY5MTMsIDEyOTkuNjg1NDQwMjY4MjkxNiwgMTI5OS43NDc5ODU3Njc0NTMyLCAxMjk5LjgxMDUzMTI2NjYxNDgsIDEyOTkuODczMDc2NzY1Nzc2NCwgMTI5OS45MzU2MjIyNjQ5MzgsIDEyOTkuOTk4MTY3NzY0MDk5NywgMTMwMC4wNjA3MTMyNjMyNjEsIDEzMDAuMTIzMjU4NzYyNDIyNywgMTMwMC4xODU4MDQyNjE1ODQzLCAxMzAwLjI0ODM0OTc2MDc0NiwgMTMwMC4zMTA4OTUyNTk5MDc1LCAxMzAwLjM3MzQ0MDc1OTA2OTEsIDEzMDAuNDM1OTg2MjU4MjMwNywgMTMwMC40OTg1MzE3NTczOTI0LCAxMzAwLjU2MTA3NzI1NjU1NCwgMTMwMC42MjM2MjI3NTU3MTU0LCAxMzAwLjY4NjE2ODI1NDg3NywgMTMwMC43NDg3MTM3NTQwMzg2LCAxMzAwLjgxMTI1OTI1MzIwMDIsIDEzMDAuODczODA0NzUyMzYxOCwgMTMwMC45MzYzNTAyNTE1MjM0LCAxMzAwLjk5ODg5NTc1MDY4NSwgMTMwMS4wNjE0NDEyNDk4NDY3LCAxMzAxLjEyMzk4Njc0OTAwODMsIDEzMDEuMTg2NTMyMjQ4MTY5NywgMTMwMS4yNDkwNzc3NDczMzEzLCAxMzAxLjMxMTYyMzI0NjQ5MywgMTMwMS4zNzQxNjg3NDU2NTQ1LCAxMzAxLjQzNjcxNDI0NDgxNjEsIDEzMDEuNDk5MjU5NzQzOTc3NywgMTMwMS41NjE4MDUyNDMxMzk0LCAxMzAxLjYyNDM1MDc0MjMwMSwgMTMwMS42ODY4OTYyNDE0NjI0LCAxMzAxLjc0OTQ0MTc0MDYyNCwgMTMwMS44MTE5ODcyMzk3ODU2LCAxMzAxLjg3NDUzMjczODk0NzIsIDEzMDEuOTM3MDc4MjM4MTA4OCwgMTMwMS45OTk2MjM3MzcyNzA0LCAxMzAyLjA2MjE2OTIzNjQzMiwgMTMwMi4xMjQ3MTQ3MzU1OTM3LCAxMzAyLjE4NzI2MDIzNDc1NTMsIDEzMDIuMjQ5ODA1NzMzOTE2NywgMTMwMi4zMTIzNTEyMzMwNzgzLCAxMzAyLjM3NDg5NjczMjI0LCAxMzAyLjQzNzQ0MjIzMTQwMTUsIDEzMDIuNDk5OTg3NzMwNTYzMSwgMTMwMi41NjI1MzMyMjk3MjQ3LCAxMzAyLjYyNTA3ODcyODg4NjQsIDEzMDIuNjg3NjI0MjI4MDQ4LCAxMzAyLjc1MDE2OTcyNzIwOTYsIDEzMDIuODEyNzE1MjI2MzcxLCAxMzAyLjg3NTI2MDcyNTUzMjYsIDEzMDIuOTM3ODA2MjI0Njk0MiwgMTMwMy4wMDAzNTE3MjM4NTU4LCAxMzAzLjA2Mjg5NzIyMzAxNzQsIDEzMDMuMTI1NDQyNzIyMTc5LCAxMzAzLjE4Nzk4ODIyMTM0MDcsIDEzMDMuMjUwNTMzNzIwNTAyMywgMTMwMy4zMTMwNzkyMTk2NjM3LCAxMzAzLjM3NTYyNDcxODgyNTMsIDEzMDMuNDM4MTcwMjE3OTg3LCAxMzAzLjUwMDcxNTcxNzE0ODUsIDEzMDMuNTYzMjYxMjE2MzEwMSwgMTMwMy42MjU4MDY3MTU0NzE4LCAxMzAzLjY4ODM1MjIxNDYzMzQsIDEzMDMuNzUwODk3NzEzNzk1LCAxMzAzLjgxMzQ0MzIxMjk1NjYsIDEzMDMuODc1OTg4NzEyMTE4LCAxMzAzLjkzODUzNDIxMTI3OTYsIDEzMDQuMDAxMDc5NzEwNDQxMiwgMTMwNC4wNjM2MjUyMDk2MDI4LCAxMzA0LjEyNjE3MDcwODc2NDQsIDEzMDQuMTg4NzE2MjA3OTI2LCAxMzA0LjI1MTI2MTcwNzA4NzcsIDEzMDQuMzEzODA3MjA2MjQ5MywgMTMwNC4zNzYzNTI3MDU0MTA3LCAxMzA0LjQzODg5ODIwNDU3MjMsIDEzMDQuNTAxNDQzNzAzNzM0LCAxMzA0LjU2Mzk4OTIwMjg5NTUsIDEzMDQuNjI2NTM0NzAyMDU3MSwgMTMwNC42ODkwODAyMDEyMTg4LCAxMzA0Ljc1MTYyNTcwMDM4MDQsIDEzMDQuODE0MTcxMTk5NTQyLCAxMzA0Ljg3NjcxNjY5ODcwMzYsIDEzMDQuOTM5MjYyMTk3ODY1LCAxMzA1LjAwMTgwNzY5NzAyNjYsIDEzMDUuMDY0MzUzMTk2MTg4MiwgMTMwNS4xMjY4OTg2OTUzNDk4LCAxMzA1LjE4OTQ0NDE5NDUxMTUsIDEzMDUuMjUxOTg5NjkzNjczLCAxMzA1LjMxNDUzNTE5MjgzNDcsIDEzMDUuMzc3MDgwNjkxOTk2MywgMTMwNS40Mzk2MjYxOTExNTgsIDEzMDUuNTAyMTcxNjkwMzE5MywgMTMwNS41NjQ3MTcxODk0ODEsIDEzMDUuNjI3MjYyNjg4NjQyNSwgMTMwNS42ODk4MDgxODc4MDQxLCAxMzA1Ljc1MjM1MzY4Njk2NTgsIDEzMDUuODE0ODk5MTg2MTI3NCwgMTMwNS44Nzc0NDQ2ODUyODksIDEzMDUuOTM5OTkwMTg0NDUwNiwgMTMwNi4wMDI1MzU2ODM2MTIsIDEzMDYuMDY1MDgxMTgyNzczNiwgMTMwNi4xMjc2MjY2ODE5MzUyLCAxMzA2LjE5MDE3MjE4MTA5NjgsIDEzMDYuMjUyNzE3NjgwMjU4NSwgMTMwNi4zMTUyNjMxNzk0MiwgMTMwNi4zNzc4MDg2Nzg1ODE3LCAxMzA2LjQ0MDM1NDE3Nzc0MzMsIDEzMDYuNTAyODk5Njc2OTA1LCAxMzA2LjU2NTQ0NTE3NjA2NjMsIDEzMDYuNjI3OTkwNjc1MjI4LCAxMzA2LjY5MDUzNjE3NDM4OTUsIDEzMDYuNzUzMDgxNjczNTUxMiwgMTMwNi44MTU2MjcxNzI3MTI4LCAxMzA2Ljg3ODE3MjY3MTg3NDQsIDEzMDYuOTQwNzE4MTcxMDM2LCAxMzA3LjAwMzI2MzY3MDE5NzYsIDEzMDcuMDY1ODA5MTY5MzU5LCAxMzA3LjEyODM1NDY2ODUyMDYsIDEzMDcuMTkwOTAwMTY3NjgyMiwgMTMwNy4yNTM0NDU2NjY4NDM4LCAxMzA3LjMxNTk5MTE2NjAwNTUsIDEzMDcuMzc4NTM2NjY1MTY3LCAxMzA3LjQ0MTA4MjE2NDMyODcsIDEzMDcuNTAzNjI3NjYzNDkwMywgMTMwNy41NjYxNzMxNjI2NTIsIDEzMDcuNjI4NzE4NjYxODEzMywgMTMwNy42OTEyNjQxNjA5NzUsIDEzMDcuNzUzODA5NjYwMTM2NSwgMTMwNy44MTYzNTUxNTkyOTgyLCAxMzA3Ljg3ODkwMDY1ODQ1OTgsIDEzMDcuOTQxNDQ2MTU3NjIxNCwgMTMwOC4wMDM5OTE2NTY3ODMsIDEzMDguMDY2NTM3MTU1OTQ0NiwgMTMwOC4xMjkwODI2NTUxMDYyLCAxMzA4LjE5MTYyODE1NDI2NzYsIDEzMDguMjU0MTczNjUzNDI5MiwgMTMwOC4zMTY3MTkxNTI1OTA4LCAxMzA4LjM3OTI2NDY1MTc1MjUsIDEzMDguNDQxODEwMTUwOTE0LCAxMzA4LjUwNDM1NTY1MDA3NTcsIDEzMDguNTY2OTAxMTQ5MjM3MywgMTMwOC42Mjk0NDY2NDgzOTksIDEzMDguNjkxOTkyMTQ3NTYwMywgMTMwOC43NTQ1Mzc2NDY3MjIsIDEzMDguODE3MDgzMTQ1ODgzNSwgMTMwOC44Nzk2Mjg2NDUwNDUyLCAxMzA4Ljk0MjE3NDE0NDIwNjgsIDEzMDkuMDA0NzE5NjQzMzY4NCwgMTMwOS4wNjcyNjUxNDI1MywgMTMwOS4xMjk4MTA2NDE2OTE2LCAxMzA5LjE5MjM1NjE0MDg1MzIsIDEzMDkuMjU0OTAxNjQwMDE0NiwgMTMwOS4zMTc0NDcxMzkxNzYyLCAxMzA5LjM3OTk5MjYzODMzNzksIDEzMDkuNDQyNTM4MTM3NDk5NSwgMTMwOS41MDUwODM2MzY2NjEsIDEzMDkuNTY3NjI5MTM1ODIyNywgMTMwOS42MzAxNzQ2MzQ5ODQzLCAxMzA5LjY5MjcyMDEzNDE0NiwgMTMwOS43NTUyNjU2MzMzMDczLCAxMzA5LjgxNzgxMTEzMjQ2OSwgMTMwOS44ODAzNTY2MzE2MzA1LCAxMzA5Ljk0MjkwMjEzMDc5MjIsIDEzMTAuMDA1NDQ3NjI5OTUzOCwgMTMxMC4wNjc5OTMxMjkxMTU0LCAxMzEwLjEzMDUzODYyODI3NywgMTMxMC4xOTMwODQxMjc0Mzg2LCAxMzEwLjI1NTYyOTYyNjYwMDIsIDEzMTAuMzE4MTc1MTI1NzYxNiwgMTMxMC4zODA3MjA2MjQ5MjMyLCAxMzEwLjQ0MzI2NjEyNDA4NDksIDEzMTAuNTA1ODExNjIzMjQ2NSwgMTMxMC41NjgzNTcxMjI0MDgsIDEzMTAuNjMwOTAyNjIxNTY5NywgMTMxMC42OTM0NDgxMjA3MzEzLCAxMzEwLjc1NTk5MzYxOTg5MywgMTMxMC44MTg1MzkxMTkwNTQ1LCAxMzEwLjg4MTA4NDYxODIxNiwgMTMxMC45NDM2MzAxMTczNzc2LCAxMzExLjAwNjE3NTYxNjUzOTIsIDEzMTEuMDY4NzIxMTE1NzAwOCwgMTMxMS4xMzEyNjY2MTQ4NjI0LCAxMzExLjE5MzgxMjExNDAyNCwgMTMxMS4yNTYzNTc2MTMxODU2LCAxMzExLjMxODkwMzExMjM0NzIsIDEzMTEuMzgxNDQ4NjExNTA4NiwgMTMxMS40NDM5OTQxMTA2NzAyLCAxMzExLjUwNjUzOTYwOTgzMTksIDEzMTEuNTY5MDg1MTA4OTkzNSwgMTMxMS42MzE2MzA2MDgxNTUsIDEzMTEuNjk0MTc2MTA3MzE2NywgMTMxMS43NTY3MjE2MDY0NzgzLCAxMzExLjgxOTI2NzEwNTY0LCAxMzExLjg4MTgxMjYwNDgwMTYsIDEzMTEuOTQ0MzU4MTAzOTYzLCAxMzEyLjAwNjkwMzYwMzEyNDYsIDEzMTIuMDY5NDQ5MTAyMjg2MiwgMTMxMi4xMzE5OTQ2MDE0NDc4LCAxMzEyLjE5NDU0MDEwMDYwOTQsIDEzMTIuMjU3MDg1NTk5NzcxLCAxMzEyLjMxOTYzMTA5ODkzMjYsIDEzMTIuMzgyMTc2NTk4MDk0MiwgMTMxMi40NDQ3MjIwOTcyNTU2LCAxMzEyLjUwNzI2NzU5NjQxNzMsIDEzMTIuNTY5ODEzMDk1NTc4OSwgMTMxMi42MzIzNTg1OTQ3NDA1LCAxMzEyLjY5NDkwNDA5MzkwMiwgMTMxMi43NTc0NDk1OTMwNjM3LCAxMzEyLjgxOTk5NTA5MjIyNTMsIDEzMTIuODgyNTQwNTkxMzg3LCAxMzEyLjk0NTA4NjA5MDU0ODYsIDEzMTMuMDA3NjMxNTg5NzEsIDEzMTMuMDcwMTc3MDg4ODcxNiwgMTMxMy4xMzI3MjI1ODgwMzMyLCAxMzEzLjE5NTI2ODA4NzE5NDgsIDEzMTMuMjU3ODEzNTg2MzU2NCwgMTMxMy4zMjAzNTkwODU1MTgsIDEzMTMuMzgyOTA0NTg0Njc5NiwgMTMxMy40NDU0NTAwODM4NDEzLCAxMzEzLjUwNzk5NTU4MzAwMjksIDEzMTMuNTcwNTQxMDgyMTY0MywgMTMxMy42MzMwODY1ODEzMjU5LCAxMzEzLjY5NTYzMjA4MDQ4NzUsIDEzMTMuNzU4MTc3NTc5NjQ5LCAxMzEzLjgyMDcyMzA3ODgxMDcsIDEzMTMuODgzMjY4NTc3OTcyMywgMTMxMy45NDU4MTQwNzcxMzQsIDEzMTQuMDA4MzU5NTc2Mjk1NiwgMTMxNC4wNzA5MDUwNzU0NTcsIDEzMTQuMTMzNDUwNTc0NjE4NiwgMTMxNC4xOTU5OTYwNzM3ODAyLCAxMzE0LjI1ODU0MTU3Mjk0MTgsIDEzMTQuMzIxMDg3MDcyMTAzNCwgMTMxNC4zODM2MzI1NzEyNjUsIDEzMTQuNDQ2MTc4MDcwNDI2NiwgMTMxNC41MDg3MjM1Njk1ODgzLCAxMzE0LjU3MTI2OTA2ODc0OTksIDEzMTQuNjMzODE0NTY3OTExMywgMTMxNC42OTYzNjAwNjcwNzI5LCAxMzE0Ljc1ODkwNTU2NjIzNDUsIDEzMTQuODIxNDUxMDY1Mzk2LCAxMzE0Ljg4Mzk5NjU2NDU1NzcsIDEzMTQuOTQ2NTQyMDYzNzE5MywgMTMxNS4wMDkwODc1NjI4ODEsIDEzMTUuMDcxNjMzMDYyMDQyNiwgMTMxNS4xMzQxNzg1NjEyMDQsIDEzMTUuMTk2NzI0MDYwMzY1NiwgMTMxNS4yNTkyNjk1NTk1MjcyLCAxMzE1LjMyMTgxNTA1ODY4ODgsIDEzMTUuMzg0MzYwNTU3ODUwNCwgMTMxNS40NDY5MDYwNTcwMTIsIDEzMTUuNTA5NDUxNTU2MTczNiwgMTMxNS41NzE5OTcwNTUzMzUzLCAxMzE1LjYzNDU0MjU1NDQ5NjksIDEzMTUuNjk3MDg4MDUzNjU4MywgMTMxNS43NTk2MzM1NTI4MTk5LCAxMzE1LjgyMjE3OTA1MTk4MTUsIDEzMTUuODg0NzI0NTUxMTQzLCAxMzE1Ljk0NzI3MDA1MDMwNDcsIDEzMTYuMDA5ODE1NTQ5NDY2MywgMTMxNi4wNzIzNjEwNDg2MjgsIDEzMTYuMTM0OTA2NTQ3Nzg5NiwgMTMxNi4xOTc0NTIwNDY5NTEyLCAxMzE2LjI1OTk5NzU0NjExMjYsIDEzMTYuMzIyNTQzMDQ1Mjc0MiwgMTMxNi4zODUwODg1NDQ0MzU4LCAxMzE2LjQ0NzYzNDA0MzU5NzQsIDEzMTYuNTEwMTc5NTQyNzU5LCAxMzE2LjU3MjcyNTA0MTkyMDYsIDEzMTYuNjM1MjcwNTQxMDgyMywgMTMxNi42OTc4MTYwNDAyNDM5LCAxMzE2Ljc2MDM2MTUzOTQwNTMsIDEzMTYuODIyOTA3MDM4NTY2OSwgMTMxNi44ODU0NTI1Mzc3Mjg1LCAxMzE2Ljk0Nzk5ODAzNjg5LCAxMzE3LjAxMDU0MzUzNjA1MTcsIDEzMTcuMDczMDg5MDM1MjEzMywgMTMxNy4xMzU2MzQ1MzQzNzUsIDEzMTcuMTk4MTgwMDMzNTM2NiwgMTMxNy4yNjA3MjU1MzI2OTgyLCAxMzE3LjMyMzI3MTAzMTg1OTYsIDEzMTcuMzg1ODE2NTMxMDIxMiwgMTMxNy40NDgzNjIwMzAxODI4LCAxMzE3LjUxMDkwNzUyOTM0NDQsIDEzMTcuNTczNDUzMDI4NTA2LCAxMzE3LjYzNTk5ODUyNzY2NzcsIDEzMTcuNjk4NTQ0MDI2ODI5MywgMTMxNy43NjEwODk1MjU5OTA5LCAxMzE3LjgyMzYzNTAyNTE1MjMsIDEzMTcuODg2MTgwNTI0MzEzOSwgMTMxNy45NDg3MjYwMjM0NzU1LCAxMzE4LjAxMTI3MTUyMjYzNzEsIDEzMTguMDczODE3MDIxNzk4NywgMTMxOC4xMzYzNjI1MjA5NjAzLCAxMzE4LjE5ODkwODAyMDEyMiwgMTMxOC4yNjE0NTM1MTkyODM2LCAxMzE4LjMyMzk5OTAxODQ0NTIsIDEzMTguMzg2NTQ0NTE3NjA2NiwgMTMxOC40NDkwOTAwMTY3NjgyLCAxMzE4LjUxMTYzNTUxNTkyOTgsIDEzMTguNTc0MTgxMDE1MDkxNCwgMTMxOC42MzY3MjY1MTQyNTMsIDEzMTguNjk5MjcyMDEzNDE0NywgMTMxOC43NjE4MTc1MTI1NzYzLCAxMzE4LjgyNDM2MzAxMTczOCwgMTMxOC44ODY5MDg1MTA4OTk1LCAxMzE4Ljk0OTQ1NDAxMDA2MSwgMTMxOS4wMTE5OTk1MDkyMjI1LCAxMzE5LjA3NDU0NTAwODM4NDEsIDEzMTkuMTM3MDkwNTA3NTQ1NywgMTMxOS4xOTk2MzYwMDY3MDc0LCAxMzE5LjI2MjE4MTUwNTg2OSwgMTMxOS4zMjQ3MjcwMDUwMzA2LCAxMzE5LjM4NzI3MjUwNDE5MjIsIDEzMTkuNDQ5ODE4MDAzMzUzNiwgMTMxOS41MTIzNjM1MDI1MTUyLCAxMzE5LjU3NDkwOTAwMTY3NjgsIDEzMTkuNjM3NDU0NTAwODM4NCwgMTMxOS43XSkKICAgICAgICAgICAgICAucmFuZ2UoWycjZjFlZWY2JywgJyNmMWVlZjYnLCAnI2YxZWVmNicsICcjZjFlZWY2JywgJyNmMWVlZjYnLCAnI2YxZWVmNicsICcjZjFlZWY2JywgJyNmMWVlZjYnLCAnI2YxZWVmNicsICcjZjFlZWY2JywgJyNmMWVlZjYnLCAnI2YxZWVmNicsICcjZjFlZWY2JywgJyNmMWVlZjYnLCAnI2YxZWVmNicsICcjZjFlZWY2JywgJyNmMWVlZjYnLCAnI2YxZWVmNicsICcjZjFlZWY2JywgJyNmMWVlZjYnLCAnI2YxZWVmNicsICcjZjFlZWY2JywgJyNmMWVlZjYnLCAnI2YxZWVmNicsICcjZjFlZWY2JywgJyNmMWVlZjYnLCAnI2YxZWVmNicsICcjZjFlZWY2JywgJyNmMWVlZjYnLCAnI2YxZWVmNicsICcjZjFlZWY2JywgJyNmMWVlZjYnLCAnI2YxZWVmNicsICcjZjFlZWY2JywgJyNmMWVlZjYnLCAnI2YxZWVmNicsICcjZjFlZWY2JywgJyNmMWVlZjYnLCAnI2YxZWVmNicsICcjZjFlZWY2JywgJyNmMWVlZjYnLCAnI2YxZWVmNicsICcjZjFlZWY2JywgJyNmMWVlZjYnLCAnI2YxZWVmNicsICcjZjFlZWY2JywgJyNmMWVlZjYnLCAnI2YxZWVmNicsICcjZjFlZWY2JywgJyNmMWVlZjYnLCAnI2YxZWVmNicsICcjZjFlZWY2JywgJyNmMWVlZjYnLCAnI2YxZWVmNicsICcjZjFlZWY2JywgJyNmMWVlZjYnLCAnI2YxZWVmNicsICcjZjFlZWY2JywgJyNmMWVlZjYnLCAnI2YxZWVmNicsICcjZjFlZWY2JywgJyNmMWVlZjYnLCAnI2YxZWVmNicsICcjZjFlZWY2JywgJyNmMWVlZjYnLCAnI2YxZWVmNicsICcjZjFlZWY2JywgJyNmMWVlZjYnLCAnI2YxZWVmNicsICcjZjFlZWY2JywgJyNmMWVlZjYnLCAnI2YxZWVmNicsICcjZjFlZWY2JywgJyNmMWVlZjYnLCAnI2YxZWVmNicsICcjZjFlZWY2JywgJyNmMWVlZjYnLCAnI2YxZWVmNicsICcjZjFlZWY2JywgJyNmMWVlZjYnLCAnI2YxZWVmNicsICcjZjFlZWY2JywgJyNmMWVlZjYnLCAnI2YxZWVmNicsICcjZDRiOWRhJywgJyNkNGI5ZGEnLCAnI2Q0YjlkYScsICcjZDRiOWRhJywgJyNkNGI5ZGEnLCAnI2Q0YjlkYScsICcjZDRiOWRhJywgJyNkNGI5ZGEnLCAnI2Q0YjlkYScsICcjZDRiOWRhJywgJyNkNGI5ZGEnLCAnI2Q0YjlkYScsICcjZDRiOWRhJywgJyNkNGI5ZGEnLCAnI2Q0YjlkYScsICcjZDRiOWRhJywgJyNkNGI5ZGEnLCAnI2Q0YjlkYScsICcjZDRiOWRhJywgJyNkNGI5ZGEnLCAnI2Q0YjlkYScsICcjZDRiOWRhJywgJyNkNGI5ZGEnLCAnI2Q0YjlkYScsICcjZDRiOWRhJywgJyNkNGI5ZGEnLCAnI2Q0YjlkYScsICcjZDRiOWRhJywgJyNkNGI5ZGEnLCAnI2Q0YjlkYScsICcjZDRiOWRhJywgJyNkNGI5ZGEnLCAnI2Q0YjlkYScsICcjZDRiOWRhJywgJyNkNGI5ZGEnLCAnI2Q0YjlkYScsICcjZDRiOWRhJywgJyNkNGI5ZGEnLCAnI2Q0YjlkYScsICcjZDRiOWRhJywgJyNkNGI5ZGEnLCAnI2Q0YjlkYScsICcjZDRiOWRhJywgJyNkNGI5ZGEnLCAnI2Q0YjlkYScsICcjZDRiOWRhJywgJyNkNGI5ZGEnLCAnI2Q0YjlkYScsICcjZDRiOWRhJywgJyNkNGI5ZGEnLCAnI2Q0YjlkYScsICcjZDRiOWRhJywgJyNkNGI5ZGEnLCAnI2Q0YjlkYScsICcjZDRiOWRhJywgJyNkNGI5ZGEnLCAnI2Q0YjlkYScsICcjZDRiOWRhJywgJyNkNGI5ZGEnLCAnI2Q0YjlkYScsICcjZDRiOWRhJywgJyNkNGI5ZGEnLCAnI2Q0YjlkYScsICcjZDRiOWRhJywgJyNkNGI5ZGEnLCAnI2Q0YjlkYScsICcjZDRiOWRhJywgJyNkNGI5ZGEnLCAnI2Q0YjlkYScsICcjZDRiOWRhJywgJyNkNGI5ZGEnLCAnI2Q0YjlkYScsICcjZDRiOWRhJywgJyNkNGI5ZGEnLCAnI2Q0YjlkYScsICcjZDRiOWRhJywgJyNkNGI5ZGEnLCAnI2Q0YjlkYScsICcjZDRiOWRhJywgJyNkNGI5ZGEnLCAnI2Q0YjlkYScsICcjZDRiOWRhJywgJyNkNGI5ZGEnLCAnI2M5OTRjNycsICcjYzk5NGM3JywgJyNjOTk0YzcnLCAnI2M5OTRjNycsICcjYzk5NGM3JywgJyNjOTk0YzcnLCAnI2M5OTRjNycsICcjYzk5NGM3JywgJyNjOTk0YzcnLCAnI2M5OTRjNycsICcjYzk5NGM3JywgJyNjOTk0YzcnLCAnI2M5OTRjNycsICcjYzk5NGM3JywgJyNjOTk0YzcnLCAnI2M5OTRjNycsICcjYzk5NGM3JywgJyNjOTk0YzcnLCAnI2M5OTRjNycsICcjYzk5NGM3JywgJyNjOTk0YzcnLCAnI2M5OTRjNycsICcjYzk5NGM3JywgJyNjOTk0YzcnLCAnI2M5OTRjNycsICcjYzk5NGM3JywgJyNjOTk0YzcnLCAnI2M5OTRjNycsICcjYzk5NGM3JywgJyNjOTk0YzcnLCAnI2M5OTRjNycsICcjYzk5NGM3JywgJyNjOTk0YzcnLCAnI2M5OTRjNycsICcjYzk5NGM3JywgJyNjOTk0YzcnLCAnI2M5OTRjNycsICcjYzk5NGM3JywgJyNjOTk0YzcnLCAnI2M5OTRjNycsICcjYzk5NGM3JywgJyNjOTk0YzcnLCAnI2M5OTRjNycsICcjYzk5NGM3JywgJyNjOTk0YzcnLCAnI2M5OTRjNycsICcjYzk5NGM3JywgJyNjOTk0YzcnLCAnI2M5OTRjNycsICcjYzk5NGM3JywgJyNjOTk0YzcnLCAnI2M5OTRjNycsICcjYzk5NGM3JywgJyNjOTk0YzcnLCAnI2M5OTRjNycsICcjYzk5NGM3JywgJyNjOTk0YzcnLCAnI2M5OTRjNycsICcjYzk5NGM3JywgJyNjOTk0YzcnLCAnI2M5OTRjNycsICcjYzk5NGM3JywgJyNjOTk0YzcnLCAnI2M5OTRjNycsICcjYzk5NGM3JywgJyNjOTk0YzcnLCAnI2M5OTRjNycsICcjYzk5NGM3JywgJyNjOTk0YzcnLCAnI2M5OTRjNycsICcjYzk5NGM3JywgJyNjOTk0YzcnLCAnI2M5OTRjNycsICcjYzk5NGM3JywgJyNjOTk0YzcnLCAnI2M5OTRjNycsICcjYzk5NGM3JywgJyNjOTk0YzcnLCAnI2M5OTRjNycsICcjYzk5NGM3JywgJyNjOTk0YzcnLCAnI2M5OTRjNycsICcjYzk5NGM3JywgJyNkZjY1YjAnLCAnI2RmNjViMCcsICcjZGY2NWIwJywgJyNkZjY1YjAnLCAnI2RmNjViMCcsICcjZGY2NWIwJywgJyNkZjY1YjAnLCAnI2RmNjViMCcsICcjZGY2NWIwJywgJyNkZjY1YjAnLCAnI2RmNjViMCcsICcjZGY2NWIwJywgJyNkZjY1YjAnLCAnI2RmNjViMCcsICcjZGY2NWIwJywgJyNkZjY1YjAnLCAnI2RmNjViMCcsICcjZGY2NWIwJywgJyNkZjY1YjAnLCAnI2RmNjViMCcsICcjZGY2NWIwJywgJyNkZjY1YjAnLCAnI2RmNjViMCcsICcjZGY2NWIwJywgJyNkZjY1YjAnLCAnI2RmNjViMCcsICcjZGY2NWIwJywgJyNkZjY1YjAnLCAnI2RmNjViMCcsICcjZGY2NWIwJywgJyNkZjY1YjAnLCAnI2RmNjViMCcsICcjZGY2NWIwJywgJyNkZjY1YjAnLCAnI2RmNjViMCcsICcjZGY2NWIwJywgJyNkZjY1YjAnLCAnI2RmNjViMCcsICcjZGY2NWIwJywgJyNkZjY1YjAnLCAnI2RmNjViMCcsICcjZGY2NWIwJywgJyNkZjY1YjAnLCAnI2RmNjViMCcsICcjZGY2NWIwJywgJyNkZjY1YjAnLCAnI2RmNjViMCcsICcjZGY2NWIwJywgJyNkZjY1YjAnLCAnI2RmNjViMCcsICcjZGY2NWIwJywgJyNkZjY1YjAnLCAnI2RmNjViMCcsICcjZGY2NWIwJywgJyNkZjY1YjAnLCAnI2RmNjViMCcsICcjZGY2NWIwJywgJyNkZjY1YjAnLCAnI2RmNjViMCcsICcjZGY2NWIwJywgJyNkZjY1YjAnLCAnI2RmNjViMCcsICcjZGY2NWIwJywgJyNkZjY1YjAnLCAnI2RmNjViMCcsICcjZGY2NWIwJywgJyNkZjY1YjAnLCAnI2RmNjViMCcsICcjZGY2NWIwJywgJyNkZjY1YjAnLCAnI2RmNjViMCcsICcjZGY2NWIwJywgJyNkZjY1YjAnLCAnI2RmNjViMCcsICcjZGY2NWIwJywgJyNkZjY1YjAnLCAnI2RmNjViMCcsICcjZGY2NWIwJywgJyNkZjY1YjAnLCAnI2RmNjViMCcsICcjZGY2NWIwJywgJyNkZjY1YjAnLCAnI2RmNjViMCcsICcjZGQxYzc3JywgJyNkZDFjNzcnLCAnI2RkMWM3NycsICcjZGQxYzc3JywgJyNkZDFjNzcnLCAnI2RkMWM3NycsICcjZGQxYzc3JywgJyNkZDFjNzcnLCAnI2RkMWM3NycsICcjZGQxYzc3JywgJyNkZDFjNzcnLCAnI2RkMWM3NycsICcjZGQxYzc3JywgJyNkZDFjNzcnLCAnI2RkMWM3NycsICcjZGQxYzc3JywgJyNkZDFjNzcnLCAnI2RkMWM3NycsICcjZGQxYzc3JywgJyNkZDFjNzcnLCAnI2RkMWM3NycsICcjZGQxYzc3JywgJyNkZDFjNzcnLCAnI2RkMWM3NycsICcjZGQxYzc3JywgJyNkZDFjNzcnLCAnI2RkMWM3NycsICcjZGQxYzc3JywgJyNkZDFjNzcnLCAnI2RkMWM3NycsICcjZGQxYzc3JywgJyNkZDFjNzcnLCAnI2RkMWM3NycsICcjZGQxYzc3JywgJyNkZDFjNzcnLCAnI2RkMWM3NycsICcjZGQxYzc3JywgJyNkZDFjNzcnLCAnI2RkMWM3NycsICcjZGQxYzc3JywgJyNkZDFjNzcnLCAnI2RkMWM3NycsICcjZGQxYzc3JywgJyNkZDFjNzcnLCAnI2RkMWM3NycsICcjZGQxYzc3JywgJyNkZDFjNzcnLCAnI2RkMWM3NycsICcjZGQxYzc3JywgJyNkZDFjNzcnLCAnI2RkMWM3NycsICcjZGQxYzc3JywgJyNkZDFjNzcnLCAnI2RkMWM3NycsICcjZGQxYzc3JywgJyNkZDFjNzcnLCAnI2RkMWM3NycsICcjZGQxYzc3JywgJyNkZDFjNzcnLCAnI2RkMWM3NycsICcjZGQxYzc3JywgJyNkZDFjNzcnLCAnI2RkMWM3NycsICcjZGQxYzc3JywgJyNkZDFjNzcnLCAnI2RkMWM3NycsICcjZGQxYzc3JywgJyNkZDFjNzcnLCAnI2RkMWM3NycsICcjZGQxYzc3JywgJyNkZDFjNzcnLCAnI2RkMWM3NycsICcjZGQxYzc3JywgJyNkZDFjNzcnLCAnI2RkMWM3NycsICcjZGQxYzc3JywgJyNkZDFjNzcnLCAnI2RkMWM3NycsICcjZGQxYzc3JywgJyNkZDFjNzcnLCAnI2RkMWM3NycsICcjZGQxYzc3JywgJyNkZDFjNzcnLCAnIzk4MDA0MycsICcjOTgwMDQzJywgJyM5ODAwNDMnLCAnIzk4MDA0MycsICcjOTgwMDQzJywgJyM5ODAwNDMnLCAnIzk4MDA0MycsICcjOTgwMDQzJywgJyM5ODAwNDMnLCAnIzk4MDA0MycsICcjOTgwMDQzJywgJyM5ODAwNDMnLCAnIzk4MDA0MycsICcjOTgwMDQzJywgJyM5ODAwNDMnLCAnIzk4MDA0MycsICcjOTgwMDQzJywgJyM5ODAwNDMnLCAnIzk4MDA0MycsICcjOTgwMDQzJywgJyM5ODAwNDMnLCAnIzk4MDA0MycsICcjOTgwMDQzJywgJyM5ODAwNDMnLCAnIzk4MDA0MycsICcjOTgwMDQzJywgJyM5ODAwNDMnLCAnIzk4MDA0MycsICcjOTgwMDQzJywgJyM5ODAwNDMnLCAnIzk4MDA0MycsICcjOTgwMDQzJywgJyM5ODAwNDMnLCAnIzk4MDA0MycsICcjOTgwMDQzJywgJyM5ODAwNDMnLCAnIzk4MDA0MycsICcjOTgwMDQzJywgJyM5ODAwNDMnLCAnIzk4MDA0MycsICcjOTgwMDQzJywgJyM5ODAwNDMnLCAnIzk4MDA0MycsICcjOTgwMDQzJywgJyM5ODAwNDMnLCAnIzk4MDA0MycsICcjOTgwMDQzJywgJyM5ODAwNDMnLCAnIzk4MDA0MycsICcjOTgwMDQzJywgJyM5ODAwNDMnLCAnIzk4MDA0MycsICcjOTgwMDQzJywgJyM5ODAwNDMnLCAnIzk4MDA0MycsICcjOTgwMDQzJywgJyM5ODAwNDMnLCAnIzk4MDA0MycsICcjOTgwMDQzJywgJyM5ODAwNDMnLCAnIzk4MDA0MycsICcjOTgwMDQzJywgJyM5ODAwNDMnLCAnIzk4MDA0MycsICcjOTgwMDQzJywgJyM5ODAwNDMnLCAnIzk4MDA0MycsICcjOTgwMDQzJywgJyM5ODAwNDMnLCAnIzk4MDA0MycsICcjOTgwMDQzJywgJyM5ODAwNDMnLCAnIzk4MDA0MycsICcjOTgwMDQzJywgJyM5ODAwNDMnLCAnIzk4MDA0MycsICcjOTgwMDQzJywgJyM5ODAwNDMnLCAnIzk4MDA0MycsICcjOTgwMDQzJywgJyM5ODAwNDMnLCAnIzk4MDA0MycsICcjOTgwMDQzJywgJyM5ODAwNDMnXSk7CiAgICAKCiAgICBjb2xvcl9tYXBfYTdlMzUyYzIzYTk2NGU3ZmFiOWUwYWRlYjVhZmYxZDMueCA9IGQzLnNjYWxlLmxpbmVhcigpCiAgICAgICAgICAgICAgLmRvbWFpbihbMTI4OC40ODk3OTU5MTgzNjcyLCAxMzE5LjddKQogICAgICAgICAgICAgIC5yYW5nZShbMCwgNDAwXSk7CgogICAgY29sb3JfbWFwX2E3ZTM1MmMyM2E5NjRlN2ZhYjllMGFkZWI1YWZmMWQzLmxlZ2VuZCA9IEwuY29udHJvbCh7cG9zaXRpb246ICd0b3ByaWdodCd9KTsKICAgIGNvbG9yX21hcF9hN2UzNTJjMjNhOTY0ZTdmYWI5ZTBhZGViNWFmZjFkMy5sZWdlbmQub25BZGQgPSBmdW5jdGlvbiAobWFwKSB7dmFyIGRpdiA9IEwuRG9tVXRpbC5jcmVhdGUoJ2RpdicsICdsZWdlbmQnKTsgcmV0dXJuIGRpdn07CiAgICBjb2xvcl9tYXBfYTdlMzUyYzIzYTk2NGU3ZmFiOWUwYWRlYjVhZmYxZDMubGVnZW5kLmFkZFRvKG1hcF82NDk4YjFlNGVjODI0OWMwOTU0N2RlZDU5YzZmNDE4Nyk7CgogICAgY29sb3JfbWFwX2E3ZTM1MmMyM2E5NjRlN2ZhYjllMGFkZWI1YWZmMWQzLnhBeGlzID0gZDMuc3ZnLmF4aXMoKQogICAgICAgIC5zY2FsZShjb2xvcl9tYXBfYTdlMzUyYzIzYTk2NGU3ZmFiOWUwYWRlYjVhZmYxZDMueCkKICAgICAgICAub3JpZW50KCJ0b3AiKQogICAgICAgIC50aWNrU2l6ZSgxKQogICAgICAgIC50aWNrVmFsdWVzKFsxMjg4LjQ4OTc5NTkxODM2NzIsIDEyOTMuNjkxNDk2NTk4NjM5MywgMTI5OC44OTMxOTcyNzg5MTE0LCAxMzA0LjA5NDg5Nzk1OTE4MzUsIDEzMDkuMjk2NTk4NjM5NDU1OSwgMTMxNC40OTgyOTkzMTk3MjgsIDEzMTkuN10pOwoKICAgIGNvbG9yX21hcF9hN2UzNTJjMjNhOTY0ZTdmYWI5ZTBhZGViNWFmZjFkMy5zdmcgPSBkMy5zZWxlY3QoIi5sZWdlbmQubGVhZmxldC1jb250cm9sIikuYXBwZW5kKCJzdmciKQogICAgICAgIC5hdHRyKCJpZCIsICdsZWdlbmQnKQogICAgICAgIC5hdHRyKCJ3aWR0aCIsIDQ1MCkKICAgICAgICAuYXR0cigiaGVpZ2h0IiwgNDApOwoKICAgIGNvbG9yX21hcF9hN2UzNTJjMjNhOTY0ZTdmYWI5ZTBhZGViNWFmZjFkMy5nID0gY29sb3JfbWFwX2E3ZTM1MmMyM2E5NjRlN2ZhYjllMGFkZWI1YWZmMWQzLnN2Zy5hcHBlbmQoImciKQogICAgICAgIC5hdHRyKCJjbGFzcyIsICJrZXkiKQogICAgICAgIC5hdHRyKCJ0cmFuc2Zvcm0iLCAidHJhbnNsYXRlKDI1LDE2KSIpOwoKICAgIGNvbG9yX21hcF9hN2UzNTJjMjNhOTY0ZTdmYWI5ZTBhZGViNWFmZjFkMy5nLnNlbGVjdEFsbCgicmVjdCIpCiAgICAgICAgLmRhdGEoY29sb3JfbWFwX2E3ZTM1MmMyM2E5NjRlN2ZhYjllMGFkZWI1YWZmMWQzLmNvbG9yLnJhbmdlKCkubWFwKGZ1bmN0aW9uKGQsIGkpIHsKICAgICAgICAgIHJldHVybiB7CiAgICAgICAgICAgIHgwOiBpID8gY29sb3JfbWFwX2E3ZTM1MmMyM2E5NjRlN2ZhYjllMGFkZWI1YWZmMWQzLngoY29sb3JfbWFwX2E3ZTM1MmMyM2E5NjRlN2ZhYjllMGFkZWI1YWZmMWQzLmNvbG9yLmRvbWFpbigpW2kgLSAxXSkgOiBjb2xvcl9tYXBfYTdlMzUyYzIzYTk2NGU3ZmFiOWUwYWRlYjVhZmYxZDMueC5yYW5nZSgpWzBdLAogICAgICAgICAgICB4MTogaSA8IGNvbG9yX21hcF9hN2UzNTJjMjNhOTY0ZTdmYWI5ZTBhZGViNWFmZjFkMy5jb2xvci5kb21haW4oKS5sZW5ndGggPyBjb2xvcl9tYXBfYTdlMzUyYzIzYTk2NGU3ZmFiOWUwYWRlYjVhZmYxZDMueChjb2xvcl9tYXBfYTdlMzUyYzIzYTk2NGU3ZmFiOWUwYWRlYjVhZmYxZDMuY29sb3IuZG9tYWluKClbaV0pIDogY29sb3JfbWFwX2E3ZTM1MmMyM2E5NjRlN2ZhYjllMGFkZWI1YWZmMWQzLngucmFuZ2UoKVsxXSwKICAgICAgICAgICAgejogZAogICAgICAgICAgfTsKICAgICAgICB9KSkKICAgICAgLmVudGVyKCkuYXBwZW5kKCJyZWN0IikKICAgICAgICAuYXR0cigiaGVpZ2h0IiwgMTApCiAgICAgICAgLmF0dHIoIngiLCBmdW5jdGlvbihkKSB7IHJldHVybiBkLngwOyB9KQogICAgICAgIC5hdHRyKCJ3aWR0aCIsIGZ1bmN0aW9uKGQpIHsgcmV0dXJuIGQueDEgLSBkLngwOyB9KQogICAgICAgIC5zdHlsZSgiZmlsbCIsIGZ1bmN0aW9uKGQpIHsgcmV0dXJuIGQuejsgfSk7CgogICAgY29sb3JfbWFwX2E3ZTM1MmMyM2E5NjRlN2ZhYjllMGFkZWI1YWZmMWQzLmcuY2FsbChjb2xvcl9tYXBfYTdlMzUyYzIzYTk2NGU3ZmFiOWUwYWRlYjVhZmYxZDMueEF4aXMpLmFwcGVuZCgidGV4dCIpCiAgICAgICAgLmF0dHIoImNsYXNzIiwgImNhcHRpb24iKQogICAgICAgIC5hdHRyKCJ5IiwgMjEpCiAgICAgICAgLnRleHQoJycpOwo8L3NjcmlwdD4=\" style=\"position:absolute;width:100%;height:100%;left:0;top:0;border:none !important;\" allowfullscreen webkitallowfullscreen mozallowfullscreen></iframe></div></div>"
      ],
      "text/plain": [
       "<folium.folium.Map at 0x15c7c4a8>"
      ]
     },
     "execution_count": 49,
     "metadata": {},
     "output_type": "execute_result"
    }
   ],
   "source": [
    "geo_path = '../data/05. skorea_municipalities_geo_simple2.json'\n",
    "geo_data = json.load(open(geo_path, encoding='utf-8'))\n",
    "map = folium.Map(location=[35.848987 , 128.72818], zoom_start=10.5, tiles='Stamen Toner')\n",
    "map.choropleth(geo_data = geo_data,\n",
    "               data = gu_data,\n",
    "               columns=[gu_data.index, '가격'],\n",
    "               fill_color='PuRd',\n",
    "               key_on='feature.id')\n",
    "map"
   ]
  },
  {
   "cell_type": "code",
   "execution_count": 50,
   "metadata": {},
   "outputs": [
    {
     "data": {
      "text/html": [
       "<div>\n",
       "<style>\n",
       "    .dataframe thead tr:only-child th {\n",
       "        text-align: right;\n",
       "    }\n",
       "\n",
       "    .dataframe thead th {\n",
       "        text-align: left;\n",
       "    }\n",
       "\n",
       "    .dataframe tbody tr th {\n",
       "        vertical-align: top;\n",
       "    }\n",
       "</style>\n",
       "<table border=\"1\" class=\"dataframe\">\n",
       "  <thead>\n",
       "    <tr style=\"text-align: right;\">\n",
       "      <th></th>\n",
       "      <th>Oil_store</th>\n",
       "      <th>가격</th>\n",
       "      <th>상표</th>\n",
       "      <th>셀프</th>\n",
       "      <th>주소</th>\n",
       "      <th>구</th>\n",
       "    </tr>\n",
       "  </thead>\n",
       "  <tbody>\n",
       "    <tr>\n",
       "      <th>278</th>\n",
       "      <td>서대구공단주유소</td>\n",
       "      <td>1567.0</td>\n",
       "      <td>GS칼텍스</td>\n",
       "      <td>N</td>\n",
       "      <td>대구 서구 와룡로 358 (중리동)</td>\n",
       "      <td>서구</td>\n",
       "    </tr>\n",
       "    <tr>\n",
       "      <th>337</th>\n",
       "      <td>조양주유소</td>\n",
       "      <td>1519.0</td>\n",
       "      <td>SK에너지</td>\n",
       "      <td>N</td>\n",
       "      <td>대구 중구 달구벌대로 2194 (남산동)</td>\n",
       "      <td>중구</td>\n",
       "    </tr>\n",
       "    <tr>\n",
       "      <th>172</th>\n",
       "      <td>문화주유소</td>\n",
       "      <td>1499.0</td>\n",
       "      <td>GS칼텍스</td>\n",
       "      <td>N</td>\n",
       "      <td>대구 동구 동부로30길 90 (신천동)</td>\n",
       "      <td>동구</td>\n",
       "    </tr>\n",
       "    <tr>\n",
       "      <th>60</th>\n",
       "      <td>공단제일주유소</td>\n",
       "      <td>1499.0</td>\n",
       "      <td>SK에너지</td>\n",
       "      <td>N</td>\n",
       "      <td>대구 달서구 달서대로 455 (호산동)</td>\n",
       "      <td>달서구</td>\n",
       "    </tr>\n",
       "    <tr>\n",
       "      <th>363</th>\n",
       "      <td>영남이공대앞주유소</td>\n",
       "      <td>1498.0</td>\n",
       "      <td>SK에너지</td>\n",
       "      <td>N</td>\n",
       "      <td>대구광역시 남구  현충로 187 (대명동)</td>\n",
       "      <td>남구</td>\n",
       "    </tr>\n",
       "    <tr>\n",
       "      <th>240</th>\n",
       "      <td>KK(주) 침산주유소</td>\n",
       "      <td>1465.0</td>\n",
       "      <td>SK에너지</td>\n",
       "      <td>N</td>\n",
       "      <td>대구 북구 노원로 255 (침산동)</td>\n",
       "      <td>북구</td>\n",
       "    </tr>\n",
       "    <tr>\n",
       "      <th>59</th>\n",
       "      <td>대림공단주유소</td>\n",
       "      <td>1439.0</td>\n",
       "      <td>GS칼텍스</td>\n",
       "      <td>N</td>\n",
       "      <td>대구 달서구 달서대로 403 (호림동)</td>\n",
       "      <td>달서구</td>\n",
       "    </tr>\n",
       "    <tr>\n",
       "      <th>58</th>\n",
       "      <td>신도윤주유소</td>\n",
       "      <td>1435.0</td>\n",
       "      <td>S-OIL</td>\n",
       "      <td>N</td>\n",
       "      <td>대구 달서구 월배로 94 (진천동)</td>\n",
       "      <td>달서구</td>\n",
       "    </tr>\n",
       "    <tr>\n",
       "      <th>171</th>\n",
       "      <td>반야월주유소</td>\n",
       "      <td>1409.0</td>\n",
       "      <td>S-OIL</td>\n",
       "      <td>N</td>\n",
       "      <td>대구 동구 반야월로 199 (동호동)</td>\n",
       "      <td>동구</td>\n",
       "    </tr>\n",
       "    <tr>\n",
       "      <th>170</th>\n",
       "      <td>율하주유소</td>\n",
       "      <td>1399.0</td>\n",
       "      <td>S-OIL</td>\n",
       "      <td>N</td>\n",
       "      <td>대구광역시 동구 반야월로 104 (율하동)</td>\n",
       "      <td>동구</td>\n",
       "    </tr>\n",
       "  </tbody>\n",
       "</table>\n",
       "</div>"
      ],
      "text/plain": [
       "       Oil_store      가격     상표 셀프                       주소    구\n",
       "278     서대구공단주유소  1567.0  GS칼텍스  N      대구 서구 와룡로 358 (중리동)   서구\n",
       "337        조양주유소  1519.0  SK에너지  N   대구 중구 달구벌대로 2194 (남산동)   중구\n",
       "172        문화주유소  1499.0  GS칼텍스  N    대구 동구 동부로30길 90 (신천동)   동구\n",
       "60       공단제일주유소  1499.0  SK에너지  N    대구 달서구 달서대로 455 (호산동)  달서구\n",
       "363    영남이공대앞주유소  1498.0  SK에너지  N  대구광역시 남구  현충로 187 (대명동)   남구\n",
       "240  KK(주) 침산주유소  1465.0  SK에너지  N      대구 북구 노원로 255 (침산동)   북구\n",
       "59       대림공단주유소  1439.0  GS칼텍스  N    대구 달서구 달서대로 403 (호림동)  달서구\n",
       "58        신도윤주유소  1435.0  S-OIL  N      대구 달서구 월배로 94 (진천동)  달서구\n",
       "171       반야월주유소  1409.0  S-OIL  N     대구 동구 반야월로 199 (동호동)   동구\n",
       "170        율하주유소  1399.0  S-OIL  N  대구광역시 동구 반야월로 104 (율하동)   동구"
      ]
     },
     "execution_count": 50,
     "metadata": {},
     "output_type": "execute_result"
    }
   ],
   "source": [
    "oil_price_top10 = stations.sort_values(by='가격', ascending=False).head(10)\n",
    "oil_price_top10"
   ]
  },
  {
   "cell_type": "code",
   "execution_count": 51,
   "metadata": {},
   "outputs": [
    {
     "data": {
      "text/html": [
       "<div>\n",
       "<style>\n",
       "    .dataframe thead tr:only-child th {\n",
       "        text-align: right;\n",
       "    }\n",
       "\n",
       "    .dataframe thead th {\n",
       "        text-align: left;\n",
       "    }\n",
       "\n",
       "    .dataframe tbody tr th {\n",
       "        vertical-align: top;\n",
       "    }\n",
       "</style>\n",
       "<table border=\"1\" class=\"dataframe\">\n",
       "  <thead>\n",
       "    <tr style=\"text-align: right;\">\n",
       "      <th></th>\n",
       "      <th>Oil_store</th>\n",
       "      <th>가격</th>\n",
       "      <th>상표</th>\n",
       "      <th>셀프</th>\n",
       "      <th>주소</th>\n",
       "      <th>구</th>\n",
       "    </tr>\n",
       "  </thead>\n",
       "  <tbody>\n",
       "    <tr>\n",
       "      <th>338</th>\n",
       "      <td>삼구주유소</td>\n",
       "      <td>1237.0</td>\n",
       "      <td>GS칼텍스</td>\n",
       "      <td>N</td>\n",
       "      <td>대구 남구 중앙대로 237 (대명동)</td>\n",
       "      <td>남구</td>\n",
       "    </tr>\n",
       "    <tr>\n",
       "      <th>339</th>\n",
       "      <td>처음처럼주유소</td>\n",
       "      <td>1238.0</td>\n",
       "      <td>S-OIL</td>\n",
       "      <td>N</td>\n",
       "      <td>대구 남구 성당로 156 (대명동)</td>\n",
       "      <td>남구</td>\n",
       "    </tr>\n",
       "    <tr>\n",
       "      <th>340</th>\n",
       "      <td>미니주유소</td>\n",
       "      <td>1239.0</td>\n",
       "      <td>현대오일뱅크</td>\n",
       "      <td>N</td>\n",
       "      <td>대구 남구 중앙대로48길 6 (대명동)</td>\n",
       "      <td>남구</td>\n",
       "    </tr>\n",
       "    <tr>\n",
       "      <th>241</th>\n",
       "      <td>영신제2주유소</td>\n",
       "      <td>1243.0</td>\n",
       "      <td>알뜰주유소</td>\n",
       "      <td>Y</td>\n",
       "      <td>대구 서구 서대구로 207,  (평리동)</td>\n",
       "      <td>서구</td>\n",
       "    </tr>\n",
       "    <tr>\n",
       "      <th>242</th>\n",
       "      <td>(주)세아에너지</td>\n",
       "      <td>1245.0</td>\n",
       "      <td>S-OIL</td>\n",
       "      <td>Y</td>\n",
       "      <td>대구 서구 서대구로 105 (평리동)</td>\n",
       "      <td>서구</td>\n",
       "    </tr>\n",
       "    <tr>\n",
       "      <th>280</th>\n",
       "      <td>수성에스주유소</td>\n",
       "      <td>1245.0</td>\n",
       "      <td>SK에너지</td>\n",
       "      <td>Y</td>\n",
       "      <td>대구광역시 수성구  지범로 52 (지산동)</td>\n",
       "      <td>수성구</td>\n",
       "    </tr>\n",
       "    <tr>\n",
       "      <th>279</th>\n",
       "      <td>한결주유소</td>\n",
       "      <td>1245.0</td>\n",
       "      <td>S-OIL</td>\n",
       "      <td>Y</td>\n",
       "      <td>대구 수성구 지범로 50 (두산동)</td>\n",
       "      <td>수성구</td>\n",
       "    </tr>\n",
       "    <tr>\n",
       "      <th>243</th>\n",
       "      <td>광명주유소</td>\n",
       "      <td>1248.0</td>\n",
       "      <td>GS칼텍스</td>\n",
       "      <td>N</td>\n",
       "      <td>대구광역시 서구  서대구로 201 (평리동)</td>\n",
       "      <td>서구</td>\n",
       "    </tr>\n",
       "    <tr>\n",
       "      <th>244</th>\n",
       "      <td>평리주유소</td>\n",
       "      <td>1248.0</td>\n",
       "      <td>현대오일뱅크</td>\n",
       "      <td>Y</td>\n",
       "      <td>대구 서구 서대구로 227 (평리동)</td>\n",
       "      <td>서구</td>\n",
       "    </tr>\n",
       "    <tr>\n",
       "      <th>245</th>\n",
       "      <td>영신주유소</td>\n",
       "      <td>1248.0</td>\n",
       "      <td>알뜰주유소</td>\n",
       "      <td>Y</td>\n",
       "      <td>대구 서구 서대구로 210 (평리동)</td>\n",
       "      <td>서구</td>\n",
       "    </tr>\n",
       "  </tbody>\n",
       "</table>\n",
       "</div>"
      ],
      "text/plain": [
       "    Oil_store      가격      상표 셀프                        주소    구\n",
       "338     삼구주유소  1237.0   GS칼텍스  N      대구 남구 중앙대로 237 (대명동)   남구\n",
       "339   처음처럼주유소  1238.0   S-OIL  N       대구 남구 성당로 156 (대명동)   남구\n",
       "340     미니주유소  1239.0  현대오일뱅크  N     대구 남구 중앙대로48길 6 (대명동)   남구\n",
       "241   영신제2주유소  1243.0   알뜰주유소  Y    대구 서구 서대구로 207,  (평리동)   서구\n",
       "242  (주)세아에너지  1245.0   S-OIL  Y      대구 서구 서대구로 105 (평리동)   서구\n",
       "280   수성에스주유소  1245.0   SK에너지  Y   대구광역시 수성구  지범로 52 (지산동)  수성구\n",
       "279     한결주유소  1245.0   S-OIL  Y       대구 수성구 지범로 50 (두산동)  수성구\n",
       "243     광명주유소  1248.0   GS칼텍스  N  대구광역시 서구  서대구로 201 (평리동)   서구\n",
       "244     평리주유소  1248.0  현대오일뱅크  Y      대구 서구 서대구로 227 (평리동)   서구\n",
       "245     영신주유소  1248.0   알뜰주유소  Y      대구 서구 서대구로 210 (평리동)   서구"
      ]
     },
     "execution_count": 51,
     "metadata": {},
     "output_type": "execute_result"
    }
   ],
   "source": [
    "oil_price_bottom10 = stations.sort_values(by='가격', ascending=True).head(10)\n",
    "oil_price_bottom10"
   ]
  },
  {
   "cell_type": "code",
   "execution_count": 53,
   "metadata": {
    "collapsed": true
   },
   "outputs": [],
   "source": [
    "import googlemaps\n",
    "gmaps_key = \"*****************************\"\n",
    "gmaps = googlemaps.Client(key=gmaps_key)"
   ]
  },
  {
   "cell_type": "code",
   "execution_count": 55,
   "metadata": {},
   "outputs": [
    {
     "data": {
      "application/vnd.jupyter.widget-view+json": {
       "model_id": "126051b65296411f924de769598dc8b1",
       "version_major": 2,
       "version_minor": 0
      },
      "text/plain": [
       "A Jupyter Widget"
      ]
     },
     "metadata": {},
     "output_type": "display_data"
    },
    {
     "name": "stdout",
     "output_type": "stream",
     "text": [
      "\n"
     ]
    },
    {
     "data": {
      "text/html": [
       "<div>\n",
       "<style>\n",
       "    .dataframe thead tr:only-child th {\n",
       "        text-align: right;\n",
       "    }\n",
       "\n",
       "    .dataframe thead th {\n",
       "        text-align: left;\n",
       "    }\n",
       "\n",
       "    .dataframe tbody tr th {\n",
       "        vertical-align: top;\n",
       "    }\n",
       "</style>\n",
       "<table border=\"1\" class=\"dataframe\">\n",
       "  <thead>\n",
       "    <tr style=\"text-align: right;\">\n",
       "      <th></th>\n",
       "      <th>Oil_store</th>\n",
       "      <th>가격</th>\n",
       "      <th>상표</th>\n",
       "      <th>셀프</th>\n",
       "      <th>주소</th>\n",
       "      <th>구</th>\n",
       "      <th>lat</th>\n",
       "      <th>lng</th>\n",
       "    </tr>\n",
       "  </thead>\n",
       "  <tbody>\n",
       "    <tr>\n",
       "      <th>278</th>\n",
       "      <td>서대구공단주유소</td>\n",
       "      <td>1567.0</td>\n",
       "      <td>GS칼텍스</td>\n",
       "      <td>N</td>\n",
       "      <td>대구 서구 와룡로 358 (중리동)</td>\n",
       "      <td>서구</td>\n",
       "      <td>35.864375</td>\n",
       "      <td>128.537903</td>\n",
       "    </tr>\n",
       "    <tr>\n",
       "      <th>337</th>\n",
       "      <td>조양주유소</td>\n",
       "      <td>1519.0</td>\n",
       "      <td>SK에너지</td>\n",
       "      <td>N</td>\n",
       "      <td>대구 중구 달구벌대로 2194 (남산동)</td>\n",
       "      <td>중구</td>\n",
       "      <td>35.862649</td>\n",
       "      <td>128.603229</td>\n",
       "    </tr>\n",
       "    <tr>\n",
       "      <th>172</th>\n",
       "      <td>문화주유소</td>\n",
       "      <td>1499.0</td>\n",
       "      <td>GS칼텍스</td>\n",
       "      <td>N</td>\n",
       "      <td>대구 동구 동부로30길 90 (신천동)</td>\n",
       "      <td>동구</td>\n",
       "      <td>35.869074</td>\n",
       "      <td>128.628990</td>\n",
       "    </tr>\n",
       "    <tr>\n",
       "      <th>60</th>\n",
       "      <td>공단제일주유소</td>\n",
       "      <td>1499.0</td>\n",
       "      <td>SK에너지</td>\n",
       "      <td>N</td>\n",
       "      <td>대구 달서구 달서대로 455 (호산동)</td>\n",
       "      <td>달서구</td>\n",
       "      <td>35.840035</td>\n",
       "      <td>128.491519</td>\n",
       "    </tr>\n",
       "    <tr>\n",
       "      <th>363</th>\n",
       "      <td>영남이공대앞주유소</td>\n",
       "      <td>1498.0</td>\n",
       "      <td>SK에너지</td>\n",
       "      <td>N</td>\n",
       "      <td>대구광역시 남구  현충로 187 (대명동)</td>\n",
       "      <td>남구</td>\n",
       "      <td>35.849369</td>\n",
       "      <td>128.580479</td>\n",
       "    </tr>\n",
       "    <tr>\n",
       "      <th>240</th>\n",
       "      <td>KK(주) 침산주유소</td>\n",
       "      <td>1465.0</td>\n",
       "      <td>SK에너지</td>\n",
       "      <td>N</td>\n",
       "      <td>대구 북구 노원로 255 (침산동)</td>\n",
       "      <td>북구</td>\n",
       "      <td>35.901280</td>\n",
       "      <td>128.587847</td>\n",
       "    </tr>\n",
       "    <tr>\n",
       "      <th>59</th>\n",
       "      <td>대림공단주유소</td>\n",
       "      <td>1439.0</td>\n",
       "      <td>GS칼텍스</td>\n",
       "      <td>N</td>\n",
       "      <td>대구 달서구 달서대로 403 (호림동)</td>\n",
       "      <td>달서구</td>\n",
       "      <td>35.835250</td>\n",
       "      <td>128.491297</td>\n",
       "    </tr>\n",
       "    <tr>\n",
       "      <th>58</th>\n",
       "      <td>신도윤주유소</td>\n",
       "      <td>1435.0</td>\n",
       "      <td>S-OIL</td>\n",
       "      <td>N</td>\n",
       "      <td>대구 달서구 월배로 94 (진천동)</td>\n",
       "      <td>달서구</td>\n",
       "      <td>35.814047</td>\n",
       "      <td>128.524999</td>\n",
       "    </tr>\n",
       "    <tr>\n",
       "      <th>171</th>\n",
       "      <td>반야월주유소</td>\n",
       "      <td>1409.0</td>\n",
       "      <td>S-OIL</td>\n",
       "      <td>N</td>\n",
       "      <td>대구 동구 반야월로 199 (동호동)</td>\n",
       "      <td>동구</td>\n",
       "      <td>35.872298</td>\n",
       "      <td>128.710251</td>\n",
       "    </tr>\n",
       "    <tr>\n",
       "      <th>170</th>\n",
       "      <td>율하주유소</td>\n",
       "      <td>1399.0</td>\n",
       "      <td>S-OIL</td>\n",
       "      <td>N</td>\n",
       "      <td>대구광역시 동구 반야월로 104 (율하동)</td>\n",
       "      <td>동구</td>\n",
       "      <td>35.873266</td>\n",
       "      <td>128.699825</td>\n",
       "    </tr>\n",
       "  </tbody>\n",
       "</table>\n",
       "</div>"
      ],
      "text/plain": [
       "       Oil_store      가격     상표 셀프                       주소    구        lat  \\\n",
       "278     서대구공단주유소  1567.0  GS칼텍스  N      대구 서구 와룡로 358 (중리동)   서구  35.864375   \n",
       "337        조양주유소  1519.0  SK에너지  N   대구 중구 달구벌대로 2194 (남산동)   중구  35.862649   \n",
       "172        문화주유소  1499.0  GS칼텍스  N    대구 동구 동부로30길 90 (신천동)   동구  35.869074   \n",
       "60       공단제일주유소  1499.0  SK에너지  N    대구 달서구 달서대로 455 (호산동)  달서구  35.840035   \n",
       "363    영남이공대앞주유소  1498.0  SK에너지  N  대구광역시 남구  현충로 187 (대명동)   남구  35.849369   \n",
       "240  KK(주) 침산주유소  1465.0  SK에너지  N      대구 북구 노원로 255 (침산동)   북구  35.901280   \n",
       "59       대림공단주유소  1439.0  GS칼텍스  N    대구 달서구 달서대로 403 (호림동)  달서구  35.835250   \n",
       "58        신도윤주유소  1435.0  S-OIL  N      대구 달서구 월배로 94 (진천동)  달서구  35.814047   \n",
       "171       반야월주유소  1409.0  S-OIL  N     대구 동구 반야월로 199 (동호동)   동구  35.872298   \n",
       "170        율하주유소  1399.0  S-OIL  N  대구광역시 동구 반야월로 104 (율하동)   동구  35.873266   \n",
       "\n",
       "            lng  \n",
       "278  128.537903  \n",
       "337  128.603229  \n",
       "172  128.628990  \n",
       "60   128.491519  \n",
       "363  128.580479  \n",
       "240  128.587847  \n",
       "59   128.491297  \n",
       "58   128.524999  \n",
       "171  128.710251  \n",
       "170  128.699825  "
      ]
     },
     "execution_count": 55,
     "metadata": {},
     "output_type": "execute_result"
    }
   ],
   "source": [
    "from tqdm import tqdm_notebook\n",
    "\n",
    "lat = []\n",
    "lng = []\n",
    "\n",
    "for n in tqdm_notebook(oil_price_top10.index):\n",
    "    try:\n",
    "        tmp_add = str(oil_price_top10['주소'][n]).split(\"(\")[0]\n",
    "        tmp_map = gmaps.geocode(tmp_add)\n",
    "        \n",
    "        tmp_loc = tmp_map[0].get('geometry')\n",
    "        lat.append(tmp_loc['location']['lat'])\n",
    "        lng.append(tmp_loc['location']['lng'])\n",
    "    except:\n",
    "        lat.append(np.nan)\n",
    "        lng.append(np.nan)\n",
    "        print(\"Here is nan !\")\n",
    "oil_price_top10['lat'] = lat\n",
    "oil_price_top10['lng'] = lng\n",
    "oil_price_top10\n",
    "# 주소에 (를 기준으로 분리해서 GoogleMaps API로 검색하여 가장 비싼 주유소 lat lng 구함"
   ]
  },
  {
   "cell_type": "code",
   "execution_count": 56,
   "metadata": {},
   "outputs": [
    {
     "data": {
      "application/vnd.jupyter.widget-view+json": {
       "model_id": "ddfbcebcf9374649a55e9783b3c30b12",
       "version_major": 2,
       "version_minor": 0
      },
      "text/plain": [
       "A Jupyter Widget"
      ]
     },
     "metadata": {},
     "output_type": "display_data"
    },
    {
     "name": "stdout",
     "output_type": "stream",
     "text": [
      "\n"
     ]
    },
    {
     "data": {
      "text/html": [
       "<div>\n",
       "<style>\n",
       "    .dataframe thead tr:only-child th {\n",
       "        text-align: right;\n",
       "    }\n",
       "\n",
       "    .dataframe thead th {\n",
       "        text-align: left;\n",
       "    }\n",
       "\n",
       "    .dataframe tbody tr th {\n",
       "        vertical-align: top;\n",
       "    }\n",
       "</style>\n",
       "<table border=\"1\" class=\"dataframe\">\n",
       "  <thead>\n",
       "    <tr style=\"text-align: right;\">\n",
       "      <th></th>\n",
       "      <th>Oil_store</th>\n",
       "      <th>가격</th>\n",
       "      <th>상표</th>\n",
       "      <th>셀프</th>\n",
       "      <th>주소</th>\n",
       "      <th>구</th>\n",
       "      <th>lat</th>\n",
       "      <th>lng</th>\n",
       "    </tr>\n",
       "  </thead>\n",
       "  <tbody>\n",
       "    <tr>\n",
       "      <th>338</th>\n",
       "      <td>삼구주유소</td>\n",
       "      <td>1237.0</td>\n",
       "      <td>GS칼텍스</td>\n",
       "      <td>N</td>\n",
       "      <td>대구 남구 중앙대로 237 (대명동)</td>\n",
       "      <td>남구</td>\n",
       "      <td>35.854569</td>\n",
       "      <td>128.590260</td>\n",
       "    </tr>\n",
       "    <tr>\n",
       "      <th>339</th>\n",
       "      <td>처음처럼주유소</td>\n",
       "      <td>1238.0</td>\n",
       "      <td>S-OIL</td>\n",
       "      <td>N</td>\n",
       "      <td>대구 남구 성당로 156 (대명동)</td>\n",
       "      <td>남구</td>\n",
       "      <td>35.848190</td>\n",
       "      <td>128.569538</td>\n",
       "    </tr>\n",
       "    <tr>\n",
       "      <th>340</th>\n",
       "      <td>미니주유소</td>\n",
       "      <td>1239.0</td>\n",
       "      <td>현대오일뱅크</td>\n",
       "      <td>N</td>\n",
       "      <td>대구 남구 중앙대로48길 6 (대명동)</td>\n",
       "      <td>남구</td>\n",
       "      <td>35.852345</td>\n",
       "      <td>128.591132</td>\n",
       "    </tr>\n",
       "    <tr>\n",
       "      <th>241</th>\n",
       "      <td>영신제2주유소</td>\n",
       "      <td>1243.0</td>\n",
       "      <td>알뜰주유소</td>\n",
       "      <td>Y</td>\n",
       "      <td>대구 서구 서대구로 207,  (평리동)</td>\n",
       "      <td>서구</td>\n",
       "      <td>35.876601</td>\n",
       "      <td>128.554507</td>\n",
       "    </tr>\n",
       "    <tr>\n",
       "      <th>242</th>\n",
       "      <td>(주)세아에너지</td>\n",
       "      <td>1245.0</td>\n",
       "      <td>S-OIL</td>\n",
       "      <td>Y</td>\n",
       "      <td>대구 서구 서대구로 105 (평리동)</td>\n",
       "      <td>서구</td>\n",
       "      <td>35.867391</td>\n",
       "      <td>128.554988</td>\n",
       "    </tr>\n",
       "    <tr>\n",
       "      <th>280</th>\n",
       "      <td>수성에스주유소</td>\n",
       "      <td>1245.0</td>\n",
       "      <td>SK에너지</td>\n",
       "      <td>Y</td>\n",
       "      <td>대구광역시 수성구  지범로 52 (지산동)</td>\n",
       "      <td>수성구</td>\n",
       "      <td>35.814503</td>\n",
       "      <td>128.646002</td>\n",
       "    </tr>\n",
       "    <tr>\n",
       "      <th>279</th>\n",
       "      <td>한결주유소</td>\n",
       "      <td>1245.0</td>\n",
       "      <td>S-OIL</td>\n",
       "      <td>Y</td>\n",
       "      <td>대구 수성구 지범로 50 (두산동)</td>\n",
       "      <td>수성구</td>\n",
       "      <td>35.815304</td>\n",
       "      <td>128.645005</td>\n",
       "    </tr>\n",
       "    <tr>\n",
       "      <th>243</th>\n",
       "      <td>광명주유소</td>\n",
       "      <td>1248.0</td>\n",
       "      <td>GS칼텍스</td>\n",
       "      <td>N</td>\n",
       "      <td>대구광역시 서구  서대구로 201 (평리동)</td>\n",
       "      <td>서구</td>\n",
       "      <td>35.876103</td>\n",
       "      <td>128.554565</td>\n",
       "    </tr>\n",
       "    <tr>\n",
       "      <th>244</th>\n",
       "      <td>평리주유소</td>\n",
       "      <td>1248.0</td>\n",
       "      <td>현대오일뱅크</td>\n",
       "      <td>Y</td>\n",
       "      <td>대구 서구 서대구로 227 (평리동)</td>\n",
       "      <td>서구</td>\n",
       "      <td>35.878558</td>\n",
       "      <td>128.554575</td>\n",
       "    </tr>\n",
       "    <tr>\n",
       "      <th>245</th>\n",
       "      <td>영신주유소</td>\n",
       "      <td>1248.0</td>\n",
       "      <td>알뜰주유소</td>\n",
       "      <td>Y</td>\n",
       "      <td>대구 서구 서대구로 210 (평리동)</td>\n",
       "      <td>서구</td>\n",
       "      <td>35.876662</td>\n",
       "      <td>128.555351</td>\n",
       "    </tr>\n",
       "  </tbody>\n",
       "</table>\n",
       "</div>"
      ],
      "text/plain": [
       "    Oil_store      가격      상표 셀프                        주소    구        lat  \\\n",
       "338     삼구주유소  1237.0   GS칼텍스  N      대구 남구 중앙대로 237 (대명동)   남구  35.854569   \n",
       "339   처음처럼주유소  1238.0   S-OIL  N       대구 남구 성당로 156 (대명동)   남구  35.848190   \n",
       "340     미니주유소  1239.0  현대오일뱅크  N     대구 남구 중앙대로48길 6 (대명동)   남구  35.852345   \n",
       "241   영신제2주유소  1243.0   알뜰주유소  Y    대구 서구 서대구로 207,  (평리동)   서구  35.876601   \n",
       "242  (주)세아에너지  1245.0   S-OIL  Y      대구 서구 서대구로 105 (평리동)   서구  35.867391   \n",
       "280   수성에스주유소  1245.0   SK에너지  Y   대구광역시 수성구  지범로 52 (지산동)  수성구  35.814503   \n",
       "279     한결주유소  1245.0   S-OIL  Y       대구 수성구 지범로 50 (두산동)  수성구  35.815304   \n",
       "243     광명주유소  1248.0   GS칼텍스  N  대구광역시 서구  서대구로 201 (평리동)   서구  35.876103   \n",
       "244     평리주유소  1248.0  현대오일뱅크  Y      대구 서구 서대구로 227 (평리동)   서구  35.878558   \n",
       "245     영신주유소  1248.0   알뜰주유소  Y      대구 서구 서대구로 210 (평리동)   서구  35.876662   \n",
       "\n",
       "            lng  \n",
       "338  128.590260  \n",
       "339  128.569538  \n",
       "340  128.591132  \n",
       "241  128.554507  \n",
       "242  128.554988  \n",
       "280  128.646002  \n",
       "279  128.645005  \n",
       "243  128.554565  \n",
       "244  128.554575  \n",
       "245  128.555351  "
      ]
     },
     "execution_count": 56,
     "metadata": {},
     "output_type": "execute_result"
    }
   ],
   "source": [
    "lat = []\n",
    "lng = []\n",
    "\n",
    "for n in tqdm_notebook(oil_price_bottom10.index):\n",
    "    try:\n",
    "        tmp_add = oil_price_bottom10['주소'][n].split(\"(\")[0]\n",
    "        tmp_map = gmaps.geocode(tmp_add)\n",
    "        \n",
    "        tmp_loc = tmp_map[0].get('geometry')\n",
    "        lat.append(tmp_loc['location']['lat'])\n",
    "        lng.append(tmp_loc['location']['lng'])\n",
    "    except:\n",
    "        lat.append(np.nan)\n",
    "        lng.append(np.nan)\n",
    "        print(\"Here is nan !\")\n",
    "oil_price_bottom10['lat'] = lat\n",
    "oil_price_bottom10['lng'] = lng\n",
    "oil_price_bottom10\n",
    "# 주소에 (를 기준으로 분리해서 GoogleMaps API로 검색하여 가장 싼 주유소 lat lng 구함"
   ]
  },
  {
   "cell_type": "code",
   "execution_count": 62,
   "metadata": {},
   "outputs": [
    {
     "data": {
      "text/html": [
       "<div style=\"width:100%;\"><div style=\"position:relative;width:100%;height:0;padding-bottom:60%;\"><iframe src=\"data:text/html;charset=utf-8;base64,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\" style=\"position:absolute;width:100%;height:100%;left:0;top:0;border:none !important;\" allowfullscreen webkitallowfullscreen mozallowfullscreen></iframe></div></div>"
      ],
      "text/plain": [
       "<folium.folium.Map at 0x15181828>"
      ]
     },
     "execution_count": 62,
     "metadata": {},
     "output_type": "execute_result"
    }
   ],
   "source": [
    "map = folium.Map(location=[35.848987 , 128.72818], zoom_start=10.5)\n",
    "\n",
    "for n in oil_price_top10.index:\n",
    "    if pd.notnull(oil_price_top10['lat'][n]):\n",
    "        folium.CircleMarker([oil_price_top10['lat'][n], oil_price_top10['lng'][n]], \n",
    "                            radius=15, color='#CD3181', fill_color='#CD3181').add_to(map)\n",
    "        \n",
    "for n in oil_price_bottom10.index:\n",
    "    if pd.notnull(oil_price_bottom10['lat'][n]):\n",
    "                  folium.CircleMarker([oil_price_bottom10['lat'][n], oil_price_bottom10['lng'][n]],\n",
    "                            radius=15, color='#3186cc', fill_color='#3186cc').add_to(map)\n",
    "map                  \n",
    "# 가장 비싼 10개주유소를 빨간색 가장 싼 10개 주유소를 파란색으로 지도에 표시함            "
   ]
  }
 ],
 "metadata": {
  "kernelspec": {
   "display_name": "Python 3",
   "language": "python",
   "name": "python3"
  },
  "language_info": {
   "codemirror_mode": {
    "name": "ipython",
    "version": 3
   },
   "file_extension": ".py",
   "mimetype": "text/x-python",
   "name": "python",
   "nbconvert_exporter": "python",
   "pygments_lexer": "ipython3",
   "version": "3.6.2"
  }
 },
 "nbformat": 4,
 "nbformat_minor": 2
}
